{
  "nbformat": 4,
  "nbformat_minor": 0,
  "metadata": {
    "colab": {
      "provenance": [],
      "authorship_tag": "ABX9TyMTSbj7sOha+Ip0O2sKIOFg"
    },
    "kernelspec": {
      "name": "python3",
      "display_name": "Python 3"
    },
    "language_info": {
      "name": "python"
    }
  },
  "cells": [
    {
      "cell_type": "markdown",
      "source": [
        "# Chapter 2: Using the Python Interpreter"
      ],
      "metadata": {
        "id": "Cs0tauRObn1_"
      }
    },
    {
      "cell_type": "markdown",
      "source": [
        "The Python interpreter is generally installed in `/usr/local/bin/python(version#)`.\n",
        "However, it can also be installed in any directory of the user's choice.\n",
        "<br>\n",
        "To exit the interpreter, the user can type an end-of-file character or by typing the command: `quit()`.\n",
        "<br>\n",
        "<br>\n",
        "**Command line execution:** Use `python -c \"your_command\"` to run Python code directly from the terminal. This is similar to using the -c option in shell commands.\n",
        "<br>\n",
        "**Running Python Modules:** Execute `python -m module_name` to run a Python module as a script. This method uses the full module name and is useful for running built-in or installed modules directly.\n",
        "<br>\n",
        "**Interactive Mode After Script:** Add the -i flag before your script name (`python -i your_script.py`) to enter interactive mode after the script finishes. This allows you to inspect variables or continue working with the script's context.\n",
        "<br>\n",
        "<br>\n",
        "When passing arguments, the script name and other arguments are assigned to the `argv` variable in the `sys` module.\n",
        "<br>\n",
        "With no scripts or arguments, the length of `sys.argv[0]` is 0, an empty string.\n",
        "<br>\n",
        "Script name is standard input (-): `sys.argv[0]` is set to '-'\n",
        "<br>\n",
        "-c command used: `sys.argv[0]` is set to '-c'\n",
        "<br>\n",
        "-m module is used: `sys.argv[0]` is set to the full name of the located module.\n",
        "<br>\n",
        "<br>\n",
        "In the TTY, the interpreter is in interactive mode. The next command is then prompted with the **primary prompt** (>>>). Continuation lines are prompted with the **secondary prompt** (...).\n",
        "<br>\n",
        "<br>\n",
        "Python source files are encoded in UTF-8 by default.\n",
        "<br>\n",
        "To declare an encoding other than the default, a special comment line should be added as the first line of the file.\n",
        "<br>\n",
        "```python\n",
        "# -*- coding: encoding -*-\n",
        "```\n",
        "<br>\n",
        "An exception to the first line rule is when the source code starts with a UNIX “shebang” line. The declaration should then be added to the second line\n",
        "<br>\n",
        "\n",
        "```python\n",
        "#!/usr/bin/env python3\n",
        "#-*- coding: cp1252 -*-`\n",
        "```"
      ],
      "metadata": {
        "id": "ESAJUyH0b0Y_"
      }
    },
    {
      "cell_type": "markdown",
      "source": [
        "# Chapter 3. An Informal Introduction to Python"
      ],
      "metadata": {
        "id": "ITSM8t8R0jUa"
      }
    },
    {
      "cell_type": "markdown",
      "source": [
        "Comments begin with the hash character `#`, and extend to the end of the line. Comments can be added at the beginning of a line, or right behind whitespace or code. They can not be added within a string literal. For example, the first three comments are allowed, whereas the last line would not result in a comment.\n",
        "<br>"
      ],
      "metadata": {
        "id": "XkX9SiOQ1H-6"
      }
    },
    {
      "cell_type": "code",
      "source": [
        "# beginning of new line\n",
        "x = 2 # behind code\n",
        "      # behind whitespace\n",
        "y = \"# but not within a string literal\""
      ],
      "metadata": {
        "id": "FiaFR-JG1vvS"
      },
      "execution_count": 1,
      "outputs": []
    },
    {
      "cell_type": "markdown",
      "source": [
        "Within the interpretor or a script, the operators `+`, `-`, `*` and `/` can be used to perform arithmetic in an expression. You can also group expressions with parantheses, `()`."
      ],
      "metadata": {
        "id": "_4LrNmOk297-"
      }
    },
    {
      "cell_type": "code",
      "source": [
        "1 + 1"
      ],
      "metadata": {
        "colab": {
          "base_uri": "https://localhost:8080/"
        },
        "id": "OTGljY4C3Y1F",
        "outputId": "90b05a34-78cc-40bb-e6f0-4eb9365eeb3d"
      },
      "execution_count": 6,
      "outputs": [
        {
          "output_type": "execute_result",
          "data": {
            "text/plain": [
              "2"
            ]
          },
          "metadata": {},
          "execution_count": 6
        }
      ]
    },
    {
      "cell_type": "code",
      "source": [
        "10 - 2 * 3"
      ],
      "metadata": {
        "colab": {
          "base_uri": "https://localhost:8080/"
        },
        "id": "NSvYNFL53dgL",
        "outputId": "ab71d9e2-2355-4d99-eaee-9b70ba9a956d"
      },
      "execution_count": 7,
      "outputs": [
        {
          "output_type": "execute_result",
          "data": {
            "text/plain": [
              "4"
            ]
          },
          "metadata": {},
          "execution_count": 7
        }
      ]
    },
    {
      "cell_type": "code",
      "source": [
        "(10 - 2 * 3) / 4"
      ],
      "metadata": {
        "colab": {
          "base_uri": "https://localhost:8080/"
        },
        "id": "lUKk-ebc3h-Q",
        "outputId": "f64a95e9-4dc9-48e2-9700-da3abdfdf03b"
      },
      "execution_count": 8,
      "outputs": [
        {
          "output_type": "execute_result",
          "data": {
            "text/plain": [
              "1.0"
            ]
          },
          "metadata": {},
          "execution_count": 8
        }
      ]
    },
    {
      "cell_type": "code",
      "source": [
        "10 / 4"
      ],
      "metadata": {
        "colab": {
          "base_uri": "https://localhost:8080/"
        },
        "id": "lyxYZavJ3uIh",
        "outputId": "6d710521-cb61-4293-bb18-bc9cbe7c844b"
      },
      "execution_count": 9,
      "outputs": [
        {
          "output_type": "execute_result",
          "data": {
            "text/plain": [
              "2.5"
            ]
          },
          "metadata": {},
          "execution_count": 9
        }
      ]
    },
    {
      "cell_type": "markdown",
      "source": [
        "Integer values are of type **int**, and decimal values are of type **float**. Division will always return a float.\n",
        "<br>\n",
        "`//` floor division returns the integer result of a division\n",
        "<br>\n",
        "`%` the modulus operator returns the remainder of a division\n",
        "<br>\n",
        "`**` is used to calculate powers\n",
        "<br>\n",
        "`=` is used to assign a value to a variable"
      ],
      "metadata": {
        "id": "hjOxZU_53y2t"
      }
    },
    {
      "cell_type": "code",
      "source": [
        "15 // 6"
      ],
      "metadata": {
        "colab": {
          "base_uri": "https://localhost:8080/"
        },
        "id": "6cC9HNz-4lgs",
        "outputId": "d1295cc7-9f7e-4671-f3b3-1e4d379a1351"
      },
      "execution_count": 13,
      "outputs": [
        {
          "output_type": "execute_result",
          "data": {
            "text/plain": [
              "2"
            ]
          },
          "metadata": {},
          "execution_count": 13
        }
      ]
    },
    {
      "cell_type": "code",
      "source": [
        "15 % 6"
      ],
      "metadata": {
        "colab": {
          "base_uri": "https://localhost:8080/"
        },
        "id": "E0hnwBsm4ubL",
        "outputId": "c49954b1-0def-4bb3-c988-4f23b6825176"
      },
      "execution_count": 16,
      "outputs": [
        {
          "output_type": "execute_result",
          "data": {
            "text/plain": [
              "3"
            ]
          },
          "metadata": {},
          "execution_count": 16
        }
      ]
    },
    {
      "cell_type": "code",
      "source": [
        "2 ** 3"
      ],
      "metadata": {
        "colab": {
          "base_uri": "https://localhost:8080/"
        },
        "id": "TgRNNCO-462I",
        "outputId": "bc42134e-be63-43b8-eda9-6d27fde74fa0"
      },
      "execution_count": 17,
      "outputs": [
        {
          "output_type": "execute_result",
          "data": {
            "text/plain": [
              "8"
            ]
          },
          "metadata": {},
          "execution_count": 17
        }
      ]
    },
    {
      "cell_type": "code",
      "source": [
        "x = 10\n",
        "y = 2\n",
        "x * y"
      ],
      "metadata": {
        "colab": {
          "base_uri": "https://localhost:8080/"
        },
        "id": "dRX2c2Ym4-lO",
        "outputId": "9bab72ee-f1de-4565-8933-313a7436fc1e"
      },
      "execution_count": 18,
      "outputs": [
        {
          "output_type": "execute_result",
          "data": {
            "text/plain": [
              "20"
            ]
          },
          "metadata": {},
          "execution_count": 18
        }
      ]
    },
    {
      "cell_type": "code",
      "source": [
        "z # variables that have not been assigned will be undefined and draw an error"
      ],
      "metadata": {
        "colab": {
          "base_uri": "https://localhost:8080/",
          "height": 141
        },
        "id": "dmie5ofi5FYF",
        "outputId": "b1e11900-3ec7-419f-bbd5-62f5c153a31c"
      },
      "execution_count": 20,
      "outputs": [
        {
          "output_type": "error",
          "ename": "NameError",
          "evalue": "name 'z' is not defined",
          "traceback": [
            "\u001b[0;31m---------------------------------------------------------------------------\u001b[0m",
            "\u001b[0;31mNameError\u001b[0m                                 Traceback (most recent call last)",
            "\u001b[0;32m<ipython-input-20-7d23a8f34251>\u001b[0m in \u001b[0;36m<cell line: 1>\u001b[0;34m()\u001b[0m\n\u001b[0;32m----> 1\u001b[0;31m \u001b[0mz\u001b[0m \u001b[0;31m# variables that have not been assigned will be undefined and draw an error\u001b[0m\u001b[0;34m\u001b[0m\u001b[0;34m\u001b[0m\u001b[0m\n\u001b[0m",
            "\u001b[0;31mNameError\u001b[0m: name 'z' is not defined"
          ]
        }
      ]
    },
    {
      "cell_type": "markdown",
      "source": [
        "Texts in python are strings and are of type **str**. Enclosing strings in single quotes `''` or double quotes `\"\"` have no difference.\n",
        "<br>\n",
        "To quote a quote, we can either switch between single and double quotes, or use `\\` preceeding the quote.\n",
        "<br>\n",
        "We can use `\\n` to invoke a new line within a string when printed.\n",
        "<br>\n",
        "The `print()` function can often make strings more readable."
      ],
      "metadata": {
        "id": "SHjxPpqO5bQQ"
      }
    },
    {
      "cell_type": "code",
      "source": [
        "'Hello World!' # single quotes"
      ],
      "metadata": {
        "colab": {
          "base_uri": "https://localhost:8080/",
          "height": 35
        },
        "id": "3y-qBJ0n7MyP",
        "outputId": "5c7e7a19-b597-4f99-e6e4-d8a01d9f4927"
      },
      "execution_count": 24,
      "outputs": [
        {
          "output_type": "execute_result",
          "data": {
            "text/plain": [
              "'Hello World!'"
            ],
            "application/vnd.google.colaboratory.intrinsic+json": {
              "type": "string"
            }
          },
          "metadata": {},
          "execution_count": 24
        }
      ]
    },
    {
      "cell_type": "code",
      "source": [
        "\"Hello World!\" # double quotes"
      ],
      "metadata": {
        "colab": {
          "base_uri": "https://localhost:8080/",
          "height": 35
        },
        "id": "Qz_j4KL47QYX",
        "outputId": "e9c5b1d6-21be-4d6b-9dc6-192a5266eaa3"
      },
      "execution_count": 25,
      "outputs": [
        {
          "output_type": "execute_result",
          "data": {
            "text/plain": [
              "'Hello World!'"
            ],
            "application/vnd.google.colaboratory.intrinsic+json": {
              "type": "string"
            }
          },
          "metadata": {},
          "execution_count": 25
        }
      ]
    },
    {
      "cell_type": "code",
      "source": [
        "\"12345\" # numerical values can be strings as well"
      ],
      "metadata": {
        "colab": {
          "base_uri": "https://localhost:8080/",
          "height": 35
        },
        "id": "GIM4PzKK7VFG",
        "outputId": "e8d06d58-eef2-438a-e171-0d3af9674687"
      },
      "execution_count": 26,
      "outputs": [
        {
          "output_type": "execute_result",
          "data": {
            "text/plain": [
              "'12345'"
            ],
            "application/vnd.google.colaboratory.intrinsic+json": {
              "type": "string"
            }
          },
          "metadata": {},
          "execution_count": 26
        }
      ]
    },
    {
      "cell_type": "code",
      "source": [
        "\"'Hello World!', I said\" # single quotes within double quotes"
      ],
      "metadata": {
        "colab": {
          "base_uri": "https://localhost:8080/",
          "height": 35
        },
        "id": "dH99pUSg7huV",
        "outputId": "c95cec0b-dfdb-491e-df7b-83991acbf2b6"
      },
      "execution_count": 27,
      "outputs": [
        {
          "output_type": "execute_result",
          "data": {
            "text/plain": [
              "\"'Hello World!', I said\""
            ],
            "application/vnd.google.colaboratory.intrinsic+json": {
              "type": "string"
            }
          },
          "metadata": {},
          "execution_count": 27
        }
      ]
    },
    {
      "cell_type": "code",
      "source": [
        "\"\\\"Hello World!\\\", I said\" # using escape \\"
      ],
      "metadata": {
        "colab": {
          "base_uri": "https://localhost:8080/",
          "height": 35
        },
        "id": "SHFp4kBW7oLl",
        "outputId": "16fac567-4987-4a24-8e1c-e3a72930709f"
      },
      "execution_count": 28,
      "outputs": [
        {
          "output_type": "execute_result",
          "data": {
            "text/plain": [
              "'\"Hello World!\", I said'"
            ],
            "application/vnd.google.colaboratory.intrinsic+json": {
              "type": "string"
            }
          },
          "metadata": {},
          "execution_count": 28
        }
      ]
    },
    {
      "cell_type": "code",
      "source": [
        "\"First line \\nSecond line\" # new line \\n without print"
      ],
      "metadata": {
        "colab": {
          "base_uri": "https://localhost:8080/",
          "height": 35
        },
        "id": "Cc3BAEaW74e_",
        "outputId": "ee1e8aa1-7972-4f6f-9355-0af16c99aaa8"
      },
      "execution_count": 30,
      "outputs": [
        {
          "output_type": "execute_result",
          "data": {
            "text/plain": [
              "'First line \\nSecond line'"
            ],
            "application/vnd.google.colaboratory.intrinsic+json": {
              "type": "string"
            }
          },
          "metadata": {},
          "execution_count": 30
        }
      ]
    },
    {
      "cell_type": "code",
      "source": [
        "line = \"First line \\nSecond line\" # new line \\n with print\n",
        "print(line)"
      ],
      "metadata": {
        "colab": {
          "base_uri": "https://localhost:8080/"
        },
        "id": "ZRgk6W_b8Ik8",
        "outputId": "db7ebfac-ff6c-4f84-cb3c-fbc6275c0e55"
      },
      "execution_count": 31,
      "outputs": [
        {
          "output_type": "stream",
          "name": "stdout",
          "text": [
            "First line \n",
            "Second line\n"
          ]
        }
      ]
    },
    {
      "cell_type": "markdown",
      "source": [
        "Adding `r` in front of the first quotation turns the string into a raw string. Raw strings may be used to avoid `\\` being interpreted as special characters."
      ],
      "metadata": {
        "id": "kcfjnBww8T0L"
      }
    },
    {
      "cell_type": "code",
      "source": [
        "print(r'C:\\some\\name')  # note the r before the quote C:\\some\\name"
      ],
      "metadata": {
        "colab": {
          "base_uri": "https://localhost:8080/"
        },
        "id": "03sZGfm98m6U",
        "outputId": "83554ec1-4959-465c-c469-9f628089ffaa"
      },
      "execution_count": 32,
      "outputs": [
        {
          "output_type": "stream",
          "name": "stdout",
          "text": [
            "C:\\some\\name\n"
          ]
        }
      ]
    },
    {
      "cell_type": "markdown",
      "source": [
        "String literals can span multiple lines using triple quotes `\"\"\"...\"\"\"`, `'''...'''`. They can also be concatenated with `+` and repeated with `*`. Multiple string literals side by side are automatically concatenated."
      ],
      "metadata": {
        "id": "JAXRYeyj-7TS"
      }
    },
    {
      "cell_type": "code",
      "source": [
        "print(\"\"\"Hello World!\n",
        "      Hello World!\n",
        "                  Hello World!\n",
        "      \"\"\")"
      ],
      "metadata": {
        "colab": {
          "base_uri": "https://localhost:8080/"
        },
        "id": "kKCXpIrN_Z1V",
        "outputId": "40563c6f-ebb5-4367-dedd-95db3256c8cd"
      },
      "execution_count": 33,
      "outputs": [
        {
          "output_type": "stream",
          "name": "stdout",
          "text": [
            "Hello World!\n",
            "      Hello World!\n",
            "                  Hello World!\n",
            "      \n"
          ]
        }
      ]
    },
    {
      "cell_type": "code",
      "source": [
        "4 * \"la\" + \" \" + \"batman\""
      ],
      "metadata": {
        "colab": {
          "base_uri": "https://localhost:8080/",
          "height": 35
        },
        "id": "uUDfb2ta_lpA",
        "outputId": "13e08b24-47fe-4892-b1fe-485c09332260"
      },
      "execution_count": 34,
      "outputs": [
        {
          "output_type": "execute_result",
          "data": {
            "text/plain": [
              "'lalalala batman'"
            ],
            "application/vnd.google.colaboratory.intrinsic+json": {
              "type": "string"
            }
          },
          "metadata": {},
          "execution_count": 34
        }
      ]
    },
    {
      "cell_type": "code",
      "source": [
        "\"lalalala\" \" \" \"batman\""
      ],
      "metadata": {
        "colab": {
          "base_uri": "https://localhost:8080/",
          "height": 35
        },
        "id": "-YtPPEao_sdk",
        "outputId": "bd2a59ea-8db2-4a37-9519-abe4ff47b350"
      },
      "execution_count": 35,
      "outputs": [
        {
          "output_type": "execute_result",
          "data": {
            "text/plain": [
              "'lalalala batman'"
            ],
            "application/vnd.google.colaboratory.intrinsic+json": {
              "type": "string"
            }
          },
          "metadata": {},
          "execution_count": 35
        }
      ]
    },
    {
      "cell_type": "markdown",
      "source": [
        "Strings can be indexed in python, starting at index 0. There is no character 'char' type. A single character is simply a string of length and size 1. Negative indicies will index backwards, with index -1 being the last character of the string. (-0 is the same as 0)\n",
        "<br>\n",
        "You can also slice strings to obtain a substring. The beginning index is always included and the ending index is always excluded.\n",
        "<br>\n",
        "Attempting to index a string with a value that is too large will result in an error.\n",
        "<br>\n",
        "Strings are immutable, so you can not change them via indicies."
      ],
      "metadata": {
        "id": "SZP3Czd6_yO-"
      }
    },
    {
      "cell_type": "code",
      "source": [
        "word = \"Hello\"\n",
        "print(word[0]) # character at position 0\n",
        "print(word[2]) # character at position 0\n",
        "print(word[-1]) # character at position -1"
      ],
      "metadata": {
        "colab": {
          "base_uri": "https://localhost:8080/"
        },
        "id": "gXi6r8hUAxkf",
        "outputId": "aaf79f73-faa9-44b7-a216-8480cf398d1a"
      },
      "execution_count": 59,
      "outputs": [
        {
          "output_type": "stream",
          "name": "stdout",
          "text": [
            "H\n",
            "l\n",
            "o\n"
          ]
        }
      ]
    },
    {
      "cell_type": "code",
      "source": [
        "print(word[0:2]) # characters from position 0 (included) to position 2 (excluded)\n",
        "print(word[2:]) # characters from position 2 (included) to the end\n",
        "print(word[-2:]) # characters from position -2 (incluided) to the end"
      ],
      "metadata": {
        "colab": {
          "base_uri": "https://localhost:8080/"
        },
        "id": "ZHFoA9xJA6iB",
        "outputId": "278ecb95-fe53-480c-81d7-dc4336bf7c42"
      },
      "execution_count": 39,
      "outputs": [
        {
          "output_type": "stream",
          "name": "stdout",
          "text": [
            "He\n",
            "llo\n",
            "lo\n"
          ]
        }
      ]
    },
    {
      "cell_type": "markdown",
      "source": [
        "You can use the `len()` function to return the length of a string"
      ],
      "metadata": {
        "id": "1LuMnVh8BkFJ"
      }
    },
    {
      "cell_type": "code",
      "source": [
        "len(word)"
      ],
      "metadata": {
        "colab": {
          "base_uri": "https://localhost:8080/"
        },
        "id": "osz4M00MBn8-",
        "outputId": "ba482cff-eaac-4c00-e951-5be50cc90732"
      },
      "execution_count": 40,
      "outputs": [
        {
          "output_type": "execute_result",
          "data": {
            "text/plain": [
              "5"
            ]
          },
          "metadata": {},
          "execution_count": 40
        }
      ]
    },
    {
      "cell_type": "markdown",
      "source": [
        "Lists are a compound data type that can be written as a list of comma separated values, inside of square brackets. Certain lists can have multiple item types, but most lists will have items of the same type.\n",
        "<br>\n",
        "Lists can also be indexed and sliced much like strings. They also support concatenation.\n",
        "<br>\n",
        "However, the difference is that lists are mutable and can be changed via indicies. You can also add new items to the end of the list with `list.append()`."
      ],
      "metadata": {
        "id": "_mGy2_0BI-uN"
      }
    },
    {
      "cell_type": "code",
      "source": [
        "list = [1, 2, 3, 4, 5]\n",
        "list"
      ],
      "metadata": {
        "colab": {
          "base_uri": "https://localhost:8080/"
        },
        "id": "9ZYk1DpSJa6P",
        "outputId": "d617abf2-59cb-4256-b586-f20216c9f0df"
      },
      "execution_count": 44,
      "outputs": [
        {
          "output_type": "execute_result",
          "data": {
            "text/plain": [
              "[1, 2, 3, 4, 5]"
            ]
          },
          "metadata": {},
          "execution_count": 44
        }
      ]
    },
    {
      "cell_type": "code",
      "source": [
        "list[0]\n",
        "print(list[0]) # index 0\n",
        "list[2]\n",
        "print(list[1]) # index 1\n",
        "list[-1]\n",
        "print(list[-1]) # index -1"
      ],
      "metadata": {
        "colab": {
          "base_uri": "https://localhost:8080/"
        },
        "id": "lYJ6n71aJd5J",
        "outputId": "3e5d0d58-9707-4b67-8656-4db1267f482b"
      },
      "execution_count": 60,
      "outputs": [
        {
          "output_type": "stream",
          "name": "stdout",
          "text": [
            "1\n",
            "2\n",
            "5\n"
          ]
        }
      ]
    },
    {
      "cell_type": "code",
      "source": [
        "list[:3]\n",
        "print(list[:3]) # slicing from 0 (included) to 3 (not included)\n",
        "list[3:]\n",
        "print(list[3:]) # slicing from 3 (included) to the end"
      ],
      "metadata": {
        "colab": {
          "base_uri": "https://localhost:8080/"
        },
        "id": "49F4YSbGJosN",
        "outputId": "653b5a60-9c99-4f94-bf91-eb3a2f423eee"
      },
      "execution_count": 50,
      "outputs": [
        {
          "output_type": "stream",
          "name": "stdout",
          "text": [
            "[1, 2, 3]\n",
            "[4, 5]\n"
          ]
        }
      ]
    },
    {
      "cell_type": "code",
      "source": [
        "list2 = [6, 7, 8, 9, 10]\n",
        "list + list2"
      ],
      "metadata": {
        "colab": {
          "base_uri": "https://localhost:8080/"
        },
        "id": "zISFuAv-KF-U",
        "outputId": "439b0186-7afb-4ace-f550-1fcf3803fe6f"
      },
      "execution_count": 51,
      "outputs": [
        {
          "output_type": "execute_result",
          "data": {
            "text/plain": [
              "[1, 2, 3, 4, 5, 6, 7, 8, 9, 10]"
            ]
          },
          "metadata": {},
          "execution_count": 51
        }
      ]
    },
    {
      "cell_type": "code",
      "source": [
        "list3 = [2, 4, 5, 8, 10]\n",
        "list3[2] = 6\n",
        "print(list3)\n",
        "list3.append(12)\n",
        "print(list3)"
      ],
      "metadata": {
        "colab": {
          "base_uri": "https://localhost:8080/"
        },
        "id": "YG_jZP4pKKOn",
        "outputId": "000aa578-d14b-4ea3-f5ec-8c86f8795577"
      },
      "execution_count": 53,
      "outputs": [
        {
          "output_type": "stream",
          "name": "stdout",
          "text": [
            "[2, 4, 6, 8, 10]\n",
            "[2, 4, 6, 8, 10, 12]\n"
          ]
        }
      ]
    },
    {
      "cell_type": "markdown",
      "source": [
        "Simple assignment in Python will not copy data. Both variables in the assignment will refer to the same thing. Operations done on one variable will be reflected in the other as well.\n",
        "<br>\n",
        "You may also assign to slices. However, this may change the size of the list.\n",
        "<br>\n",
        "The `len()` function also applies to lists.\n",
        "<br>\n",
        "Furthermore, lists can be nested to create multiple dimensions."
      ],
      "metadata": {
        "id": "9iBhVcm1Kfo6"
      }
    },
    {
      "cell_type": "code",
      "source": [
        "len(list)"
      ],
      "metadata": {
        "colab": {
          "base_uri": "https://localhost:8080/"
        },
        "id": "7-1TgIveLh_q",
        "outputId": "10d87992-59a9-44bd-c657-325b9ce9d9dd"
      },
      "execution_count": 54,
      "outputs": [
        {
          "output_type": "execute_result",
          "data": {
            "text/plain": [
              "5"
            ]
          },
          "metadata": {},
          "execution_count": 54
        }
      ]
    },
    {
      "cell_type": "code",
      "source": [
        "a = [1, 2, 3]\n",
        "b = ['a', 'b', 'c']\n",
        "c = [a, b]\n",
        "c"
      ],
      "metadata": {
        "colab": {
          "base_uri": "https://localhost:8080/"
        },
        "id": "SQL1OO4nLkWy",
        "outputId": "d6afce0c-27a2-496e-aeab-a32e7c1ba1ff"
      },
      "execution_count": 56,
      "outputs": [
        {
          "output_type": "execute_result",
          "data": {
            "text/plain": [
              "[[1, 2, 3], ['a', 'b', 'c']]"
            ]
          },
          "metadata": {},
          "execution_count": 56
        }
      ]
    },
    {
      "cell_type": "code",
      "source": [
        "print(c[0])\n",
        "print(c[0][1])"
      ],
      "metadata": {
        "colab": {
          "base_uri": "https://localhost:8080/"
        },
        "id": "Iphlvn19LyrI",
        "outputId": "08ef207f-38c1-4ba1-d413-2ece2568ed9e"
      },
      "execution_count": 58,
      "outputs": [
        {
          "output_type": "stream",
          "name": "stdout",
          "text": [
            "[1, 2, 3]\n",
            "2\n"
          ]
        }
      ]
    }
  ]
}