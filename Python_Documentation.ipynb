{
  "nbformat": 4,
  "nbformat_minor": 0,
  "metadata": {
    "colab": {
      "provenance": [],
      "authorship_tag": "ABX9TyP69FDoRlrn4qAJWBONSbP3"
    },
    "kernelspec": {
      "name": "python3",
      "display_name": "Python 3"
    },
    "language_info": {
      "name": "python"
    }
  },
  "cells": [
    {
      "cell_type": "markdown",
      "source": [
        "# Chapter 2: Using the Python Interpreter"
      ],
      "metadata": {
        "id": "Cs0tauRObn1_"
      }
    },
    {
      "cell_type": "markdown",
      "source": [
        "####Interpreter"
      ],
      "metadata": {
        "id": "SnpgIqT0NAHh"
      }
    },
    {
      "cell_type": "markdown",
      "source": [
        "The Python interpreter is generally installed in `/usr/local/bin/python(version#)`.\n",
        "However, it can also be installed in any directory of the user's choice.\n",
        "<br>\n",
        "To exit the interpreter, the user can type an end-of-file character or by typing the command: `quit()`.\n",
        "<br>\n",
        "<br>\n",
        "**Command line execution:** Use `python -c \"your_command\"` to run Python code directly from the terminal. This is similar to using the -c option in shell commands.\n",
        "<br>\n",
        "**Running Python Modules:** Execute `python -m module_name` to run a Python module as a script. This method uses the full module name and is useful for running built-in or installed modules directly.\n",
        "<br>\n",
        "**Interactive Mode After Script:** Add the -i flag before your script name (`python -i your_script.py`) to enter interactive mode after the script finishes. This allows you to inspect variables or continue working with the script's context.\n",
        "<br>\n",
        "<br>\n",
        "When passing arguments, the script name and other arguments are assigned to the `argv` variable in the `sys` module.\n",
        "<br>\n",
        "With no scripts or arguments, the length of `sys.argv[0]` is 0, an empty string.\n",
        "<br>\n",
        "Script name is standard input (-): `sys.argv[0]` is set to '-'\n",
        "<br>\n",
        "-c command used: `sys.argv[0]` is set to '-c'\n",
        "<br>\n",
        "-m module is used: `sys.argv[0]` is set to the full name of the located module."
      ],
      "metadata": {
        "id": "ESAJUyH0b0Y_"
      }
    },
    {
      "cell_type": "markdown",
      "source": [
        "####Interpreter and Environment"
      ],
      "metadata": {
        "id": "NNnHfHQ4NQHT"
      }
    },
    {
      "cell_type": "markdown",
      "source": [
        "In the TTY, the interpreter is in interactive mode. The next command is then prompted with the **primary prompt** (>>>). Continuation lines are prompted with the **secondary prompt** (...).\n",
        "<br>\n",
        "<br>\n",
        "Python source files are encoded in UTF-8 by default.\n",
        "<br>\n",
        "To declare an encoding other than the default, a special comment line should be added as the first line of the file.\n",
        "<br>\n",
        "```python\n",
        "# -*- coding: encoding -*-\n",
        "```\n",
        "<br>\n",
        "An exception to the first line rule is when the source code starts with a UNIX “shebang” line. The declaration should then be added to the second line\n",
        "<br>\n",
        "\n",
        "```python\n",
        "#!/usr/bin/env python3\n",
        "#-*- coding: cp1252 -*-`\n",
        "```"
      ],
      "metadata": {
        "id": "HkSrVoPONSmg"
      }
    },
    {
      "cell_type": "markdown",
      "source": [
        "# Chapter 3. An Informal Introduction to Python"
      ],
      "metadata": {
        "id": "ITSM8t8R0jUa"
      }
    },
    {
      "cell_type": "markdown",
      "source": [
        "####Comments and Simple Operators"
      ],
      "metadata": {
        "id": "bKRvFYJQMgpd"
      }
    },
    {
      "cell_type": "markdown",
      "source": [
        "Comments begin with the hash character `#`, and extend to the end of the line. Comments can be added at the beginning of a line, or right behind whitespace or code. They can not be added within a string literal. For example, the first three comments are allowed, whereas the last line would not result in a comment.\n",
        "<br>"
      ],
      "metadata": {
        "id": "XkX9SiOQ1H-6"
      }
    },
    {
      "cell_type": "code",
      "source": [
        "# beginning of new line\n",
        "x = 2 # behind code\n",
        "      # behind whitespace\n",
        "y = \"# but not within a string literal\""
      ],
      "metadata": {
        "id": "FiaFR-JG1vvS"
      },
      "execution_count": null,
      "outputs": []
    },
    {
      "cell_type": "markdown",
      "source": [
        "Within the interpreter or a script, the operators `+`, `-`, `*` and `/` can be used to perform arithmetic in an expression. You can also group expressions with parantheses, `()`."
      ],
      "metadata": {
        "id": "_4LrNmOk297-"
      }
    },
    {
      "cell_type": "code",
      "source": [
        "1 + 1"
      ],
      "metadata": {
        "colab": {
          "base_uri": "https://localhost:8080/"
        },
        "id": "OTGljY4C3Y1F",
        "outputId": "90b05a34-78cc-40bb-e6f0-4eb9365eeb3d"
      },
      "execution_count": null,
      "outputs": [
        {
          "output_type": "execute_result",
          "data": {
            "text/plain": [
              "2"
            ]
          },
          "metadata": {},
          "execution_count": 6
        }
      ]
    },
    {
      "cell_type": "code",
      "source": [
        "10 - 2 * 3"
      ],
      "metadata": {
        "colab": {
          "base_uri": "https://localhost:8080/"
        },
        "id": "NSvYNFL53dgL",
        "outputId": "ab71d9e2-2355-4d99-eaee-9b70ba9a956d"
      },
      "execution_count": null,
      "outputs": [
        {
          "output_type": "execute_result",
          "data": {
            "text/plain": [
              "4"
            ]
          },
          "metadata": {},
          "execution_count": 7
        }
      ]
    },
    {
      "cell_type": "code",
      "source": [
        "(10 - 2 * 3) / 4"
      ],
      "metadata": {
        "colab": {
          "base_uri": "https://localhost:8080/"
        },
        "id": "lUKk-ebc3h-Q",
        "outputId": "f64a95e9-4dc9-48e2-9700-da3abdfdf03b"
      },
      "execution_count": null,
      "outputs": [
        {
          "output_type": "execute_result",
          "data": {
            "text/plain": [
              "1.0"
            ]
          },
          "metadata": {},
          "execution_count": 8
        }
      ]
    },
    {
      "cell_type": "code",
      "source": [
        "10 / 4"
      ],
      "metadata": {
        "colab": {
          "base_uri": "https://localhost:8080/"
        },
        "id": "lyxYZavJ3uIh",
        "outputId": "6d710521-cb61-4293-bb18-bc9cbe7c844b"
      },
      "execution_count": null,
      "outputs": [
        {
          "output_type": "execute_result",
          "data": {
            "text/plain": [
              "2.5"
            ]
          },
          "metadata": {},
          "execution_count": 9
        }
      ]
    },
    {
      "cell_type": "markdown",
      "source": [
        "Integer values are of type **int**, and decimal values are of type **float**. Division will always return a float.\n",
        "<br>\n",
        "`//` floor division returns the integer result of a division\n",
        "<br>\n",
        "`%` the modulus operator returns the remainder of a division\n",
        "<br>\n",
        "`**` is used to calculate powers\n",
        "<br>\n",
        "`=` is used to assign a value to a variable"
      ],
      "metadata": {
        "id": "hjOxZU_53y2t"
      }
    },
    {
      "cell_type": "code",
      "source": [
        "15 // 6"
      ],
      "metadata": {
        "colab": {
          "base_uri": "https://localhost:8080/"
        },
        "id": "6cC9HNz-4lgs",
        "outputId": "d1295cc7-9f7e-4671-f3b3-1e4d379a1351"
      },
      "execution_count": null,
      "outputs": [
        {
          "output_type": "execute_result",
          "data": {
            "text/plain": [
              "2"
            ]
          },
          "metadata": {},
          "execution_count": 13
        }
      ]
    },
    {
      "cell_type": "code",
      "source": [
        "15 % 6"
      ],
      "metadata": {
        "colab": {
          "base_uri": "https://localhost:8080/"
        },
        "id": "E0hnwBsm4ubL",
        "outputId": "c49954b1-0def-4bb3-c988-4f23b6825176"
      },
      "execution_count": null,
      "outputs": [
        {
          "output_type": "execute_result",
          "data": {
            "text/plain": [
              "3"
            ]
          },
          "metadata": {},
          "execution_count": 16
        }
      ]
    },
    {
      "cell_type": "code",
      "source": [
        "2 ** 3"
      ],
      "metadata": {
        "colab": {
          "base_uri": "https://localhost:8080/"
        },
        "id": "TgRNNCO-462I",
        "outputId": "bc42134e-be63-43b8-eda9-6d27fde74fa0"
      },
      "execution_count": null,
      "outputs": [
        {
          "output_type": "execute_result",
          "data": {
            "text/plain": [
              "8"
            ]
          },
          "metadata": {},
          "execution_count": 17
        }
      ]
    },
    {
      "cell_type": "code",
      "source": [
        "x = 10\n",
        "y = 2\n",
        "x * y"
      ],
      "metadata": {
        "colab": {
          "base_uri": "https://localhost:8080/"
        },
        "id": "dRX2c2Ym4-lO",
        "outputId": "9bab72ee-f1de-4565-8933-313a7436fc1e"
      },
      "execution_count": null,
      "outputs": [
        {
          "output_type": "execute_result",
          "data": {
            "text/plain": [
              "20"
            ]
          },
          "metadata": {},
          "execution_count": 18
        }
      ]
    },
    {
      "cell_type": "code",
      "source": [
        "z # variables that have not been assigned will be undefined and draw an error"
      ],
      "metadata": {
        "colab": {
          "base_uri": "https://localhost:8080/",
          "height": 141
        },
        "id": "dmie5ofi5FYF",
        "outputId": "b1e11900-3ec7-419f-bbd5-62f5c153a31c"
      },
      "execution_count": null,
      "outputs": [
        {
          "output_type": "error",
          "ename": "NameError",
          "evalue": "name 'z' is not defined",
          "traceback": [
            "\u001b[0;31m---------------------------------------------------------------------------\u001b[0m",
            "\u001b[0;31mNameError\u001b[0m                                 Traceback (most recent call last)",
            "\u001b[0;32m<ipython-input-20-7d23a8f34251>\u001b[0m in \u001b[0;36m<cell line: 1>\u001b[0;34m()\u001b[0m\n\u001b[0;32m----> 1\u001b[0;31m \u001b[0mz\u001b[0m \u001b[0;31m# variables that have not been assigned will be undefined and draw an error\u001b[0m\u001b[0;34m\u001b[0m\u001b[0;34m\u001b[0m\u001b[0m\n\u001b[0m",
            "\u001b[0;31mNameError\u001b[0m: name 'z' is not defined"
          ]
        }
      ]
    },
    {
      "cell_type": "markdown",
      "source": [
        "####Text"
      ],
      "metadata": {
        "id": "WehxtlOYMnT0"
      }
    },
    {
      "cell_type": "markdown",
      "source": [
        "Texts in python are strings and are of type **str**. Enclosing strings in single quotes `''` or double quotes `\"\"` have no difference.\n",
        "<br>\n",
        "To quote a quote, we can either switch between single and double quotes, or use `\\` preceeding the quote.\n",
        "<br>\n",
        "We can use `\\n` to invoke a new line within a string when printed.\n",
        "<br>\n",
        "The `print()` function can often make strings more readable."
      ],
      "metadata": {
        "id": "SHjxPpqO5bQQ"
      }
    },
    {
      "cell_type": "code",
      "source": [
        "'Hello World!' # single quotes"
      ],
      "metadata": {
        "colab": {
          "base_uri": "https://localhost:8080/",
          "height": 35
        },
        "id": "3y-qBJ0n7MyP",
        "outputId": "5c7e7a19-b597-4f99-e6e4-d8a01d9f4927"
      },
      "execution_count": null,
      "outputs": [
        {
          "output_type": "execute_result",
          "data": {
            "text/plain": [
              "'Hello World!'"
            ],
            "application/vnd.google.colaboratory.intrinsic+json": {
              "type": "string"
            }
          },
          "metadata": {},
          "execution_count": 24
        }
      ]
    },
    {
      "cell_type": "code",
      "source": [
        "\"Hello World!\" # double quotes"
      ],
      "metadata": {
        "colab": {
          "base_uri": "https://localhost:8080/",
          "height": 35
        },
        "id": "Qz_j4KL47QYX",
        "outputId": "e9c5b1d6-21be-4d6b-9dc6-192a5266eaa3"
      },
      "execution_count": null,
      "outputs": [
        {
          "output_type": "execute_result",
          "data": {
            "text/plain": [
              "'Hello World!'"
            ],
            "application/vnd.google.colaboratory.intrinsic+json": {
              "type": "string"
            }
          },
          "metadata": {},
          "execution_count": 25
        }
      ]
    },
    {
      "cell_type": "code",
      "source": [
        "\"12345\" # numerical values can be strings as well"
      ],
      "metadata": {
        "colab": {
          "base_uri": "https://localhost:8080/",
          "height": 35
        },
        "id": "GIM4PzKK7VFG",
        "outputId": "e8d06d58-eef2-438a-e171-0d3af9674687"
      },
      "execution_count": null,
      "outputs": [
        {
          "output_type": "execute_result",
          "data": {
            "text/plain": [
              "'12345'"
            ],
            "application/vnd.google.colaboratory.intrinsic+json": {
              "type": "string"
            }
          },
          "metadata": {},
          "execution_count": 26
        }
      ]
    },
    {
      "cell_type": "code",
      "source": [
        "\"'Hello World!', I said\" # single quotes within double quotes"
      ],
      "metadata": {
        "colab": {
          "base_uri": "https://localhost:8080/",
          "height": 35
        },
        "id": "dH99pUSg7huV",
        "outputId": "c95cec0b-dfdb-491e-df7b-83991acbf2b6"
      },
      "execution_count": null,
      "outputs": [
        {
          "output_type": "execute_result",
          "data": {
            "text/plain": [
              "\"'Hello World!', I said\""
            ],
            "application/vnd.google.colaboratory.intrinsic+json": {
              "type": "string"
            }
          },
          "metadata": {},
          "execution_count": 27
        }
      ]
    },
    {
      "cell_type": "code",
      "source": [
        "\"\\\"Hello World!\\\", I said\" # using escape \\"
      ],
      "metadata": {
        "colab": {
          "base_uri": "https://localhost:8080/",
          "height": 35
        },
        "id": "SHFp4kBW7oLl",
        "outputId": "16fac567-4987-4a24-8e1c-e3a72930709f"
      },
      "execution_count": null,
      "outputs": [
        {
          "output_type": "execute_result",
          "data": {
            "text/plain": [
              "'\"Hello World!\", I said'"
            ],
            "application/vnd.google.colaboratory.intrinsic+json": {
              "type": "string"
            }
          },
          "metadata": {},
          "execution_count": 28
        }
      ]
    },
    {
      "cell_type": "code",
      "source": [
        "\"First line \\nSecond line\" # new line \\n without print"
      ],
      "metadata": {
        "colab": {
          "base_uri": "https://localhost:8080/",
          "height": 35
        },
        "id": "Cc3BAEaW74e_",
        "outputId": "ee1e8aa1-7972-4f6f-9355-0af16c99aaa8"
      },
      "execution_count": null,
      "outputs": [
        {
          "output_type": "execute_result",
          "data": {
            "text/plain": [
              "'First line \\nSecond line'"
            ],
            "application/vnd.google.colaboratory.intrinsic+json": {
              "type": "string"
            }
          },
          "metadata": {},
          "execution_count": 30
        }
      ]
    },
    {
      "cell_type": "code",
      "source": [
        "line = \"First line \\nSecond line\" # new line \\n with print\n",
        "print(line)"
      ],
      "metadata": {
        "colab": {
          "base_uri": "https://localhost:8080/"
        },
        "id": "ZRgk6W_b8Ik8",
        "outputId": "db7ebfac-ff6c-4f84-cb3c-fbc6275c0e55"
      },
      "execution_count": null,
      "outputs": [
        {
          "output_type": "stream",
          "name": "stdout",
          "text": [
            "First line \n",
            "Second line\n"
          ]
        }
      ]
    },
    {
      "cell_type": "markdown",
      "source": [
        "Adding `r` in front of the first quotation turns the string into a raw string. Raw strings may be used to avoid `\\` being interpreted as special characters."
      ],
      "metadata": {
        "id": "kcfjnBww8T0L"
      }
    },
    {
      "cell_type": "code",
      "source": [
        "print(r'C:\\some\\name')  # note the r before the quote C:\\some\\name"
      ],
      "metadata": {
        "colab": {
          "base_uri": "https://localhost:8080/"
        },
        "id": "03sZGfm98m6U",
        "outputId": "83554ec1-4959-465c-c469-9f628089ffaa"
      },
      "execution_count": null,
      "outputs": [
        {
          "output_type": "stream",
          "name": "stdout",
          "text": [
            "C:\\some\\name\n"
          ]
        }
      ]
    },
    {
      "cell_type": "markdown",
      "source": [
        "String literals can span multiple lines using triple quotes `\"\"\"...\"\"\"`, `'''...'''`. They can also be concatenated with `+` and repeated with `*`. Multiple string literals side by side are automatically concatenated."
      ],
      "metadata": {
        "id": "JAXRYeyj-7TS"
      }
    },
    {
      "cell_type": "code",
      "source": [
        "print(\"\"\"Hello World!\n",
        "      Hello World!\n",
        "                  Hello World!\n",
        "      \"\"\")"
      ],
      "metadata": {
        "colab": {
          "base_uri": "https://localhost:8080/"
        },
        "id": "kKCXpIrN_Z1V",
        "outputId": "40563c6f-ebb5-4367-dedd-95db3256c8cd"
      },
      "execution_count": null,
      "outputs": [
        {
          "output_type": "stream",
          "name": "stdout",
          "text": [
            "Hello World!\n",
            "      Hello World!\n",
            "                  Hello World!\n",
            "      \n"
          ]
        }
      ]
    },
    {
      "cell_type": "code",
      "source": [
        "4 * \"la\" + \" \" + \"batman\""
      ],
      "metadata": {
        "colab": {
          "base_uri": "https://localhost:8080/",
          "height": 35
        },
        "id": "uUDfb2ta_lpA",
        "outputId": "13e08b24-47fe-4892-b1fe-485c09332260"
      },
      "execution_count": null,
      "outputs": [
        {
          "output_type": "execute_result",
          "data": {
            "text/plain": [
              "'lalalala batman'"
            ],
            "application/vnd.google.colaboratory.intrinsic+json": {
              "type": "string"
            }
          },
          "metadata": {},
          "execution_count": 34
        }
      ]
    },
    {
      "cell_type": "code",
      "source": [
        "\"lalalala\" \" \" \"batman\""
      ],
      "metadata": {
        "colab": {
          "base_uri": "https://localhost:8080/",
          "height": 35
        },
        "id": "-YtPPEao_sdk",
        "outputId": "bd2a59ea-8db2-4a37-9519-abe4ff47b350"
      },
      "execution_count": null,
      "outputs": [
        {
          "output_type": "execute_result",
          "data": {
            "text/plain": [
              "'lalalala batman'"
            ],
            "application/vnd.google.colaboratory.intrinsic+json": {
              "type": "string"
            }
          },
          "metadata": {},
          "execution_count": 35
        }
      ]
    },
    {
      "cell_type": "markdown",
      "source": [
        "Strings can be indexed in python, starting at index 0. There is no character 'char' type. A single character is simply a string of length and size 1. Negative indicies will index backwards, with index -1 being the last character of the string. (-0 is the same as 0)\n",
        "<br>\n",
        "You can also slice strings to obtain a substring. The beginning index is always included and the ending index is always excluded.\n",
        "<br>\n",
        "Attempting to index a string with a value that is too large will result in an error.\n",
        "<br>\n",
        "Strings are immutable, so you can not change them via indicies."
      ],
      "metadata": {
        "id": "SZP3Czd6_yO-"
      }
    },
    {
      "cell_type": "code",
      "source": [
        "word = \"Hello\"\n",
        "print(word[0]) # character at position 0\n",
        "print(word[2]) # character at position 0\n",
        "print(word[-1]) # character at position -1"
      ],
      "metadata": {
        "colab": {
          "base_uri": "https://localhost:8080/"
        },
        "id": "gXi6r8hUAxkf",
        "outputId": "aaf79f73-faa9-44b7-a216-8480cf398d1a"
      },
      "execution_count": null,
      "outputs": [
        {
          "output_type": "stream",
          "name": "stdout",
          "text": [
            "H\n",
            "l\n",
            "o\n"
          ]
        }
      ]
    },
    {
      "cell_type": "code",
      "source": [
        "print(word[0:2]) # characters from position 0 (included) to position 2 (excluded)\n",
        "print(word[2:]) # characters from position 2 (included) to the end\n",
        "print(word[-2:]) # characters from position -2 (incluided) to the end"
      ],
      "metadata": {
        "colab": {
          "base_uri": "https://localhost:8080/"
        },
        "id": "ZHFoA9xJA6iB",
        "outputId": "278ecb95-fe53-480c-81d7-dc4336bf7c42"
      },
      "execution_count": null,
      "outputs": [
        {
          "output_type": "stream",
          "name": "stdout",
          "text": [
            "He\n",
            "llo\n",
            "lo\n"
          ]
        }
      ]
    },
    {
      "cell_type": "markdown",
      "source": [
        "You can use the `len()` function to return the length of a string"
      ],
      "metadata": {
        "id": "1LuMnVh8BkFJ"
      }
    },
    {
      "cell_type": "code",
      "source": [
        "len(word)"
      ],
      "metadata": {
        "colab": {
          "base_uri": "https://localhost:8080/"
        },
        "id": "osz4M00MBn8-",
        "outputId": "ba482cff-eaac-4c00-e951-5be50cc90732"
      },
      "execution_count": null,
      "outputs": [
        {
          "output_type": "execute_result",
          "data": {
            "text/plain": [
              "5"
            ]
          },
          "metadata": {},
          "execution_count": 40
        }
      ]
    },
    {
      "cell_type": "markdown",
      "source": [
        "####Lists"
      ],
      "metadata": {
        "id": "OYNZH_sqMyTx"
      }
    },
    {
      "cell_type": "markdown",
      "source": [
        "Lists are a compound data type that can be written as a list of comma separated values, inside of square brackets. Certain lists can have multiple item types, but most lists will have items of the same type.\n",
        "<br>\n",
        "Lists can also be indexed and sliced much like strings. They also support concatenation.\n",
        "<br>\n",
        "However, the difference is that lists are mutable and can be changed via indicies. You can also add new items to the end of the list with `list.append()`."
      ],
      "metadata": {
        "id": "_mGy2_0BI-uN"
      }
    },
    {
      "cell_type": "code",
      "source": [
        "list = [1, 2, 3, 4, 5]\n",
        "list"
      ],
      "metadata": {
        "colab": {
          "base_uri": "https://localhost:8080/"
        },
        "id": "9ZYk1DpSJa6P",
        "outputId": "d617abf2-59cb-4256-b586-f20216c9f0df"
      },
      "execution_count": null,
      "outputs": [
        {
          "output_type": "execute_result",
          "data": {
            "text/plain": [
              "[1, 2, 3, 4, 5]"
            ]
          },
          "metadata": {},
          "execution_count": 44
        }
      ]
    },
    {
      "cell_type": "code",
      "source": [
        "list[0]\n",
        "print(list[0]) # index 0\n",
        "list[2]\n",
        "print(list[1]) # index 1\n",
        "list[-1]\n",
        "print(list[-1]) # index -1"
      ],
      "metadata": {
        "colab": {
          "base_uri": "https://localhost:8080/"
        },
        "id": "lYJ6n71aJd5J",
        "outputId": "3e5d0d58-9707-4b67-8656-4db1267f482b"
      },
      "execution_count": null,
      "outputs": [
        {
          "output_type": "stream",
          "name": "stdout",
          "text": [
            "1\n",
            "2\n",
            "5\n"
          ]
        }
      ]
    },
    {
      "cell_type": "code",
      "source": [
        "list[:3]\n",
        "print(list[:3]) # slicing from 0 (included) to 3 (not included)\n",
        "list[3:]\n",
        "print(list[3:]) # slicing from 3 (included) to the end"
      ],
      "metadata": {
        "colab": {
          "base_uri": "https://localhost:8080/"
        },
        "id": "49F4YSbGJosN",
        "outputId": "653b5a60-9c99-4f94-bf91-eb3a2f423eee"
      },
      "execution_count": null,
      "outputs": [
        {
          "output_type": "stream",
          "name": "stdout",
          "text": [
            "[1, 2, 3]\n",
            "[4, 5]\n"
          ]
        }
      ]
    },
    {
      "cell_type": "code",
      "source": [
        "list2 = [6, 7, 8, 9, 10]\n",
        "list + list2"
      ],
      "metadata": {
        "colab": {
          "base_uri": "https://localhost:8080/"
        },
        "id": "zISFuAv-KF-U",
        "outputId": "439b0186-7afb-4ace-f550-1fcf3803fe6f"
      },
      "execution_count": null,
      "outputs": [
        {
          "output_type": "execute_result",
          "data": {
            "text/plain": [
              "[1, 2, 3, 4, 5, 6, 7, 8, 9, 10]"
            ]
          },
          "metadata": {},
          "execution_count": 51
        }
      ]
    },
    {
      "cell_type": "code",
      "source": [
        "list3 = [2, 4, 5, 8, 10]\n",
        "list3[2] = 6\n",
        "print(list3)\n",
        "list3.append(12)\n",
        "print(list3)"
      ],
      "metadata": {
        "colab": {
          "base_uri": "https://localhost:8080/"
        },
        "id": "YG_jZP4pKKOn",
        "outputId": "000aa578-d14b-4ea3-f5ec-8c86f8795577"
      },
      "execution_count": null,
      "outputs": [
        {
          "output_type": "stream",
          "name": "stdout",
          "text": [
            "[2, 4, 6, 8, 10]\n",
            "[2, 4, 6, 8, 10, 12]\n"
          ]
        }
      ]
    },
    {
      "cell_type": "markdown",
      "source": [
        "Simple assignment in Python will not copy data. Both variables in the assignment will refer to the same thing. Operations done on one variable will be reflected in the other as well.\n",
        "<br>\n",
        "You may also assign to slices. However, this may change the size of the list.\n",
        "<br>\n",
        "The `len()` function also applies to lists.\n",
        "<br>\n",
        "Furthermore, lists can be nested to create multiple dimensions."
      ],
      "metadata": {
        "id": "9iBhVcm1Kfo6"
      }
    },
    {
      "cell_type": "code",
      "source": [
        "len(list)"
      ],
      "metadata": {
        "colab": {
          "base_uri": "https://localhost:8080/"
        },
        "id": "7-1TgIveLh_q",
        "outputId": "10d87992-59a9-44bd-c657-325b9ce9d9dd"
      },
      "execution_count": null,
      "outputs": [
        {
          "output_type": "execute_result",
          "data": {
            "text/plain": [
              "5"
            ]
          },
          "metadata": {},
          "execution_count": 54
        }
      ]
    },
    {
      "cell_type": "code",
      "source": [
        "a = [1, 2, 3]\n",
        "b = ['a', 'b', 'c']\n",
        "c = [a, b]\n",
        "c"
      ],
      "metadata": {
        "colab": {
          "base_uri": "https://localhost:8080/"
        },
        "id": "SQL1OO4nLkWy",
        "outputId": "d6afce0c-27a2-496e-aeab-a32e7c1ba1ff"
      },
      "execution_count": null,
      "outputs": [
        {
          "output_type": "execute_result",
          "data": {
            "text/plain": [
              "[[1, 2, 3], ['a', 'b', 'c']]"
            ]
          },
          "metadata": {},
          "execution_count": 56
        }
      ]
    },
    {
      "cell_type": "code",
      "source": [
        "print(c[0])\n",
        "print(c[0][1])"
      ],
      "metadata": {
        "colab": {
          "base_uri": "https://localhost:8080/"
        },
        "id": "Iphlvn19LyrI",
        "outputId": "08ef207f-38c1-4ba1-d413-2ece2568ed9e"
      },
      "execution_count": null,
      "outputs": [
        {
          "output_type": "stream",
          "name": "stdout",
          "text": [
            "[1, 2, 3]\n",
            "2\n"
          ]
        }
      ]
    },
    {
      "cell_type": "markdown",
      "source": [
        "# Chapter 4. More Control Flow Tools"
      ],
      "metadata": {
        "id": "kYJSH8Pz0uQW"
      }
    },
    {
      "cell_type": "markdown",
      "source": [
        "####if, elif, else, and for statements"
      ],
      "metadata": {
        "id": "r6BUMD-j00S4"
      }
    },
    {
      "cell_type": "markdown",
      "source": [
        "If else statements are used when dealing with conditional cases. They do not need to be followed by `elif` (else if) statements or `else` statements. Although it is generally good convention to round out `if` and `elif` statements with `else`."
      ],
      "metadata": {
        "id": "XVXKIVrg05tQ"
      }
    },
    {
      "cell_type": "markdown",
      "source": [
        "For statements, in python, iterate over items of any sequence. This can be lists or strings or anything that is sequenced."
      ],
      "metadata": {
        "id": "zvO1vYcf8T72"
      }
    },
    {
      "cell_type": "code",
      "source": [
        "if x < 0:\n",
        "    print('negative')\n",
        "elif x == 0:\n",
        "    print('zero')\n",
        "else:\n",
        "    print('positive')"
      ],
      "metadata": {
        "id": "hdq8pZrU_dcO"
      },
      "execution_count": null,
      "outputs": []
    },
    {
      "cell_type": "code",
      "source": [
        "list = ['hello', 'hi', 'hey'] # list of strings\n",
        "for item in list:\n",
        "    print(item)"
      ],
      "metadata": {
        "colab": {
          "base_uri": "https://localhost:8080/"
        },
        "id": "RzRuzPkA8gsE",
        "outputId": "081571f2-20cf-4053-e621-a66b79ca74bd"
      },
      "execution_count": null,
      "outputs": [
        {
          "output_type": "stream",
          "name": "stdout",
          "text": [
            "hello\n",
            "hi\n",
            "hey\n"
          ]
        }
      ]
    },
    {
      "cell_type": "markdown",
      "source": [
        "####range() function"
      ],
      "metadata": {
        "id": "SDZfALg28sNO"
      }
    },
    {
      "cell_type": "markdown",
      "source": [
        "To iterate traditionally over a sequence of numbers, python has the `range()` function. You may specify a starting point, an endpoint, and a step size. You may also simply have one value and `range()` will iterate from 0 to that value (non-inclusive)."
      ],
      "metadata": {
        "id": "--GS6N1v8yRO"
      }
    },
    {
      "cell_type": "code",
      "source": [
        "for i in range(5):\n",
        "    print(i)"
      ],
      "metadata": {
        "colab": {
          "base_uri": "https://localhost:8080/"
        },
        "id": "BzBQHJeL9C-g",
        "outputId": "4bbe9636-9534-4481-a1be-f4077d418b75"
      },
      "execution_count": null,
      "outputs": [
        {
          "output_type": "stream",
          "name": "stdout",
          "text": [
            "0\n",
            "1\n",
            "2\n",
            "3\n",
            "4\n"
          ]
        }
      ]
    },
    {
      "cell_type": "code",
      "source": [
        "for i in range(3, 10):\n",
        "    print(i)"
      ],
      "metadata": {
        "colab": {
          "base_uri": "https://localhost:8080/"
        },
        "id": "NlgKyDIQ9Eqa",
        "outputId": "c113861b-0ee7-4be6-a8dc-e0199e347d09"
      },
      "execution_count": null,
      "outputs": [
        {
          "output_type": "stream",
          "name": "stdout",
          "text": [
            "3\n",
            "4\n",
            "5\n",
            "6\n",
            "7\n",
            "8\n",
            "9\n"
          ]
        }
      ]
    },
    {
      "cell_type": "code",
      "source": [
        "for i in range(5, 30, 5):\n",
        "    print(i)"
      ],
      "metadata": {
        "colab": {
          "base_uri": "https://localhost:8080/"
        },
        "id": "KSypVpbK9HWo",
        "outputId": "39c65542-014e-4df2-d61a-f6cb0ec4d073"
      },
      "execution_count": null,
      "outputs": [
        {
          "output_type": "stream",
          "name": "stdout",
          "text": [
            "5\n",
            "10\n",
            "15\n",
            "20\n",
            "25\n"
          ]
        }
      ]
    },
    {
      "cell_type": "markdown",
      "source": [
        "####break and continue Statements, and else Clauses on Loops"
      ],
      "metadata": {
        "id": "LCbHXokK9hAE"
      }
    },
    {
      "cell_type": "markdown",
      "source": [
        "`break` statements exit out of the innermost layer of a for or while loop. `continue` statements will continue with the execution of the next iteration of a loop."
      ],
      "metadata": {
        "id": "mxllkm_79ole"
      }
    },
    {
      "cell_type": "markdown",
      "source": [
        "Within a for or while loop, there can exist an `else` clause. In the for loop, this `else` is executed after the loop reaches the final iteration. In a while loop, this `else` is executed after the while loop's conditional becomes false.\n",
        "However, if there is a `break` in either of those loops, the `else` will not execute."
      ],
      "metadata": {
        "id": "JY-fMMxO947M"
      }
    },
    {
      "cell_type": "code",
      "source": [
        "for i in range(10):\n",
        "    if i == 5:\n",
        "        break\n",
        "    print(i)"
      ],
      "metadata": {
        "colab": {
          "base_uri": "https://localhost:8080/"
        },
        "id": "Y2-6ECq2-cPn",
        "outputId": "2d691b25-62b1-42d3-c5c8-a495cd088509"
      },
      "execution_count": null,
      "outputs": [
        {
          "output_type": "stream",
          "name": "stdout",
          "text": [
            "0\n",
            "1\n",
            "2\n",
            "3\n",
            "4\n"
          ]
        }
      ]
    },
    {
      "cell_type": "code",
      "source": [
        "for num in range(2, 10):\n",
        "    if num % 2 == 0:\n",
        "        print(\"Even\")\n",
        "        continue\n",
        "    print(\"Odd\")"
      ],
      "metadata": {
        "colab": {
          "base_uri": "https://localhost:8080/"
        },
        "id": "vN2J_32p-ha0",
        "outputId": "e9faaaa2-997b-48bd-8c9c-38544a7721fb"
      },
      "execution_count": null,
      "outputs": [
        {
          "output_type": "stream",
          "name": "stdout",
          "text": [
            "Even\n",
            "Odd\n",
            "Even\n",
            "Odd\n",
            "Even\n",
            "Odd\n",
            "Even\n",
            "Odd\n"
          ]
        }
      ]
    },
    {
      "cell_type": "code",
      "source": [
        "x = 5\n",
        "while x > 0:\n",
        "    print(x)\n",
        "    x -= 1\n",
        "    if x == 2:\n",
        "        break"
      ],
      "metadata": {
        "colab": {
          "base_uri": "https://localhost:8080/"
        },
        "id": "jMwFOzss-kGF",
        "outputId": "ef749e1d-1c03-4561-de75-d45c412f3089"
      },
      "execution_count": null,
      "outputs": [
        {
          "output_type": "stream",
          "name": "stdout",
          "text": [
            "5\n",
            "4\n",
            "3\n"
          ]
        }
      ]
    },
    {
      "cell_type": "markdown",
      "source": [
        "####pass statements"
      ],
      "metadata": {
        "id": "VyC5bOXX-7NK"
      }
    },
    {
      "cell_type": "markdown",
      "source": [
        "`pass` statements do nothing. They are often placeholders for functions or classes when working on other parts of the code."
      ],
      "metadata": {
        "id": "J109t0IY-9R2"
      }
    },
    {
      "cell_type": "code",
      "source": [
        "while True:\n",
        "    pass # do nothing"
      ],
      "metadata": {
        "id": "ySHML5Q7_YEh"
      },
      "execution_count": null,
      "outputs": []
    },
    {
      "cell_type": "markdown",
      "source": [
        "####match statements"
      ],
      "metadata": {
        "id": "jE4te70WHpJQ"
      }
    },
    {
      "cell_type": "markdown",
      "source": [
        "A `match` statement is similar to switch case in other languages such as C. It compares values against one or more literals and matches the first pattern to execute the code within that first match. The `_` is similar to a default case and will never fail to match. This case will be executed if none of the other cases are matched. You may also add an if statement within each case as an extra conditional."
      ],
      "metadata": {
        "id": "THa95rx3Hrvj"
      }
    },
    {
      "cell_type": "code",
      "source": [
        "def http_error(status):\n",
        "    match status:\n",
        "        case 400:\n",
        "            return \"Bad request\"\n",
        "        case 404:\n",
        "            return \"Not found\"\n",
        "        case 418:\n",
        "            return \"I'm a teapot\"\n",
        "        case _:\n",
        "            return \"Something's wrong with the internet\""
      ],
      "metadata": {
        "id": "p5ozjlUKIZ7U"
      },
      "execution_count": null,
      "outputs": []
    },
    {
      "cell_type": "markdown",
      "source": [
        "####Defining Functions"
      ],
      "metadata": {
        "id": "Adsc7ZQ_IxJy"
      }
    },
    {
      "cell_type": "markdown",
      "source": [
        "To define a function, you must use `def`, and follow it with the name of the function and a paranthesized list of all formal paramenters. Everything within the function must be indented in the line after the function definition.\n",
        "<br>\n",
        "Within each function, variable assignments and lookups must follow specific rules:\n",
        "<br>\n",
        "1. Variable Assignments:\n",
        "   When you assign a value to a variable inside a function, Python creates that variable in the function's local scope by default. This means the variable is only accessible within that function.\n",
        "\n",
        "2. Variable Lookups:\n",
        "   When you use a variable in a function, Python searches for it in this order:\n",
        "   <br>\n",
        "   a) First, in the function's local scope\n",
        "   <br>\n",
        "   b) Then, in the scopes of any enclosing functions (if the function is nested)\n",
        "   <br>\n",
        "   c) Next, in the global scope (the module level)\n",
        "   <br>\n",
        "   d) Finally, in the built-in scope (Python's predefined names)\n",
        "   <br>\n",
        "\n",
        "3. Accessing Outer Scopes:\n",
        "   By default, a function cannot modify variables from outer scopes. If you want to change a global variable or a variable from an enclosing function, you need to use special declarations:\n",
        "   - Use the `global` keyword to modify a global variable\n",
        "   - Use the `nonlocal` keyword to modify a variable from an enclosing function"
      ],
      "metadata": {
        "id": "S37pVFZJIy6G"
      }
    },
    {
      "cell_type": "code",
      "source": [
        "x = 10  # Global variable\n",
        "\n",
        "def outer_function():\n",
        "    y = 20  # Variable in outer function's scope\n",
        "\n",
        "    def inner_function():\n",
        "        z = 30  # Local variable\n",
        "        print(f\"Local: {z}\")\n",
        "        print(f\"From outer function: {y}\")\n",
        "        print(f\"Global: {x}\")\n",
        "\n",
        "    inner_function()\n",
        "\n",
        "outer_function()"
      ],
      "metadata": {
        "id": "Q80e-K47Jn_0"
      },
      "execution_count": null,
      "outputs": []
    },
    {
      "cell_type": "markdown",
      "source": [
        "A `return` statement will return value(s) from a function. If not specified an argument, the `return` statement will by default return `None`."
      ],
      "metadata": {
        "id": "S667Z6G6JxOk"
      }
    },
    {
      "cell_type": "code",
      "source": [
        "def add_numbers(a, b):\n",
        "    result = a + b\n",
        "    return result\n",
        "\n",
        "sum = add_numbers(5, 3)\n",
        "print(sum)"
      ],
      "metadata": {
        "colab": {
          "base_uri": "https://localhost:8080/"
        },
        "id": "zc3vO_9cKHlH",
        "outputId": "4c1dedcf-c573-474b-92f7-790d5b4a9afb"
      },
      "execution_count": null,
      "outputs": [
        {
          "output_type": "stream",
          "name": "stdout",
          "text": [
            "8\n"
          ]
        }
      ]
    },
    {
      "cell_type": "markdown",
      "source": [
        "####Keyword Arguments"
      ],
      "metadata": {
        "id": "bzNvzNI6KSwv"
      }
    },
    {
      "cell_type": "markdown",
      "source": [
        "Function calls using keyword arguments are of the form `kwarg=value`.\n",
        "<br>\n",
        "Benefits of using keyword arguments in functions include:\n",
        "- Having a default value assigned to certain arguments\n",
        "- Being able to ignore argument order\n",
        "- Makes certain arguments \"optional\" by having the default value\n",
        "- Flexibility in number of keyword arguments\n",
        "<br>\n",
        "\n",
        "  "
      ],
      "metadata": {
        "id": "nGNfX6mJKUhl"
      }
    },
    {
      "cell_type": "code",
      "source": [
        "def describe_person(name, age = 42, city = \"San Francisco\"):\n",
        "    print(f\"Name: {name}\")\n",
        "    print(f\"Age: {age}\")\n",
        "    print(f\"City: {city}\")\n",
        "\n",
        "# function can be called in any of these ways\n",
        "describe_person(\"Bob\")\n",
        "describe_person(name=\"Bob\")\n",
        "describe_person(name=\"Bob\", age=25)\n",
        "describe_person(name=\"Bob\", age=25, city=\"New York\")\n",
        "describe_person(\"Bob\", \"25\", \"New York\")\n",
        "describe_person(city = \"New York\", name = \"Bob\")"
      ],
      "metadata": {
        "colab": {
          "base_uri": "https://localhost:8080/"
        },
        "id": "mAZxDQWbLWdU",
        "outputId": "b88db597-a693-4a29-b364-c3edcb13e038"
      },
      "execution_count": null,
      "outputs": [
        {
          "output_type": "stream",
          "name": "stdout",
          "text": [
            "Name: Bob\n",
            "Age: 42\n",
            "City: San Francisco\n",
            "Name: Bob\n",
            "Age: 42\n",
            "City: San Francisco\n",
            "Name: Bob\n",
            "Age: 25\n",
            "City: San Francisco\n",
            "Name: Bob\n",
            "Age: 25\n",
            "City: New York\n",
            "Name: Bob\n",
            "Age: 25\n",
            "City: New York\n",
            "Name: Bob\n",
            "Age: 42\n",
            "City: New York\n"
          ]
        }
      ]
    },
    {
      "cell_type": "markdown",
      "source": [
        "Furthermore, you can use a final formal parameter of the form `**name`.\n",
        "<br>\n",
        "This contains all keyword arguments passed through the function except for those that are already corresponding to a formal parameter of the function.\n",
        "<br>\n",
        "You may also add a formal parameter of the form `*name`. This includes all positional arguments that do not already correspond to those in the formal parameter list. `*name` must be placed before `**name`.\n",
        "<br>\n",
        "The order that keyword arguments are printed is always the order that they were provided in the function call."
      ],
      "metadata": {
        "id": "pO44OE2nNCuP"
      }
    },
    {
      "cell_type": "code",
      "source": [
        "def example(*args, **kwargs):\n",
        "    print(\"Positional arguments:\")\n",
        "    for arg in args:\n",
        "        print(arg)\n",
        "\n",
        "    print(\"\\nKeyword arguments:\")\n",
        "    for key, value in kwargs.items():\n",
        "        print(f\"{key} = {value}\")\n",
        "# can also use\n",
        "#   for kw in kwargs:\n",
        "#       print(f\"{kw} = {kwargs[kw]}\")\n",
        "\n",
        "example(1, 2, 3, name=\"Alice\", age=30, city=\"Wonderland\")"
      ],
      "metadata": {
        "colab": {
          "base_uri": "https://localhost:8080/"
        },
        "id": "jgV9qEvQOR7x",
        "outputId": "be5ec75f-dcda-4dd0-b8b6-82e53bcc9081"
      },
      "execution_count": null,
      "outputs": [
        {
          "output_type": "stream",
          "name": "stdout",
          "text": [
            "Positional arguments:\n",
            "1\n",
            "2\n",
            "3\n",
            "\n",
            "Keyword arguments:\n",
            "name = Alice\n",
            "age = 30\n",
            "city = Wonderland\n"
          ]
        }
      ]
    },
    {
      "cell_type": "markdown",
      "source": [
        "You may also constrain the way arguments can be passed through certain functions. This can be done using `/` and `*` within the parameter list of the function definition. Attempting to break this rule when those two special characters are in play will result in a TypeError."
      ],
      "metadata": {
        "id": "BiXZ9Pd2PINp"
      }
    },
    {
      "cell_type": "code",
      "source": [
        "def f(pos1, pos2, /, pos_or_kwd, *, kwd1, kwd2):\n",
        "    # anything before the '/' are positional only\n",
        "    # anything between the '/' and '*' can be positional or keyword\n",
        "    # anything after the '*' are keyword only\n",
        "    pass"
      ],
      "metadata": {
        "id": "Fy-7YO5wPOxM"
      },
      "execution_count": null,
      "outputs": []
    },
    {
      "cell_type": "markdown",
      "source": [
        "The following is from the python website:\n",
        "- Use positional-only if you want the name of the parameters to not be available to the user. This is useful when parameter names have no real meaning, if you want to enforce the order of the arguments when the function is called or if you need to take some positional parameters and arbitrary keywords.\n",
        "\n",
        "- Use keyword-only when names have meaning and the function definition is more understandable by being explicit with names or you want to prevent users relying on the position of the argument being passed.\n",
        "\n",
        "- For an API, use positional-only to prevent breaking API changes if the parameter’s name is modified in the future."
      ],
      "metadata": {
        "id": "DV4JiO6gQDND"
      }
    },
    {
      "cell_type": "markdown",
      "source": [
        "Sometimes, arguments are already in lists or tuples that need to be unpacked for a function call that requires separate arguments. You may do this by using `*`. In the case of dictionaries, you may use `**`."
      ],
      "metadata": {
        "id": "NK0vu-QNQ19m"
      }
    },
    {
      "cell_type": "markdown",
      "source": [
        "####Lambda Expressions"
      ],
      "metadata": {
        "id": "AF03LqC3RJhB"
      }
    },
    {
      "cell_type": "markdown",
      "source": [
        "Lambda expressions are essentially function definitions in the form of an expression. They follow largely the same rules as regular functions. However, they are not as complex and are not able to perform more difficult tasks like a typical function would.\n",
        "<br>\n",
        "They can be created with the following syntax:\n",
        "<br>\n",
        "`lambda a, b: a + b`"
      ],
      "metadata": {
        "id": "RfW9brbvRLwV"
      }
    },
    {
      "cell_type": "code",
      "source": [
        "# comparing lambda expressions to functioins\n",
        "\n",
        "# lambda function definition\n",
        "add_lambda = lambda x, y: x + y\n",
        "\n",
        "# regular function definition\n",
        "def add_function(x, y):\n",
        "    return x + y\n",
        "\n",
        "result_lambda = add_lambda(3, 5)\n",
        "result_function = add_function(3, 5)\n",
        "\n",
        "print(result_lambda)\n",
        "print(result_function)"
      ],
      "metadata": {
        "colab": {
          "base_uri": "https://localhost:8080/"
        },
        "id": "X_cnNCSSSCDd",
        "outputId": "3f7c4f22-8c89-4f75-9ae2-a8c8f6555766"
      },
      "execution_count": null,
      "outputs": [
        {
          "output_type": "stream",
          "name": "stdout",
          "text": [
            "8\n",
            "8\n"
          ]
        }
      ]
    },
    {
      "cell_type": "markdown",
      "source": [
        "You can pass and return functions in a lambda expression."
      ],
      "metadata": {
        "id": "1NsEnyj7TU3Q"
      }
    },
    {
      "cell_type": "code",
      "source": [
        "numbers = [1, 2, 3, 4, 5]\n",
        "\n",
        "squared_numbers = list(map(lambda x: x**2, numbers)) # map() applies the lambda function to each element in the list\n",
        "\n",
        "print(squared_numbers)"
      ],
      "metadata": {
        "colab": {
          "base_uri": "https://localhost:8080/"
        },
        "id": "BpHFq7GXTfXq",
        "outputId": "d82ecf6d-a15d-4def-cc05-22f348f4e06a"
      },
      "execution_count": null,
      "outputs": [
        {
          "output_type": "stream",
          "name": "stdout",
          "text": [
            "[1, 4, 9, 16, 25]\n"
          ]
        }
      ]
    },
    {
      "cell_type": "code",
      "source": [
        "def power_function(n):\n",
        "    return lambda x: x ** n\n",
        "\n",
        "square_function = power_function(2)\n",
        "print(square_function(5))\n",
        "\n",
        "cube_function = power_function(3)\n",
        "print(cube_function(5))"
      ],
      "metadata": {
        "colab": {
          "base_uri": "https://localhost:8080/"
        },
        "id": "XgXG3Tu4TnDK",
        "outputId": "2cb90679-3979-45f6-80f1-7107e2ea52cf"
      },
      "execution_count": null,
      "outputs": [
        {
          "output_type": "stream",
          "name": "stdout",
          "text": [
            "25\n",
            "125\n"
          ]
        }
      ]
    },
    {
      "cell_type": "markdown",
      "source": [
        "####Documentation strings"
      ],
      "metadata": {
        "id": "ppS4Kf-9T64R"
      }
    },
    {
      "cell_type": "markdown",
      "source": [
        "Documentation strings, or doc strings for short, are used to document a function's purpose. They are also used for other objects.\n",
        "<br>\n",
        "The first line should contain the main purpose. It should begin with a capital letter and end with a period.\n",
        "<br>\n",
        "For doc strings with more than one line, the second line should be blank to separate the initial caption from the rest of the description. All following lines should be describing the innerworkings of the object."
      ],
      "metadata": {
        "id": "0j2lvVb3T8Oy"
      }
    },
    {
      "cell_type": "code",
      "source": [
        "def calculate_area(radius):\n",
        "    \"\"\"\n",
        "    Calculate the area of a circle given its radius.\n",
        "\n",
        "    Parameters:\n",
        "    radius (float): The radius of the circle.\n",
        "\n",
        "    Returns:\n",
        "    float: The area of the circle.\n",
        "    \"\"\"\n",
        "    area = 3.14159 * radius ** 2\n",
        "    return area"
      ],
      "metadata": {
        "id": "fMctvSK7ULcb"
      },
      "execution_count": null,
      "outputs": []
    },
    {
      "cell_type": "markdown",
      "source": [
        "####Function Annotations"
      ],
      "metadata": {
        "id": "hMPCEg6_VC3y"
      }
    },
    {
      "cell_type": "markdown",
      "source": [
        "Function annotations are optional metadata information regarding types used by functions. They are stored in the `__annotations__` attribute of the function as as dictionary.\n",
        "- Parameter annotations are defined by a colon after the name of it, with an expression following it. This expression should be the value of the annotation\n",
        "- Return annotations are defined by a `->`, between the parameter list and the expression."
      ],
      "metadata": {
        "id": "4eWwc9YqVEux"
      }
    },
    {
      "cell_type": "code",
      "source": [
        "def function_annotations(arg1: int, arg2: str = 'default') -> float:\n",
        "    \"\"\"\n",
        "    Example function with annotations.\n",
        "\n",
        "    Parameters:\n",
        "    arg1 (int): Required integer argument.\n",
        "    arg2 (str, optional): Optional string argument with a default value.\n",
        "\n",
        "    Returns:\n",
        "    float: Returns a float value based on the operation performed.\n",
        "    \"\"\"\n",
        "    return float(len(arg2) + arg1)\n",
        "\n",
        "print(function_annotations.__annotations__)"
      ],
      "metadata": {
        "colab": {
          "base_uri": "https://localhost:8080/"
        },
        "id": "bqoVyMUSYmH8",
        "outputId": "6e9a7577-d209-4c00-ba39-39f1782f6b91"
      },
      "execution_count": null,
      "outputs": [
        {
          "output_type": "stream",
          "name": "stdout",
          "text": [
            "{'arg1': <class 'int'>, 'arg2': <class 'str'>, 'return': <class 'float'>}\n"
          ]
        }
      ]
    },
    {
      "cell_type": "markdown",
      "source": [
        "# Chapter 5: Data Structures"
      ],
      "metadata": {
        "id": "taReAQR_KDRH"
      }
    },
    {
      "cell_type": "markdown",
      "source": [
        "####List functions"
      ],
      "metadata": {
        "id": "Tz2YROZTKMLq"
      }
    },
    {
      "cell_type": "markdown",
      "source": [
        "**list.append(x)**: adds an item to the end of a list\n",
        "<br>\n",
        "**list.extend(iterable)**: appends all items from the iterable (essentially append but with multiple items)\n",
        "<br>\n",
        "**list.insert(i, x)**: inserts an item into the specified position _i_\n",
        "<br>\n",
        "**list.remove(x)**: removes the first item whose value is equal to x\n",
        "<br>\n",
        "**list.pop([i])**: removes and returns the item at the specified position. If no specified index, removes and returns the last item.\n",
        "<br>\n",
        "**list.clear()**: removes all items from the list\n",
        "<br>\n",
        "**list.count(x)**: returns the number of times _x_ appears in the list\n",
        "<br>\n",
        "**list.sort(*, key=None, reverse=False)**: sorts the items in place\n",
        "<br>\n",
        "**list.reverse()**: reverses the elements in place\n",
        "<br>\n",
        "**list.copy()**: returns a shallow copy of the list\n",
        "<br>"
      ],
      "metadata": {
        "id": "MqP4jhMpKP7K"
      }
    },
    {
      "cell_type": "markdown",
      "source": [
        "#### Using lists as stacks and queues"
      ],
      "metadata": {
        "id": "7zbLC2K3L4sH"
      }
    },
    {
      "cell_type": "markdown",
      "source": [
        "Using lists as stacks in python is very simple. We will follow a LIFO (Last in first out) rule. Using `append()` to push an item to the top of the stack, and `pop()` to pop the top of the stack."
      ],
      "metadata": {
        "id": "fg3yIPpAL7yB"
      }
    },
    {
      "cell_type": "code",
      "source": [
        "stack = [1, 2, 3, 4, 5]\n",
        "stack.append(6)\n",
        "print(stack)\n",
        "stack.pop()\n",
        "print(stack)"
      ],
      "metadata": {
        "colab": {
          "base_uri": "https://localhost:8080/"
        },
        "id": "4YLpNJOdMS_V",
        "outputId": "0b2470d9-e04f-454f-a167-23925880ba88"
      },
      "execution_count": 1,
      "outputs": [
        {
          "output_type": "stream",
          "name": "stdout",
          "text": [
            "[1, 2, 3, 4, 5, 6]\n",
            "[1, 2, 3, 4, 5]\n"
          ]
        }
      ]
    },
    {
      "cell_type": "markdown",
      "source": [
        "Using lists as queues in python is also quite simple, however, is often times less efficient. This is due to having to shift the entire list whenever we insert elements. We can scour the python library for an effective way to combat this. In this case, we use **collections.deque**. With queues, we follow a FIFO (First in first out) rule."
      ],
      "metadata": {
        "id": "_vBTu72rMbp1"
      }
    },
    {
      "cell_type": "code",
      "source": [
        "from collections import deque\n",
        "queue = deque([1, 2, 3, 4, 5])\n",
        "queue.append(6)\n",
        "print(queue)\n",
        "queue.popleft()\n",
        "print(queue)"
      ],
      "metadata": {
        "colab": {
          "base_uri": "https://localhost:8080/"
        },
        "id": "Par0pbDfMzHA",
        "outputId": "9555cbd2-63ca-46d4-8d69-058a8db660e2"
      },
      "execution_count": 2,
      "outputs": [
        {
          "output_type": "stream",
          "name": "stdout",
          "text": [
            "deque([1, 2, 3, 4, 5, 6])\n",
            "deque([2, 3, 4, 5, 6])\n"
          ]
        }
      ]
    },
    {
      "cell_type": "markdown",
      "source": [
        "####List comprehensions"
      ],
      "metadata": {
        "id": "2oOhSys-NKDJ"
      }
    },
    {
      "cell_type": "markdown",
      "source": [
        "List comprehensions in Python are a concise and powerful way to create new lists based on existing sequences or iterables. By condensing what would typically require multiple lines of code into a single line, list comprehensions often lead to more concise and readable code.\n",
        "<br>\n",
        "The below example shows the for loop code for squaring a list of values and its equivalent list comprehension method."
      ],
      "metadata": {
        "id": "jwa9LVRYNLsQ"
      }
    },
    {
      "cell_type": "code",
      "source": [
        "squares = [x**2 for x in range(10)] # squares each value from 0 to 9\n",
        "squares"
      ],
      "metadata": {
        "colab": {
          "base_uri": "https://localhost:8080/"
        },
        "id": "89VNqI7INq8S",
        "outputId": "d9f9aa1e-a191-4005-9858-9a073177e7f6"
      },
      "execution_count": 13,
      "outputs": [
        {
          "output_type": "execute_result",
          "data": {
            "text/plain": [
              "[0, 1, 4, 9, 16, 25, 36, 49, 64, 81]"
            ]
          },
          "metadata": {},
          "execution_count": 13
        }
      ]
    },
    {
      "cell_type": "code",
      "source": [
        "squares = []\n",
        "\n",
        "# for loop equivalent\n",
        "for x in range(10):\n",
        "    squares.append(x**2)\n",
        "\n",
        "squares"
      ],
      "metadata": {
        "colab": {
          "base_uri": "https://localhost:8080/"
        },
        "id": "1vdGMkv8NwfU",
        "outputId": "328be612-7789-4da6-d2bb-5541e41d79ce"
      },
      "execution_count": 9,
      "outputs": [
        {
          "output_type": "execute_result",
          "data": {
            "text/plain": [
              "[0, 1, 4, 9, 16, 25, 36, 49, 64, 81]"
            ]
          },
          "metadata": {},
          "execution_count": 9
        }
      ]
    },
    {
      "cell_type": "markdown",
      "source": [
        "List comprehensions can also be nested, much like loops."
      ],
      "metadata": {
        "id": "l074mcFzOcaG"
      }
    },
    {
      "cell_type": "code",
      "source": [
        "matrix = [[1, 2, 3], [4, 5, 6], [7, 8, 9]]\n",
        "flattened = [num for row in matrix for num in row] # for each row in matrix, we are going to append each num into flattened\n",
        "flattened"
      ],
      "metadata": {
        "colab": {
          "base_uri": "https://localhost:8080/"
        },
        "id": "QUDQyat1OfKW",
        "outputId": "74bfe203-b657-4271-b89e-7ecf390f2b64"
      },
      "execution_count": 10,
      "outputs": [
        {
          "output_type": "execute_result",
          "data": {
            "text/plain": [
              "[1, 2, 3, 4, 5, 6, 7, 8, 9]"
            ]
          },
          "metadata": {},
          "execution_count": 10
        }
      ]
    },
    {
      "cell_type": "code",
      "source": [
        "matrix = [[1, 2, 3], [4, 5, 6], [7, 8, 9]]\n",
        "flattened = []\n",
        "\n",
        "# nested for loop equivalent\n",
        "for row in matrix:\n",
        "    for num in row:\n",
        "        flattened.append(num)\n",
        "flattened"
      ],
      "metadata": {
        "colab": {
          "base_uri": "https://localhost:8080/"
        },
        "id": "8ksk5JIzO3rs",
        "outputId": "5d27d544-4c24-4e07-b9dd-897d253d29a4"
      },
      "execution_count": 11,
      "outputs": [
        {
          "output_type": "execute_result",
          "data": {
            "text/plain": [
              "[1, 2, 3, 4, 5, 6, 7, 8, 9]"
            ]
          },
          "metadata": {},
          "execution_count": 11
        }
      ]
    },
    {
      "cell_type": "markdown",
      "source": [
        "####Del statement"
      ],
      "metadata": {
        "id": "dAgBwZJXPKfk"
      }
    },
    {
      "cell_type": "markdown",
      "source": [
        "`del` can be used to remove an item or slices from a list using its index instead of its value. It can also be used to remove entire variables."
      ],
      "metadata": {
        "id": "0nLBfBiwPMhL"
      }
    },
    {
      "cell_type": "code",
      "source": [
        "fruits = ['apple', 'banana', 'cherry', 'date', 'elderberry']\n",
        "print(\"Original list:\", fruits)\n",
        "\n",
        "# delete the second item (index 1)\n",
        "del fruits[1]\n",
        "print(\"After deleting index 1:\", fruits)\n",
        "\n",
        "# delete a slice (index 1 and index 2)\n",
        "del fruits[1:3]\n",
        "print(\"After deleting slice 1:3:\", fruits)\n",
        "\n",
        "# delete the entire list\n",
        "del fruits"
      ],
      "metadata": {
        "colab": {
          "base_uri": "https://localhost:8080/"
        },
        "id": "aZNvuWiEPj6n",
        "outputId": "787bf80c-d85a-4468-8de7-60fe4bff4175"
      },
      "execution_count": 12,
      "outputs": [
        {
          "output_type": "stream",
          "name": "stdout",
          "text": [
            "Original list: ['apple', 'banana', 'cherry', 'date', 'elderberry']\n",
            "After deleting index 1: ['apple', 'cherry', 'date', 'elderberry']\n",
            "After deleting slice 1:3: ['apple', 'elderberry']\n"
          ]
        }
      ]
    },
    {
      "cell_type": "markdown",
      "source": [
        "####Tuples and Sequences"
      ],
      "metadata": {
        "id": "YU0rX3iIQGzz"
      }
    },
    {
      "cell_type": "markdown",
      "source": [
        "Tuples are sequences that consist of values separated by commas. They are always enclosed in parentheses. Technically, they do not need to be inputted with the parentheses, although it is common practice to do so. Nesting tuples will necessitate the usage of parentheses.\n",
        "<br>\n",
        "Although similar to lists, tuples are immutable and often accessed via unpacking. They can also be iterated through like lists."
      ],
      "metadata": {
        "id": "I3Or9m_dQHfC"
      }
    },
    {
      "cell_type": "code",
      "source": [
        "tup = 12345, 'batman', 54321\n",
        "print(tup[0])\n",
        "tup"
      ],
      "metadata": {
        "colab": {
          "base_uri": "https://localhost:8080/"
        },
        "id": "S2U4xSt0RBqo",
        "outputId": "648273f7-632b-4684-8729-600b207da86d"
      },
      "execution_count": 25,
      "outputs": [
        {
          "output_type": "stream",
          "name": "stdout",
          "text": [
            "12345\n"
          ]
        },
        {
          "output_type": "execute_result",
          "data": {
            "text/plain": [
              "(12345, 'batman', 54321)"
            ]
          },
          "metadata": {},
          "execution_count": 25
        }
      ]
    },
    {
      "cell_type": "code",
      "source": [
        "nested_tup = (12345, ('batman', 54321))\n",
        "print(nested_tup[1][0])\n",
        "nested_tup"
      ],
      "metadata": {
        "colab": {
          "base_uri": "https://localhost:8080/"
        },
        "id": "I6SjMlMORVCR",
        "outputId": "659915f8-fb7a-44ec-fbb1-726190d7a022"
      },
      "execution_count": 24,
      "outputs": [
        {
          "output_type": "stream",
          "name": "stdout",
          "text": [
            "batman\n"
          ]
        },
        {
          "output_type": "execute_result",
          "data": {
            "text/plain": [
              "(12345, ('batman', 54321))"
            ]
          },
          "metadata": {},
          "execution_count": 24
        }
      ]
    },
    {
      "cell_type": "markdown",
      "source": [
        "For tuples with 0 or 1 items, the syntax is as follows:"
      ],
      "metadata": {
        "id": "1mBn1RmhRqfK"
      }
    },
    {
      "cell_type": "code",
      "source": [
        "# 0 items\n",
        "empty_tup = ()\n",
        "\n",
        "# 1 item\n",
        "single_tup = 'batman',\n",
        "\n",
        "print(len(empty_tup))\n",
        "print(len(single_tup))\n",
        "single_tup"
      ],
      "metadata": {
        "colab": {
          "base_uri": "https://localhost:8080/"
        },
        "id": "zhZ28uwvRrZd",
        "outputId": "f318f547-6e8c-4800-b836-3d0842aec24f"
      },
      "execution_count": 30,
      "outputs": [
        {
          "output_type": "stream",
          "name": "stdout",
          "text": [
            "0\n",
            "1\n"
          ]
        },
        {
          "output_type": "execute_result",
          "data": {
            "text/plain": [
              "('batman',)"
            ]
          },
          "metadata": {},
          "execution_count": 30
        }
      ]
    },
    {
      "cell_type": "code",
      "source": [
        "# tuple unpacking\n",
        "a, b, c = tup\n",
        "print(a)\n",
        "print(b)\n",
        "print(c)"
      ],
      "metadata": {
        "colab": {
          "base_uri": "https://localhost:8080/"
        },
        "id": "xbqQ_u1bSJ91",
        "outputId": "a06a9f24-c5d3-4606-edb5-2bcbb8b51253"
      },
      "execution_count": 33,
      "outputs": [
        {
          "output_type": "stream",
          "name": "stdout",
          "text": [
            "12345\n",
            "batman\n",
            "54321\n"
          ]
        }
      ]
    },
    {
      "cell_type": "markdown",
      "source": [
        "####Sets and Dictionaries"
      ],
      "metadata": {
        "id": "Q2rdCDqVSfEZ"
      }
    },
    {
      "cell_type": "markdown",
      "source": [],
      "metadata": {
        "id": "ceDyqXxBSgh-"
      }
    }
  ]
}