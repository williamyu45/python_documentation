{
  "nbformat": 4,
  "nbformat_minor": 0,
  "metadata": {
    "colab": {
      "provenance": [],
      "authorship_tag": "ABX9TyO5QXmFIhwUwhtmNHpikbz8"
    },
    "kernelspec": {
      "name": "python3",
      "display_name": "Python 3"
    },
    "language_info": {
      "name": "python"
    }
  },
  "cells": [
    {
      "cell_type": "markdown",
      "source": [
        "# Chapter 2: Using the Python Interpreter"
      ],
      "metadata": {
        "id": "Cs0tauRObn1_"
      }
    },
    {
      "cell_type": "markdown",
      "source": [
        "The Python interpreter is generally installed in `/usr/local/bin/python(version#)`.\n",
        "However, it can also be installed in any directory of the user's choice.\n",
        "<br>\n",
        "To exit the interpreter, the user can type an end-of-file character or by typing the command: `quit()`.\n",
        "<br>\n",
        "<br>\n",
        "**Command line execution:** Use `python -c \"your_command\"` to run Python code directly from the terminal. This is similar to using the -c option in shell commands.\n",
        "<br>\n",
        "**Running Python Modules:** Execute `python -m module_name` to run a Python module as a script. This method uses the full module name and is useful for running built-in or installed modules directly.\n",
        "<br>\n",
        "**Interactive Mode After Script:** Add the -i flag before your script name (`python -i your_script.py`) to enter interactive mode after the script finishes. This allows you to inspect variables or continue working with the script's context.\n",
        "<br>\n",
        "<br>\n",
        "When passing arguments, the script name and other arguments are assigned to the `argv` variable in the `sys` module.\n",
        "<br>\n",
        "With no scripts or arguments, the length of `sys.argv[0]` is 0, an empty string.\n",
        "<br>\n",
        "Script name is standard input (-): `sys.argv[0]` is set to '-'\n",
        "<br>\n",
        "-c command used: `sys.argv[0]` is set to '-c'\n",
        "<br>\n",
        "-m module is used: `sys.argv[0]` is set to the full name of the located module.\n",
        "<br>\n",
        "<br>\n",
        "In the TTY, the interpreter is in interactive mode. The next command is then prompted with the **primary prompt** (>>>). Continuation lines are prompted with the **secondary prompt** (...).\n",
        "<br>\n",
        "<br>\n",
        "Python source files are encoded in UTF-8 by default.\n",
        "<br>\n",
        "To declare an encoding other than the default, a special comment line should be added as the first line of the file.\n",
        "<br>\n",
        "```python\n",
        "# -*- coding: encoding -*-\n",
        "```\n",
        "<br>\n",
        "An exception to the first line rule is when the source code starts with a UNIX “shebang” line. The declaration should then be added to the second line\n",
        "<br>\n",
        "\n",
        "```python\n",
        "#!/usr/bin/env python3\n",
        "#-*- coding: cp1252 -*-`\n",
        "```"
      ],
      "metadata": {
        "id": "ESAJUyH0b0Y_"
      }
    },
    {
      "cell_type": "markdown",
      "source": [
        "# Chapter 3. An Informal Introduction to Python"
      ],
      "metadata": {
        "id": "ITSM8t8R0jUa"
      }
    },
    {
      "cell_type": "markdown",
      "source": [
        "Comments begin with the hash character `#`, and extend to the end of the line. Comments can be added at the beginning of a line, or right behind whitespace or code. They can not be added within a string literal. For example, the first three comments are allowed, whereas the last line would not result in a comment.\n",
        "<br>"
      ],
      "metadata": {
        "id": "XkX9SiOQ1H-6"
      }
    },
    {
      "cell_type": "code",
      "source": [
        "# beginning of new line\n",
        "x = 2 # behind code\n",
        "      # behind whitespace\n",
        "y = \"# but not within a string literal\""
      ],
      "metadata": {
        "id": "FiaFR-JG1vvS"
      },
      "execution_count": 1,
      "outputs": []
    },
    {
      "cell_type": "markdown",
      "source": [
        "Within the interpretor or a script, the operators `+`, `-`, `*` and `/` can be used to perform arithmetic in an expression. You can also group expressions with parantheses, `()`."
      ],
      "metadata": {
        "id": "_4LrNmOk297-"
      }
    },
    {
      "cell_type": "code",
      "source": [
        "1 + 1"
      ],
      "metadata": {
        "colab": {
          "base_uri": "https://localhost:8080/"
        },
        "id": "OTGljY4C3Y1F",
        "outputId": "90b05a34-78cc-40bb-e6f0-4eb9365eeb3d"
      },
      "execution_count": 6,
      "outputs": [
        {
          "output_type": "execute_result",
          "data": {
            "text/plain": [
              "2"
            ]
          },
          "metadata": {},
          "execution_count": 6
        }
      ]
    },
    {
      "cell_type": "code",
      "source": [
        "10 - 2 * 3"
      ],
      "metadata": {
        "colab": {
          "base_uri": "https://localhost:8080/"
        },
        "id": "NSvYNFL53dgL",
        "outputId": "ab71d9e2-2355-4d99-eaee-9b70ba9a956d"
      },
      "execution_count": 7,
      "outputs": [
        {
          "output_type": "execute_result",
          "data": {
            "text/plain": [
              "4"
            ]
          },
          "metadata": {},
          "execution_count": 7
        }
      ]
    },
    {
      "cell_type": "code",
      "source": [
        "(10 - 2 * 3) / 4"
      ],
      "metadata": {
        "colab": {
          "base_uri": "https://localhost:8080/"
        },
        "id": "lUKk-ebc3h-Q",
        "outputId": "f64a95e9-4dc9-48e2-9700-da3abdfdf03b"
      },
      "execution_count": 8,
      "outputs": [
        {
          "output_type": "execute_result",
          "data": {
            "text/plain": [
              "1.0"
            ]
          },
          "metadata": {},
          "execution_count": 8
        }
      ]
    },
    {
      "cell_type": "code",
      "source": [
        "10 / 4"
      ],
      "metadata": {
        "colab": {
          "base_uri": "https://localhost:8080/"
        },
        "id": "lyxYZavJ3uIh",
        "outputId": "6d710521-cb61-4293-bb18-bc9cbe7c844b"
      },
      "execution_count": 9,
      "outputs": [
        {
          "output_type": "execute_result",
          "data": {
            "text/plain": [
              "2.5"
            ]
          },
          "metadata": {},
          "execution_count": 9
        }
      ]
    },
    {
      "cell_type": "markdown",
      "source": [
        "Integer values are of type **int**, and decimal values are of type **float**. Division will always return a float.\n",
        "<br>\n",
        "`//` floor division returns the integer result of a division\n",
        "<br>\n",
        "`%` the modulus operator returns the remainder of a division\n",
        "<br>\n",
        "`**` is used to calculate powers\n",
        "<br>\n",
        "`=` is used to assign a value to a variable"
      ],
      "metadata": {
        "id": "hjOxZU_53y2t"
      }
    },
    {
      "cell_type": "code",
      "source": [
        "15 // 6"
      ],
      "metadata": {
        "colab": {
          "base_uri": "https://localhost:8080/"
        },
        "id": "6cC9HNz-4lgs",
        "outputId": "d1295cc7-9f7e-4671-f3b3-1e4d379a1351"
      },
      "execution_count": 13,
      "outputs": [
        {
          "output_type": "execute_result",
          "data": {
            "text/plain": [
              "2"
            ]
          },
          "metadata": {},
          "execution_count": 13
        }
      ]
    },
    {
      "cell_type": "code",
      "source": [
        "15 % 6"
      ],
      "metadata": {
        "colab": {
          "base_uri": "https://localhost:8080/"
        },
        "id": "E0hnwBsm4ubL",
        "outputId": "c49954b1-0def-4bb3-c988-4f23b6825176"
      },
      "execution_count": 16,
      "outputs": [
        {
          "output_type": "execute_result",
          "data": {
            "text/plain": [
              "3"
            ]
          },
          "metadata": {},
          "execution_count": 16
        }
      ]
    },
    {
      "cell_type": "code",
      "source": [
        "2 ** 3"
      ],
      "metadata": {
        "colab": {
          "base_uri": "https://localhost:8080/"
        },
        "id": "TgRNNCO-462I",
        "outputId": "bc42134e-be63-43b8-eda9-6d27fde74fa0"
      },
      "execution_count": 17,
      "outputs": [
        {
          "output_type": "execute_result",
          "data": {
            "text/plain": [
              "8"
            ]
          },
          "metadata": {},
          "execution_count": 17
        }
      ]
    },
    {
      "cell_type": "code",
      "source": [
        "x = 10\n",
        "y = 2\n",
        "x * y"
      ],
      "metadata": {
        "colab": {
          "base_uri": "https://localhost:8080/"
        },
        "id": "dRX2c2Ym4-lO",
        "outputId": "9bab72ee-f1de-4565-8933-313a7436fc1e"
      },
      "execution_count": 18,
      "outputs": [
        {
          "output_type": "execute_result",
          "data": {
            "text/plain": [
              "20"
            ]
          },
          "metadata": {},
          "execution_count": 18
        }
      ]
    },
    {
      "cell_type": "code",
      "source": [
        "z # variables that have not been assigned will be undefined and draw an error"
      ],
      "metadata": {
        "colab": {
          "base_uri": "https://localhost:8080/",
          "height": 141
        },
        "id": "dmie5ofi5FYF",
        "outputId": "b1e11900-3ec7-419f-bbd5-62f5c153a31c"
      },
      "execution_count": 20,
      "outputs": [
        {
          "output_type": "error",
          "ename": "NameError",
          "evalue": "name 'z' is not defined",
          "traceback": [
            "\u001b[0;31m---------------------------------------------------------------------------\u001b[0m",
            "\u001b[0;31mNameError\u001b[0m                                 Traceback (most recent call last)",
            "\u001b[0;32m<ipython-input-20-7d23a8f34251>\u001b[0m in \u001b[0;36m<cell line: 1>\u001b[0;34m()\u001b[0m\n\u001b[0;32m----> 1\u001b[0;31m \u001b[0mz\u001b[0m \u001b[0;31m# variables that have not been assigned will be undefined and draw an error\u001b[0m\u001b[0;34m\u001b[0m\u001b[0;34m\u001b[0m\u001b[0m\n\u001b[0m",
            "\u001b[0;31mNameError\u001b[0m: name 'z' is not defined"
          ]
        }
      ]
    }
  ]
}