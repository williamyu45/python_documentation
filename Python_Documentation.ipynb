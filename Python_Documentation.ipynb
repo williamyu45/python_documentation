{
  "nbformat": 4,
  "nbformat_minor": 0,
  "metadata": {
    "colab": {
      "provenance": [],
      "authorship_tag": "ABX9TyNQQuLoITc//78g1VmzUjl5"
    },
    "kernelspec": {
      "name": "python3",
      "display_name": "Python 3"
    },
    "language_info": {
      "name": "python"
    }
  },
  "cells": [
    {
      "cell_type": "markdown",
      "source": [
        "# Chapter 2: Using the Python Interpreter"
      ],
      "metadata": {
        "id": "Cs0tauRObn1_"
      }
    },
    {
      "cell_type": "markdown",
      "source": [
        "The Python interpreter is generally installed in `/usr/local/bin/python(version#)`.\n",
        "However, it can also be installed in any directory of the user's choice.\n",
        "<br>\n",
        "To exit the interpreter, the user can type an end-of-file character or by typing the command: `quit()`.\n",
        "<br>\n",
        "<br>\n",
        "**Command line execution:** Use `python -c \"your_command\"` to run Python code directly from the terminal. This is similar to using the -c option in shell commands.\n",
        "<br>\n",
        "**Running Python Modules:** Execute `python -m module_name` to run a Python module as a script. This method uses the full module name and is useful for running built-in or installed modules directly.\n",
        "<br>\n",
        "**Interactive Mode After Script:** Add the -i flag before your script name (`python -i your_script.py`) to enter interactive mode after the script finishes. This allows you to inspect variables or continue working with the script's context.\n",
        "<br>\n",
        "<br>\n",
        "When passing arguments, the script name and other arguments are assigned to the `argv` variable in the `sys` module.\n",
        "<br>\n",
        "With no scripts or arguments, the length of `sys.argv[0]` is 0, an empty string.\n",
        "<br>\n",
        "Script name is standard input (-): `sys.argv[0]` is set to '-'\n",
        "<br>\n",
        "-c command used: `sys.argv[0]` is set to '-c'\n",
        "<br>\n",
        "-m module is used: `sys.argv[0]` is set to the full name of the located module.\n",
        "<br>\n",
        "<br>\n",
        "In the TTY, the interpreter is in interactive mode. The next command is then prompted with the **primary prompt** (>>>). Continuation lines are prompted with the **secondary prompt** (...).\n",
        "<br>\n",
        "<br>\n",
        "Python source files are encoded in UTF-8 by default.\n",
        "<br>\n",
        "To declare an encoding other than the default, a special comment line should be added as the first line of the file.\n",
        "<br>\n",
        "`# -*- coding: encoding -*-`\n",
        "<br>\n",
        "An exception to the first line rule is when the source code starts with a UNIX “shebang” line. The declaration should then be added to the second line\n",
        "<br>\n",
        "```\n",
        "#!/usr/bin/env python3\n",
        "#-*- coding: cp1252 -*-\n",
        "```"
      ],
      "metadata": {
        "id": "ESAJUyH0b0Y_"
      }
    },
    {
      "cell_type": "markdown",
      "source": [
        "# Chapter 3. An Informal Introduction to Python"
      ],
      "metadata": {
        "id": "ITSM8t8R0jUa"
      }
    },
    {
      "cell_type": "markdown",
      "source": [
        "Comments begin with the hash character `#`, and extend to the end of the line. Comments can be added at the beginning of a line, or right behind whitespace or code. They can not be added within a string literal. For example, the first three comments are allowed, whereas the last line would not result in a comment.\n",
        "<br>"
      ],
      "metadata": {
        "id": "XkX9SiOQ1H-6"
      }
    },
    {
      "cell_type": "code",
      "source": [
        "# beginning of new line\n",
        "x = 2 # behind code\n",
        "      # behind whitespace\n",
        "y = \"# but not within a string literal\""
      ],
      "metadata": {
        "id": "FiaFR-JG1vvS"
      },
      "execution_count": 1,
      "outputs": []
    }
  ]
}