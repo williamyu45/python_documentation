{
  "nbformat": 4,
  "nbformat_minor": 0,
  "metadata": {
    "colab": {
      "provenance": [],
      "authorship_tag": "ABX9TyOgGUYBRpS05mT7/nRe98Uf"
    },
    "kernelspec": {
      "name": "python3",
      "display_name": "Python 3"
    },
    "language_info": {
      "name": "python"
    }
  },
  "cells": [
    {
      "cell_type": "markdown",
      "source": [
        "# Chapter 2: Using the Python Interpreter"
      ],
      "metadata": {
        "id": "Cs0tauRObn1_"
      }
    },
    {
      "cell_type": "markdown",
      "source": [
        "test push 2"
      ],
      "metadata": {
        "id": "ESAJUyH0b0Y_"
      }
    },
    {
      "cell_type": "code",
      "execution_count": null,
      "metadata": {
        "id": "_izo6OTLbisj"
      },
      "outputs": [],
      "source": []
    }
  ]
}