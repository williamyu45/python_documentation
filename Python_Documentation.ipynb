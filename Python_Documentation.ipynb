{
  "nbformat": 4,
  "nbformat_minor": 0,
  "metadata": {
    "colab": {
      "provenance": [],
      "authorship_tag": "ABX9TyNuY8eFUkANHsDTy0EfXKNZ"
    },
    "kernelspec": {
      "name": "python3",
      "display_name": "Python 3"
    },
    "language_info": {
      "name": "python"
    }
  },
  "cells": [
    {
      "cell_type": "markdown",
      "source": [
        "# Chapter 2: Using the Python Interpreter"
      ],
      "metadata": {
        "id": "Cs0tauRObn1_"
      }
    },
    {
      "cell_type": "markdown",
      "source": [
        "####Interpreter"
      ],
      "metadata": {
        "id": "SnpgIqT0NAHh"
      }
    },
    {
      "cell_type": "markdown",
      "source": [
        "The Python interpreter is generally installed in `/usr/local/bin/python(version#)`.\n",
        "However, it can also be installed in any directory of the user's choice.\n",
        "<br>\n",
        "To exit the interpreter, the user can type an end-of-file character or by typing the command: `quit()`.\n",
        "<br>\n",
        "<br>\n",
        "**Command line execution:** Use `python -c \"your_command\"` to run Python code directly from the terminal. This is similar to using the -c option in shell commands.\n",
        "<br>\n",
        "**Running Python Modules:** Execute `python -m module_name` to run a Python module as a script. This method uses the full module name and is useful for running built-in or installed modules directly.\n",
        "<br>\n",
        "**Interactive Mode After Script:** Add the -i flag before your script name (`python -i your_script.py`) to enter interactive mode after the script finishes. This allows you to inspect variables or continue working with the script's context.\n",
        "<br>\n",
        "<br>\n",
        "When passing arguments, the script name and other arguments are assigned to the `argv` variable in the `sys` module.\n",
        "<br>\n",
        "With no scripts or arguments, the length of `sys.argv[0]` is 0, an empty string.\n",
        "<br>\n",
        "Script name is standard input (-): `sys.argv[0]` is set to '-'\n",
        "<br>\n",
        "-c command used: `sys.argv[0]` is set to '-c'\n",
        "<br>\n",
        "-m module is used: `sys.argv[0]` is set to the full name of the located module."
      ],
      "metadata": {
        "id": "ESAJUyH0b0Y_"
      }
    },
    {
      "cell_type": "markdown",
      "source": [
        "####Interpreter and Environment"
      ],
      "metadata": {
        "id": "NNnHfHQ4NQHT"
      }
    },
    {
      "cell_type": "markdown",
      "source": [
        "In the TTY, the interpreter is in interactive mode. The next command is then prompted with the **primary prompt** (>>>). Continuation lines are prompted with the **secondary prompt** (...).\n",
        "<br>\n",
        "<br>\n",
        "Python source files are encoded in UTF-8 by default.\n",
        "<br>\n",
        "To declare an encoding other than the default, a special comment line should be added as the first line of the file.\n",
        "<br>\n",
        "```python\n",
        "# -*- coding: encoding -*-\n",
        "```\n",
        "<br>\n",
        "An exception to the first line rule is when the source code starts with a UNIX “shebang” line. The declaration should then be added to the second line\n",
        "<br>\n",
        "\n",
        "```python\n",
        "#!/usr/bin/env python3\n",
        "#-*- coding: cp1252 -*-`\n",
        "```"
      ],
      "metadata": {
        "id": "HkSrVoPONSmg"
      }
    },
    {
      "cell_type": "markdown",
      "source": [
        "# Chapter 3. An Informal Introduction to Python"
      ],
      "metadata": {
        "id": "ITSM8t8R0jUa"
      }
    },
    {
      "cell_type": "markdown",
      "source": [
        "####Comments and Simple Operators"
      ],
      "metadata": {
        "id": "bKRvFYJQMgpd"
      }
    },
    {
      "cell_type": "markdown",
      "source": [
        "Comments begin with the hash character `#`, and extend to the end of the line. Comments can be added at the beginning of a line, or right behind whitespace or code. They can not be added within a string literal. For example, the first three comments are allowed, whereas the last line would not result in a comment.\n",
        "<br>"
      ],
      "metadata": {
        "id": "XkX9SiOQ1H-6"
      }
    },
    {
      "cell_type": "code",
      "source": [
        "# beginning of new line\n",
        "x = 2 # behind code\n",
        "      # behind whitespace\n",
        "y = \"# but not within a string literal\""
      ],
      "metadata": {
        "id": "FiaFR-JG1vvS"
      },
      "execution_count": null,
      "outputs": []
    },
    {
      "cell_type": "markdown",
      "source": [
        "Within the interpreter or a script, the operators `+`, `-`, `*` and `/` can be used to perform arithmetic in an expression. You can also group expressions with parantheses, `()`."
      ],
      "metadata": {
        "id": "_4LrNmOk297-"
      }
    },
    {
      "cell_type": "code",
      "source": [
        "1 + 1"
      ],
      "metadata": {
        "colab": {
          "base_uri": "https://localhost:8080/"
        },
        "id": "OTGljY4C3Y1F",
        "outputId": "90b05a34-78cc-40bb-e6f0-4eb9365eeb3d"
      },
      "execution_count": null,
      "outputs": [
        {
          "output_type": "execute_result",
          "data": {
            "text/plain": [
              "2"
            ]
          },
          "metadata": {},
          "execution_count": 6
        }
      ]
    },
    {
      "cell_type": "code",
      "source": [
        "10 - 2 * 3"
      ],
      "metadata": {
        "colab": {
          "base_uri": "https://localhost:8080/"
        },
        "id": "NSvYNFL53dgL",
        "outputId": "ab71d9e2-2355-4d99-eaee-9b70ba9a956d"
      },
      "execution_count": null,
      "outputs": [
        {
          "output_type": "execute_result",
          "data": {
            "text/plain": [
              "4"
            ]
          },
          "metadata": {},
          "execution_count": 7
        }
      ]
    },
    {
      "cell_type": "code",
      "source": [
        "(10 - 2 * 3) / 4"
      ],
      "metadata": {
        "colab": {
          "base_uri": "https://localhost:8080/"
        },
        "id": "lUKk-ebc3h-Q",
        "outputId": "f64a95e9-4dc9-48e2-9700-da3abdfdf03b"
      },
      "execution_count": null,
      "outputs": [
        {
          "output_type": "execute_result",
          "data": {
            "text/plain": [
              "1.0"
            ]
          },
          "metadata": {},
          "execution_count": 8
        }
      ]
    },
    {
      "cell_type": "code",
      "source": [
        "10 / 4"
      ],
      "metadata": {
        "colab": {
          "base_uri": "https://localhost:8080/"
        },
        "id": "lyxYZavJ3uIh",
        "outputId": "6d710521-cb61-4293-bb18-bc9cbe7c844b"
      },
      "execution_count": null,
      "outputs": [
        {
          "output_type": "execute_result",
          "data": {
            "text/plain": [
              "2.5"
            ]
          },
          "metadata": {},
          "execution_count": 9
        }
      ]
    },
    {
      "cell_type": "markdown",
      "source": [
        "Integer values are of type **int**, and decimal values are of type **float**. Division will always return a float.\n",
        "<br>\n",
        "`//` floor division returns the integer result of a division\n",
        "<br>\n",
        "`%` the modulus operator returns the remainder of a division\n",
        "<br>\n",
        "`**` is used to calculate powers\n",
        "<br>\n",
        "`=` is used to assign a value to a variable"
      ],
      "metadata": {
        "id": "hjOxZU_53y2t"
      }
    },
    {
      "cell_type": "code",
      "source": [
        "15 // 6"
      ],
      "metadata": {
        "colab": {
          "base_uri": "https://localhost:8080/"
        },
        "id": "6cC9HNz-4lgs",
        "outputId": "d1295cc7-9f7e-4671-f3b3-1e4d379a1351"
      },
      "execution_count": null,
      "outputs": [
        {
          "output_type": "execute_result",
          "data": {
            "text/plain": [
              "2"
            ]
          },
          "metadata": {},
          "execution_count": 13
        }
      ]
    },
    {
      "cell_type": "code",
      "source": [
        "15 % 6"
      ],
      "metadata": {
        "colab": {
          "base_uri": "https://localhost:8080/"
        },
        "id": "E0hnwBsm4ubL",
        "outputId": "c49954b1-0def-4bb3-c988-4f23b6825176"
      },
      "execution_count": null,
      "outputs": [
        {
          "output_type": "execute_result",
          "data": {
            "text/plain": [
              "3"
            ]
          },
          "metadata": {},
          "execution_count": 16
        }
      ]
    },
    {
      "cell_type": "code",
      "source": [
        "2 ** 3"
      ],
      "metadata": {
        "colab": {
          "base_uri": "https://localhost:8080/"
        },
        "id": "TgRNNCO-462I",
        "outputId": "bc42134e-be63-43b8-eda9-6d27fde74fa0"
      },
      "execution_count": null,
      "outputs": [
        {
          "output_type": "execute_result",
          "data": {
            "text/plain": [
              "8"
            ]
          },
          "metadata": {},
          "execution_count": 17
        }
      ]
    },
    {
      "cell_type": "code",
      "source": [
        "x = 10\n",
        "y = 2\n",
        "x * y"
      ],
      "metadata": {
        "colab": {
          "base_uri": "https://localhost:8080/"
        },
        "id": "dRX2c2Ym4-lO",
        "outputId": "9bab72ee-f1de-4565-8933-313a7436fc1e"
      },
      "execution_count": null,
      "outputs": [
        {
          "output_type": "execute_result",
          "data": {
            "text/plain": [
              "20"
            ]
          },
          "metadata": {},
          "execution_count": 18
        }
      ]
    },
    {
      "cell_type": "code",
      "source": [
        "z # variables that have not been assigned will be undefined and draw an error"
      ],
      "metadata": {
        "colab": {
          "base_uri": "https://localhost:8080/",
          "height": 141
        },
        "id": "dmie5ofi5FYF",
        "outputId": "b1e11900-3ec7-419f-bbd5-62f5c153a31c"
      },
      "execution_count": null,
      "outputs": [
        {
          "output_type": "error",
          "ename": "NameError",
          "evalue": "name 'z' is not defined",
          "traceback": [
            "\u001b[0;31m---------------------------------------------------------------------------\u001b[0m",
            "\u001b[0;31mNameError\u001b[0m                                 Traceback (most recent call last)",
            "\u001b[0;32m<ipython-input-20-7d23a8f34251>\u001b[0m in \u001b[0;36m<cell line: 1>\u001b[0;34m()\u001b[0m\n\u001b[0;32m----> 1\u001b[0;31m \u001b[0mz\u001b[0m \u001b[0;31m# variables that have not been assigned will be undefined and draw an error\u001b[0m\u001b[0;34m\u001b[0m\u001b[0;34m\u001b[0m\u001b[0m\n\u001b[0m",
            "\u001b[0;31mNameError\u001b[0m: name 'z' is not defined"
          ]
        }
      ]
    },
    {
      "cell_type": "markdown",
      "source": [
        "####Text"
      ],
      "metadata": {
        "id": "WehxtlOYMnT0"
      }
    },
    {
      "cell_type": "markdown",
      "source": [
        "Texts in python are strings and are of type **str**. Enclosing strings in single quotes `''` or double quotes `\"\"` have no difference.\n",
        "<br>\n",
        "To quote a quote, we can either switch between single and double quotes, or use `\\` preceeding the quote.\n",
        "<br>\n",
        "We can use `\\n` to invoke a new line within a string when printed.\n",
        "<br>\n",
        "The `print()` function can often make strings more readable."
      ],
      "metadata": {
        "id": "SHjxPpqO5bQQ"
      }
    },
    {
      "cell_type": "code",
      "source": [
        "'Hello World!' # single quotes"
      ],
      "metadata": {
        "colab": {
          "base_uri": "https://localhost:8080/",
          "height": 35
        },
        "id": "3y-qBJ0n7MyP",
        "outputId": "5c7e7a19-b597-4f99-e6e4-d8a01d9f4927"
      },
      "execution_count": null,
      "outputs": [
        {
          "output_type": "execute_result",
          "data": {
            "text/plain": [
              "'Hello World!'"
            ],
            "application/vnd.google.colaboratory.intrinsic+json": {
              "type": "string"
            }
          },
          "metadata": {},
          "execution_count": 24
        }
      ]
    },
    {
      "cell_type": "code",
      "source": [
        "\"Hello World!\" # double quotes"
      ],
      "metadata": {
        "colab": {
          "base_uri": "https://localhost:8080/",
          "height": 35
        },
        "id": "Qz_j4KL47QYX",
        "outputId": "e9c5b1d6-21be-4d6b-9dc6-192a5266eaa3"
      },
      "execution_count": null,
      "outputs": [
        {
          "output_type": "execute_result",
          "data": {
            "text/plain": [
              "'Hello World!'"
            ],
            "application/vnd.google.colaboratory.intrinsic+json": {
              "type": "string"
            }
          },
          "metadata": {},
          "execution_count": 25
        }
      ]
    },
    {
      "cell_type": "code",
      "source": [
        "\"12345\" # numerical values can be strings as well"
      ],
      "metadata": {
        "colab": {
          "base_uri": "https://localhost:8080/",
          "height": 35
        },
        "id": "GIM4PzKK7VFG",
        "outputId": "e8d06d58-eef2-438a-e171-0d3af9674687"
      },
      "execution_count": null,
      "outputs": [
        {
          "output_type": "execute_result",
          "data": {
            "text/plain": [
              "'12345'"
            ],
            "application/vnd.google.colaboratory.intrinsic+json": {
              "type": "string"
            }
          },
          "metadata": {},
          "execution_count": 26
        }
      ]
    },
    {
      "cell_type": "code",
      "source": [
        "\"'Hello World!', I said\" # single quotes within double quotes"
      ],
      "metadata": {
        "colab": {
          "base_uri": "https://localhost:8080/",
          "height": 35
        },
        "id": "dH99pUSg7huV",
        "outputId": "c95cec0b-dfdb-491e-df7b-83991acbf2b6"
      },
      "execution_count": null,
      "outputs": [
        {
          "output_type": "execute_result",
          "data": {
            "text/plain": [
              "\"'Hello World!', I said\""
            ],
            "application/vnd.google.colaboratory.intrinsic+json": {
              "type": "string"
            }
          },
          "metadata": {},
          "execution_count": 27
        }
      ]
    },
    {
      "cell_type": "code",
      "source": [
        "\"\\\"Hello World!\\\", I said\" # using escape \\"
      ],
      "metadata": {
        "colab": {
          "base_uri": "https://localhost:8080/",
          "height": 35
        },
        "id": "SHFp4kBW7oLl",
        "outputId": "16fac567-4987-4a24-8e1c-e3a72930709f"
      },
      "execution_count": null,
      "outputs": [
        {
          "output_type": "execute_result",
          "data": {
            "text/plain": [
              "'\"Hello World!\", I said'"
            ],
            "application/vnd.google.colaboratory.intrinsic+json": {
              "type": "string"
            }
          },
          "metadata": {},
          "execution_count": 28
        }
      ]
    },
    {
      "cell_type": "code",
      "source": [
        "\"First line \\nSecond line\" # new line \\n without print"
      ],
      "metadata": {
        "colab": {
          "base_uri": "https://localhost:8080/",
          "height": 35
        },
        "id": "Cc3BAEaW74e_",
        "outputId": "ee1e8aa1-7972-4f6f-9355-0af16c99aaa8"
      },
      "execution_count": null,
      "outputs": [
        {
          "output_type": "execute_result",
          "data": {
            "text/plain": [
              "'First line \\nSecond line'"
            ],
            "application/vnd.google.colaboratory.intrinsic+json": {
              "type": "string"
            }
          },
          "metadata": {},
          "execution_count": 30
        }
      ]
    },
    {
      "cell_type": "code",
      "source": [
        "line = \"First line \\nSecond line\" # new line \\n with print\n",
        "print(line)"
      ],
      "metadata": {
        "colab": {
          "base_uri": "https://localhost:8080/"
        },
        "id": "ZRgk6W_b8Ik8",
        "outputId": "db7ebfac-ff6c-4f84-cb3c-fbc6275c0e55"
      },
      "execution_count": null,
      "outputs": [
        {
          "output_type": "stream",
          "name": "stdout",
          "text": [
            "First line \n",
            "Second line\n"
          ]
        }
      ]
    },
    {
      "cell_type": "markdown",
      "source": [
        "Adding `r` in front of the first quotation turns the string into a raw string. Raw strings may be used to avoid `\\` being interpreted as special characters."
      ],
      "metadata": {
        "id": "kcfjnBww8T0L"
      }
    },
    {
      "cell_type": "code",
      "source": [
        "print(r'C:\\some\\name')  # note the r before the quote C:\\some\\name"
      ],
      "metadata": {
        "colab": {
          "base_uri": "https://localhost:8080/"
        },
        "id": "03sZGfm98m6U",
        "outputId": "83554ec1-4959-465c-c469-9f628089ffaa"
      },
      "execution_count": null,
      "outputs": [
        {
          "output_type": "stream",
          "name": "stdout",
          "text": [
            "C:\\some\\name\n"
          ]
        }
      ]
    },
    {
      "cell_type": "markdown",
      "source": [
        "String literals can span multiple lines using triple quotes `\"\"\"...\"\"\"`, `'''...'''`. They can also be concatenated with `+` and repeated with `*`. Multiple string literals side by side are automatically concatenated."
      ],
      "metadata": {
        "id": "JAXRYeyj-7TS"
      }
    },
    {
      "cell_type": "code",
      "source": [
        "print(\"\"\"Hello World!\n",
        "      Hello World!\n",
        "                  Hello World!\n",
        "      \"\"\")"
      ],
      "metadata": {
        "colab": {
          "base_uri": "https://localhost:8080/"
        },
        "id": "kKCXpIrN_Z1V",
        "outputId": "40563c6f-ebb5-4367-dedd-95db3256c8cd"
      },
      "execution_count": null,
      "outputs": [
        {
          "output_type": "stream",
          "name": "stdout",
          "text": [
            "Hello World!\n",
            "      Hello World!\n",
            "                  Hello World!\n",
            "      \n"
          ]
        }
      ]
    },
    {
      "cell_type": "code",
      "source": [
        "4 * \"la\" + \" \" + \"batman\""
      ],
      "metadata": {
        "colab": {
          "base_uri": "https://localhost:8080/",
          "height": 35
        },
        "id": "uUDfb2ta_lpA",
        "outputId": "13e08b24-47fe-4892-b1fe-485c09332260"
      },
      "execution_count": null,
      "outputs": [
        {
          "output_type": "execute_result",
          "data": {
            "text/plain": [
              "'lalalala batman'"
            ],
            "application/vnd.google.colaboratory.intrinsic+json": {
              "type": "string"
            }
          },
          "metadata": {},
          "execution_count": 34
        }
      ]
    },
    {
      "cell_type": "code",
      "source": [
        "\"lalalala\" \" \" \"batman\""
      ],
      "metadata": {
        "colab": {
          "base_uri": "https://localhost:8080/",
          "height": 35
        },
        "id": "-YtPPEao_sdk",
        "outputId": "bd2a59ea-8db2-4a37-9519-abe4ff47b350"
      },
      "execution_count": null,
      "outputs": [
        {
          "output_type": "execute_result",
          "data": {
            "text/plain": [
              "'lalalala batman'"
            ],
            "application/vnd.google.colaboratory.intrinsic+json": {
              "type": "string"
            }
          },
          "metadata": {},
          "execution_count": 35
        }
      ]
    },
    {
      "cell_type": "markdown",
      "source": [
        "Strings can be indexed in python, starting at index 0. There is no character 'char' type. A single character is simply a string of length and size 1. Negative indicies will index backwards, with index -1 being the last character of the string. (-0 is the same as 0)\n",
        "<br>\n",
        "You can also slice strings to obtain a substring. The beginning index is always included and the ending index is always excluded.\n",
        "<br>\n",
        "Attempting to index a string with a value that is too large will result in an error.\n",
        "<br>\n",
        "Strings are immutable, so you can not change them via indicies."
      ],
      "metadata": {
        "id": "SZP3Czd6_yO-"
      }
    },
    {
      "cell_type": "code",
      "source": [
        "word = \"Hello\"\n",
        "print(word[0]) # character at position 0\n",
        "print(word[2]) # character at position 0\n",
        "print(word[-1]) # character at position -1"
      ],
      "metadata": {
        "colab": {
          "base_uri": "https://localhost:8080/"
        },
        "id": "gXi6r8hUAxkf",
        "outputId": "aaf79f73-faa9-44b7-a216-8480cf398d1a"
      },
      "execution_count": null,
      "outputs": [
        {
          "output_type": "stream",
          "name": "stdout",
          "text": [
            "H\n",
            "l\n",
            "o\n"
          ]
        }
      ]
    },
    {
      "cell_type": "code",
      "source": [
        "print(word[0:2]) # characters from position 0 (included) to position 2 (excluded)\n",
        "print(word[2:]) # characters from position 2 (included) to the end\n",
        "print(word[-2:]) # characters from position -2 (incluided) to the end"
      ],
      "metadata": {
        "colab": {
          "base_uri": "https://localhost:8080/"
        },
        "id": "ZHFoA9xJA6iB",
        "outputId": "278ecb95-fe53-480c-81d7-dc4336bf7c42"
      },
      "execution_count": null,
      "outputs": [
        {
          "output_type": "stream",
          "name": "stdout",
          "text": [
            "He\n",
            "llo\n",
            "lo\n"
          ]
        }
      ]
    },
    {
      "cell_type": "markdown",
      "source": [
        "You can use the `len()` function to return the length of a string"
      ],
      "metadata": {
        "id": "1LuMnVh8BkFJ"
      }
    },
    {
      "cell_type": "code",
      "source": [
        "len(word)"
      ],
      "metadata": {
        "colab": {
          "base_uri": "https://localhost:8080/"
        },
        "id": "osz4M00MBn8-",
        "outputId": "ba482cff-eaac-4c00-e951-5be50cc90732"
      },
      "execution_count": null,
      "outputs": [
        {
          "output_type": "execute_result",
          "data": {
            "text/plain": [
              "5"
            ]
          },
          "metadata": {},
          "execution_count": 40
        }
      ]
    },
    {
      "cell_type": "markdown",
      "source": [
        "####Lists"
      ],
      "metadata": {
        "id": "OYNZH_sqMyTx"
      }
    },
    {
      "cell_type": "markdown",
      "source": [
        "Lists are a compound data type that can be written as a list of comma separated values, inside of square brackets. Certain lists can have multiple item types, but most lists will have items of the same type.\n",
        "<br>\n",
        "Lists can also be indexed and sliced much like strings. They also support concatenation.\n",
        "<br>\n",
        "However, the difference is that lists are mutable and can be changed via indicies. You can also add new items to the end of the list with `list.append()`."
      ],
      "metadata": {
        "id": "_mGy2_0BI-uN"
      }
    },
    {
      "cell_type": "code",
      "source": [
        "list = [1, 2, 3, 4, 5]\n",
        "list"
      ],
      "metadata": {
        "colab": {
          "base_uri": "https://localhost:8080/"
        },
        "id": "9ZYk1DpSJa6P",
        "outputId": "d617abf2-59cb-4256-b586-f20216c9f0df"
      },
      "execution_count": null,
      "outputs": [
        {
          "output_type": "execute_result",
          "data": {
            "text/plain": [
              "[1, 2, 3, 4, 5]"
            ]
          },
          "metadata": {},
          "execution_count": 44
        }
      ]
    },
    {
      "cell_type": "code",
      "source": [
        "list[0]\n",
        "print(list[0]) # index 0\n",
        "list[2]\n",
        "print(list[1]) # index 1\n",
        "list[-1]\n",
        "print(list[-1]) # index -1"
      ],
      "metadata": {
        "colab": {
          "base_uri": "https://localhost:8080/"
        },
        "id": "lYJ6n71aJd5J",
        "outputId": "3e5d0d58-9707-4b67-8656-4db1267f482b"
      },
      "execution_count": null,
      "outputs": [
        {
          "output_type": "stream",
          "name": "stdout",
          "text": [
            "1\n",
            "2\n",
            "5\n"
          ]
        }
      ]
    },
    {
      "cell_type": "code",
      "source": [
        "list[:3]\n",
        "print(list[:3]) # slicing from 0 (included) to 3 (not included)\n",
        "list[3:]\n",
        "print(list[3:]) # slicing from 3 (included) to the end"
      ],
      "metadata": {
        "colab": {
          "base_uri": "https://localhost:8080/"
        },
        "id": "49F4YSbGJosN",
        "outputId": "653b5a60-9c99-4f94-bf91-eb3a2f423eee"
      },
      "execution_count": null,
      "outputs": [
        {
          "output_type": "stream",
          "name": "stdout",
          "text": [
            "[1, 2, 3]\n",
            "[4, 5]\n"
          ]
        }
      ]
    },
    {
      "cell_type": "code",
      "source": [
        "list2 = [6, 7, 8, 9, 10]\n",
        "list + list2"
      ],
      "metadata": {
        "colab": {
          "base_uri": "https://localhost:8080/"
        },
        "id": "zISFuAv-KF-U",
        "outputId": "439b0186-7afb-4ace-f550-1fcf3803fe6f"
      },
      "execution_count": null,
      "outputs": [
        {
          "output_type": "execute_result",
          "data": {
            "text/plain": [
              "[1, 2, 3, 4, 5, 6, 7, 8, 9, 10]"
            ]
          },
          "metadata": {},
          "execution_count": 51
        }
      ]
    },
    {
      "cell_type": "code",
      "source": [
        "list3 = [2, 4, 5, 8, 10]\n",
        "list3[2] = 6\n",
        "print(list3)\n",
        "list3.append(12)\n",
        "print(list3)"
      ],
      "metadata": {
        "colab": {
          "base_uri": "https://localhost:8080/"
        },
        "id": "YG_jZP4pKKOn",
        "outputId": "000aa578-d14b-4ea3-f5ec-8c86f8795577"
      },
      "execution_count": null,
      "outputs": [
        {
          "output_type": "stream",
          "name": "stdout",
          "text": [
            "[2, 4, 6, 8, 10]\n",
            "[2, 4, 6, 8, 10, 12]\n"
          ]
        }
      ]
    },
    {
      "cell_type": "markdown",
      "source": [
        "Simple assignment in Python will not copy data. Both variables in the assignment will refer to the same thing. Operations done on one variable will be reflected in the other as well.\n",
        "<br>\n",
        "You may also assign to slices. However, this may change the size of the list.\n",
        "<br>\n",
        "The `len()` function also applies to lists.\n",
        "<br>\n",
        "Furthermore, lists can be nested to create multiple dimensions."
      ],
      "metadata": {
        "id": "9iBhVcm1Kfo6"
      }
    },
    {
      "cell_type": "code",
      "source": [
        "len(list)"
      ],
      "metadata": {
        "colab": {
          "base_uri": "https://localhost:8080/"
        },
        "id": "7-1TgIveLh_q",
        "outputId": "10d87992-59a9-44bd-c657-325b9ce9d9dd"
      },
      "execution_count": null,
      "outputs": [
        {
          "output_type": "execute_result",
          "data": {
            "text/plain": [
              "5"
            ]
          },
          "metadata": {},
          "execution_count": 54
        }
      ]
    },
    {
      "cell_type": "code",
      "source": [
        "a = [1, 2, 3]\n",
        "b = ['a', 'b', 'c']\n",
        "c = [a, b]\n",
        "c"
      ],
      "metadata": {
        "colab": {
          "base_uri": "https://localhost:8080/"
        },
        "id": "SQL1OO4nLkWy",
        "outputId": "d6afce0c-27a2-496e-aeab-a32e7c1ba1ff"
      },
      "execution_count": null,
      "outputs": [
        {
          "output_type": "execute_result",
          "data": {
            "text/plain": [
              "[[1, 2, 3], ['a', 'b', 'c']]"
            ]
          },
          "metadata": {},
          "execution_count": 56
        }
      ]
    },
    {
      "cell_type": "code",
      "source": [
        "print(c[0])\n",
        "print(c[0][1])"
      ],
      "metadata": {
        "colab": {
          "base_uri": "https://localhost:8080/"
        },
        "id": "Iphlvn19LyrI",
        "outputId": "08ef207f-38c1-4ba1-d413-2ece2568ed9e"
      },
      "execution_count": null,
      "outputs": [
        {
          "output_type": "stream",
          "name": "stdout",
          "text": [
            "[1, 2, 3]\n",
            "2\n"
          ]
        }
      ]
    },
    {
      "cell_type": "markdown",
      "source": [
        "# Chapter 4. More Control Flow Tools"
      ],
      "metadata": {
        "id": "kYJSH8Pz0uQW"
      }
    },
    {
      "cell_type": "markdown",
      "source": [
        "####if, elif, else, and for statements"
      ],
      "metadata": {
        "id": "r6BUMD-j00S4"
      }
    },
    {
      "cell_type": "markdown",
      "source": [
        "If else statements are used when dealing with conditional cases. They do not need to be followed by `elif` (else if) statements or `else` statements. Although it is generally good convention to round out `if` and `elif` statements with `else`."
      ],
      "metadata": {
        "id": "XVXKIVrg05tQ"
      }
    },
    {
      "cell_type": "markdown",
      "source": [
        "For statements, in python, iterate over items of any sequence. This can be lists or strings or anything that is sequenced."
      ],
      "metadata": {
        "id": "zvO1vYcf8T72"
      }
    },
    {
      "cell_type": "code",
      "source": [
        "if x < 0:\n",
        "    print('negative')\n",
        "elif x == 0:\n",
        "    print('zero')\n",
        "else:\n",
        "    print('positive')"
      ],
      "metadata": {
        "id": "hdq8pZrU_dcO"
      },
      "execution_count": null,
      "outputs": []
    },
    {
      "cell_type": "code",
      "source": [
        "list = ['hello', 'hi', 'hey'] # list of strings\n",
        "for item in list:\n",
        "    print(item)"
      ],
      "metadata": {
        "colab": {
          "base_uri": "https://localhost:8080/"
        },
        "id": "RzRuzPkA8gsE",
        "outputId": "081571f2-20cf-4053-e621-a66b79ca74bd"
      },
      "execution_count": null,
      "outputs": [
        {
          "output_type": "stream",
          "name": "stdout",
          "text": [
            "hello\n",
            "hi\n",
            "hey\n"
          ]
        }
      ]
    },
    {
      "cell_type": "markdown",
      "source": [
        "####range() function"
      ],
      "metadata": {
        "id": "SDZfALg28sNO"
      }
    },
    {
      "cell_type": "markdown",
      "source": [
        "To iterate traditionally over a sequence of numbers, python has the `range()` function. You may specify a starting point, an endpoint, and a step size. You may also simply have one value and `range()` will iterate from 0 to that value (non-inclusive)."
      ],
      "metadata": {
        "id": "--GS6N1v8yRO"
      }
    },
    {
      "cell_type": "code",
      "source": [
        "for i in range(5):\n",
        "    print(i)"
      ],
      "metadata": {
        "colab": {
          "base_uri": "https://localhost:8080/"
        },
        "id": "BzBQHJeL9C-g",
        "outputId": "4bbe9636-9534-4481-a1be-f4077d418b75"
      },
      "execution_count": null,
      "outputs": [
        {
          "output_type": "stream",
          "name": "stdout",
          "text": [
            "0\n",
            "1\n",
            "2\n",
            "3\n",
            "4\n"
          ]
        }
      ]
    },
    {
      "cell_type": "code",
      "source": [
        "for i in range(3, 10):\n",
        "    print(i)"
      ],
      "metadata": {
        "colab": {
          "base_uri": "https://localhost:8080/"
        },
        "id": "NlgKyDIQ9Eqa",
        "outputId": "c113861b-0ee7-4be6-a8dc-e0199e347d09"
      },
      "execution_count": null,
      "outputs": [
        {
          "output_type": "stream",
          "name": "stdout",
          "text": [
            "3\n",
            "4\n",
            "5\n",
            "6\n",
            "7\n",
            "8\n",
            "9\n"
          ]
        }
      ]
    },
    {
      "cell_type": "code",
      "source": [
        "for i in range(5, 30, 5):\n",
        "    print(i)"
      ],
      "metadata": {
        "colab": {
          "base_uri": "https://localhost:8080/"
        },
        "id": "KSypVpbK9HWo",
        "outputId": "39c65542-014e-4df2-d61a-f6cb0ec4d073"
      },
      "execution_count": null,
      "outputs": [
        {
          "output_type": "stream",
          "name": "stdout",
          "text": [
            "5\n",
            "10\n",
            "15\n",
            "20\n",
            "25\n"
          ]
        }
      ]
    },
    {
      "cell_type": "markdown",
      "source": [
        "####break and continue Statements, and else Clauses on Loops"
      ],
      "metadata": {
        "id": "LCbHXokK9hAE"
      }
    },
    {
      "cell_type": "markdown",
      "source": [
        "`break` statements exit out of the innermost layer of a for or while loop. `continue` statements will continue with the execution of the next iteration of a loop."
      ],
      "metadata": {
        "id": "mxllkm_79ole"
      }
    },
    {
      "cell_type": "markdown",
      "source": [
        "Within a for or while loop, there can exist an `else` clause. In the for loop, this `else` is executed after the loop reaches the final iteration. In a while loop, this `else` is executed after the while loop's conditional becomes false.\n",
        "However, if there is a `break` in either of those loops, the `else` will not execute."
      ],
      "metadata": {
        "id": "JY-fMMxO947M"
      }
    },
    {
      "cell_type": "code",
      "source": [
        "for i in range(10):\n",
        "    if i == 5:\n",
        "        break\n",
        "    print(i)"
      ],
      "metadata": {
        "colab": {
          "base_uri": "https://localhost:8080/"
        },
        "id": "Y2-6ECq2-cPn",
        "outputId": "2d691b25-62b1-42d3-c5c8-a495cd088509"
      },
      "execution_count": null,
      "outputs": [
        {
          "output_type": "stream",
          "name": "stdout",
          "text": [
            "0\n",
            "1\n",
            "2\n",
            "3\n",
            "4\n"
          ]
        }
      ]
    },
    {
      "cell_type": "code",
      "source": [
        "for num in range(2, 10):\n",
        "    if num % 2 == 0:\n",
        "        print(\"Even\")\n",
        "        continue\n",
        "    print(\"Odd\")"
      ],
      "metadata": {
        "colab": {
          "base_uri": "https://localhost:8080/"
        },
        "id": "vN2J_32p-ha0",
        "outputId": "e9faaaa2-997b-48bd-8c9c-38544a7721fb"
      },
      "execution_count": null,
      "outputs": [
        {
          "output_type": "stream",
          "name": "stdout",
          "text": [
            "Even\n",
            "Odd\n",
            "Even\n",
            "Odd\n",
            "Even\n",
            "Odd\n",
            "Even\n",
            "Odd\n"
          ]
        }
      ]
    },
    {
      "cell_type": "code",
      "source": [
        "x = 5\n",
        "while x > 0:\n",
        "    print(x)\n",
        "    x -= 1\n",
        "    if x == 2:\n",
        "        break"
      ],
      "metadata": {
        "colab": {
          "base_uri": "https://localhost:8080/"
        },
        "id": "jMwFOzss-kGF",
        "outputId": "ef749e1d-1c03-4561-de75-d45c412f3089"
      },
      "execution_count": null,
      "outputs": [
        {
          "output_type": "stream",
          "name": "stdout",
          "text": [
            "5\n",
            "4\n",
            "3\n"
          ]
        }
      ]
    },
    {
      "cell_type": "markdown",
      "source": [
        "####pass statements"
      ],
      "metadata": {
        "id": "VyC5bOXX-7NK"
      }
    },
    {
      "cell_type": "markdown",
      "source": [
        "`pass` statements do nothing. They are often placeholders for functions or classes when working on other parts of the code."
      ],
      "metadata": {
        "id": "J109t0IY-9R2"
      }
    },
    {
      "cell_type": "code",
      "source": [
        "while True:\n",
        "    pass # do nothing"
      ],
      "metadata": {
        "id": "ySHML5Q7_YEh"
      },
      "execution_count": null,
      "outputs": []
    },
    {
      "cell_type": "markdown",
      "source": [
        "####match statements"
      ],
      "metadata": {
        "id": "jE4te70WHpJQ"
      }
    },
    {
      "cell_type": "markdown",
      "source": [
        "A `match` statement is similar to switch case in other languages such as C. It compares values against one or more literals and matches the first pattern to execute the code within that first match. The `_` is similar to a default case and will never fail to match. This case will be executed if none of the other cases are matched. You may also add an if statement within each case as an extra conditional."
      ],
      "metadata": {
        "id": "THa95rx3Hrvj"
      }
    },
    {
      "cell_type": "code",
      "source": [
        "def http_error(status):\n",
        "    match status:\n",
        "        case 400:\n",
        "            return \"Bad request\"\n",
        "        case 404:\n",
        "            return \"Not found\"\n",
        "        case 418:\n",
        "            return \"I'm a teapot\"\n",
        "        case _:\n",
        "            return \"Something's wrong with the internet\""
      ],
      "metadata": {
        "id": "p5ozjlUKIZ7U"
      },
      "execution_count": null,
      "outputs": []
    },
    {
      "cell_type": "markdown",
      "source": [
        "####Defining Functions"
      ],
      "metadata": {
        "id": "Adsc7ZQ_IxJy"
      }
    },
    {
      "cell_type": "markdown",
      "source": [
        "To define a function, you must use `def`, and follow it with the name of the function and a paranthesized list of all formal paramenters. Everything within the function must be indented in the line after the function definition.\n",
        "<br>\n",
        "Within each function, variable assignments and lookups must follow specific rules:\n",
        "<br>\n",
        "1. Variable Assignments:\n",
        "   When you assign a value to a variable inside a function, Python creates that variable in the function's local scope by default. This means the variable is only accessible within that function.\n",
        "\n",
        "2. Variable Lookups:\n",
        "   When you use a variable in a function, Python searches for it in this order:\n",
        "   <br>\n",
        "   a) First, in the function's local scope\n",
        "   <br>\n",
        "   b) Then, in the scopes of any enclosing functions (if the function is nested)\n",
        "   <br>\n",
        "   c) Next, in the global scope (the module level)\n",
        "   <br>\n",
        "   d) Finally, in the built-in scope (Python's predefined names)\n",
        "   <br>\n",
        "\n",
        "3. Accessing Outer Scopes:\n",
        "   By default, a function cannot modify variables from outer scopes. If you want to change a global variable or a variable from an enclosing function, you need to use special declarations:\n",
        "   - Use the `global` keyword to modify a global variable\n",
        "   - Use the `nonlocal` keyword to modify a variable from an enclosing function"
      ],
      "metadata": {
        "id": "S37pVFZJIy6G"
      }
    },
    {
      "cell_type": "code",
      "source": [
        "x = 10  # Global variable\n",
        "\n",
        "def outer_function():\n",
        "    y = 20  # Variable in outer function's scope\n",
        "\n",
        "    def inner_function():\n",
        "        z = 30  # Local variable\n",
        "        print(f\"Local: {z}\")\n",
        "        print(f\"From outer function: {y}\")\n",
        "        print(f\"Global: {x}\")\n",
        "\n",
        "    inner_function()\n",
        "\n",
        "outer_function()"
      ],
      "metadata": {
        "id": "Q80e-K47Jn_0"
      },
      "execution_count": null,
      "outputs": []
    },
    {
      "cell_type": "markdown",
      "source": [
        "A `return` statement will return value(s) from a function. If not specified an argument, the `return` statement will by default return `None`."
      ],
      "metadata": {
        "id": "S667Z6G6JxOk"
      }
    },
    {
      "cell_type": "code",
      "source": [
        "def add_numbers(a, b):\n",
        "    result = a + b\n",
        "    return result\n",
        "\n",
        "sum = add_numbers(5, 3)\n",
        "print(sum)"
      ],
      "metadata": {
        "colab": {
          "base_uri": "https://localhost:8080/"
        },
        "id": "zc3vO_9cKHlH",
        "outputId": "4c1dedcf-c573-474b-92f7-790d5b4a9afb"
      },
      "execution_count": null,
      "outputs": [
        {
          "output_type": "stream",
          "name": "stdout",
          "text": [
            "8\n"
          ]
        }
      ]
    },
    {
      "cell_type": "markdown",
      "source": [
        "####Keyword Arguments"
      ],
      "metadata": {
        "id": "bzNvzNI6KSwv"
      }
    },
    {
      "cell_type": "markdown",
      "source": [
        "Function calls using keyword arguments are of the form `kwarg=value`.\n",
        "<br>\n",
        "Benefits of using keyword arguments in functions include:\n",
        "- Having a default value assigned to certain arguments\n",
        "- Being able to ignore argument order\n",
        "- Makes certain arguments \"optional\" by having the default value\n",
        "- Flexibility in number of keyword arguments\n",
        "<br>\n",
        "\n",
        "  "
      ],
      "metadata": {
        "id": "nGNfX6mJKUhl"
      }
    },
    {
      "cell_type": "code",
      "source": [
        "def describe_person(name, age = 42, city = \"San Francisco\"):\n",
        "    print(f\"Name: {name}\")\n",
        "    print(f\"Age: {age}\")\n",
        "    print(f\"City: {city}\")\n",
        "\n",
        "# function can be called in any of these ways\n",
        "describe_person(\"Bob\")\n",
        "describe_person(name=\"Bob\")\n",
        "describe_person(name=\"Bob\", age=25)\n",
        "describe_person(name=\"Bob\", age=25, city=\"New York\")\n",
        "describe_person(\"Bob\", \"25\", \"New York\")\n",
        "describe_person(city = \"New York\", name = \"Bob\")"
      ],
      "metadata": {
        "colab": {
          "base_uri": "https://localhost:8080/"
        },
        "id": "mAZxDQWbLWdU",
        "outputId": "b88db597-a693-4a29-b364-c3edcb13e038"
      },
      "execution_count": null,
      "outputs": [
        {
          "output_type": "stream",
          "name": "stdout",
          "text": [
            "Name: Bob\n",
            "Age: 42\n",
            "City: San Francisco\n",
            "Name: Bob\n",
            "Age: 42\n",
            "City: San Francisco\n",
            "Name: Bob\n",
            "Age: 25\n",
            "City: San Francisco\n",
            "Name: Bob\n",
            "Age: 25\n",
            "City: New York\n",
            "Name: Bob\n",
            "Age: 25\n",
            "City: New York\n",
            "Name: Bob\n",
            "Age: 42\n",
            "City: New York\n"
          ]
        }
      ]
    },
    {
      "cell_type": "markdown",
      "source": [
        "Furthermore, you can use a final formal parameter of the form `**name`.\n",
        "<br>\n",
        "This contains all keyword arguments passed through the function except for those that are already corresponding to a formal parameter of the function.\n",
        "<br>\n",
        "You may also add a formal parameter of the form `*name`. This includes all positional arguments that do not already correspond to those in the formal parameter list. `*name` must be placed before `**name`.\n",
        "<br>\n",
        "The order that keyword arguments are printed is always the order that they were provided in the function call."
      ],
      "metadata": {
        "id": "pO44OE2nNCuP"
      }
    },
    {
      "cell_type": "code",
      "source": [
        "def example(*args, **kwargs):\n",
        "    print(\"Positional arguments:\")\n",
        "    for arg in args:\n",
        "        print(arg)\n",
        "\n",
        "    print(\"\\nKeyword arguments:\")\n",
        "    for key, value in kwargs.items():\n",
        "        print(f\"{key} = {value}\")\n",
        "# can also use\n",
        "#   for kw in kwargs:\n",
        "#       print(f\"{kw} = {kwargs[kw]}\")\n",
        "\n",
        "example(1, 2, 3, name=\"Alice\", age=30, city=\"Wonderland\")"
      ],
      "metadata": {
        "colab": {
          "base_uri": "https://localhost:8080/"
        },
        "id": "jgV9qEvQOR7x",
        "outputId": "be5ec75f-dcda-4dd0-b8b6-82e53bcc9081"
      },
      "execution_count": null,
      "outputs": [
        {
          "output_type": "stream",
          "name": "stdout",
          "text": [
            "Positional arguments:\n",
            "1\n",
            "2\n",
            "3\n",
            "\n",
            "Keyword arguments:\n",
            "name = Alice\n",
            "age = 30\n",
            "city = Wonderland\n"
          ]
        }
      ]
    },
    {
      "cell_type": "markdown",
      "source": [
        "You may also constrain the way arguments can be passed through certain functions. This can be done using `/` and `*` within the parameter list of the function definition. Attempting to break this rule when those two special characters are in play will result in a TypeError."
      ],
      "metadata": {
        "id": "BiXZ9Pd2PINp"
      }
    },
    {
      "cell_type": "code",
      "source": [
        "def f(pos1, pos2, /, pos_or_kwd, *, kwd1, kwd2):\n",
        "    # anything before the '/' are positional only\n",
        "    # anything between the '/' and '*' can be positional or keyword\n",
        "    # anything after the '*' are keyword only\n",
        "    pass"
      ],
      "metadata": {
        "id": "Fy-7YO5wPOxM"
      },
      "execution_count": null,
      "outputs": []
    },
    {
      "cell_type": "markdown",
      "source": [
        "The following is from the python website:\n",
        "- Use positional-only if you want the name of the parameters to not be available to the user. This is useful when parameter names have no real meaning, if you want to enforce the order of the arguments when the function is called or if you need to take some positional parameters and arbitrary keywords.\n",
        "\n",
        "- Use keyword-only when names have meaning and the function definition is more understandable by being explicit with names or you want to prevent users relying on the position of the argument being passed.\n",
        "\n",
        "- For an API, use positional-only to prevent breaking API changes if the parameter’s name is modified in the future."
      ],
      "metadata": {
        "id": "DV4JiO6gQDND"
      }
    },
    {
      "cell_type": "markdown",
      "source": [
        "Sometimes, arguments are already in lists or tuples that need to be unpacked for a function call that requires separate arguments. You may do this by using `*`. In the case of dictionaries, you may use `**`."
      ],
      "metadata": {
        "id": "NK0vu-QNQ19m"
      }
    },
    {
      "cell_type": "markdown",
      "source": [
        "####Lambda Expressions"
      ],
      "metadata": {
        "id": "AF03LqC3RJhB"
      }
    },
    {
      "cell_type": "markdown",
      "source": [
        "Lambda expressions are essentially function definitions in the form of an expression. They follow largely the same rules as regular functions. However, they are not as complex and are not able to perform more difficult tasks like a typical function would.\n",
        "<br>\n",
        "They can be created with the following syntax:\n",
        "<br>\n",
        "`lambda a, b: a + b`"
      ],
      "metadata": {
        "id": "RfW9brbvRLwV"
      }
    },
    {
      "cell_type": "code",
      "source": [
        "# comparing lambda expressions to functioins\n",
        "\n",
        "# lambda function definition\n",
        "add_lambda = lambda x, y: x + y\n",
        "\n",
        "# regular function definition\n",
        "def add_function(x, y):\n",
        "    return x + y\n",
        "\n",
        "result_lambda = add_lambda(3, 5)\n",
        "result_function = add_function(3, 5)\n",
        "\n",
        "print(result_lambda)\n",
        "print(result_function)"
      ],
      "metadata": {
        "colab": {
          "base_uri": "https://localhost:8080/"
        },
        "id": "X_cnNCSSSCDd",
        "outputId": "3f7c4f22-8c89-4f75-9ae2-a8c8f6555766"
      },
      "execution_count": null,
      "outputs": [
        {
          "output_type": "stream",
          "name": "stdout",
          "text": [
            "8\n",
            "8\n"
          ]
        }
      ]
    },
    {
      "cell_type": "markdown",
      "source": [
        "You can pass and return functions in a lambda expression."
      ],
      "metadata": {
        "id": "1NsEnyj7TU3Q"
      }
    },
    {
      "cell_type": "code",
      "source": [
        "numbers = [1, 2, 3, 4, 5]\n",
        "\n",
        "squared_numbers = list(map(lambda x: x**2, numbers)) # map() applies the lambda function to each element in the list\n",
        "\n",
        "print(squared_numbers)"
      ],
      "metadata": {
        "colab": {
          "base_uri": "https://localhost:8080/"
        },
        "id": "BpHFq7GXTfXq",
        "outputId": "d82ecf6d-a15d-4def-cc05-22f348f4e06a"
      },
      "execution_count": null,
      "outputs": [
        {
          "output_type": "stream",
          "name": "stdout",
          "text": [
            "[1, 4, 9, 16, 25]\n"
          ]
        }
      ]
    },
    {
      "cell_type": "code",
      "source": [
        "def power_function(n):\n",
        "    return lambda x: x ** n\n",
        "\n",
        "square_function = power_function(2)\n",
        "print(square_function(5))\n",
        "\n",
        "cube_function = power_function(3)\n",
        "print(cube_function(5))"
      ],
      "metadata": {
        "colab": {
          "base_uri": "https://localhost:8080/"
        },
        "id": "XgXG3Tu4TnDK",
        "outputId": "2cb90679-3979-45f6-80f1-7107e2ea52cf"
      },
      "execution_count": null,
      "outputs": [
        {
          "output_type": "stream",
          "name": "stdout",
          "text": [
            "25\n",
            "125\n"
          ]
        }
      ]
    },
    {
      "cell_type": "markdown",
      "source": [
        "####Documentation strings"
      ],
      "metadata": {
        "id": "ppS4Kf-9T64R"
      }
    },
    {
      "cell_type": "markdown",
      "source": [
        "Documentation strings, or doc strings for short, are used to document a function's purpose. They are also used for other objects.\n",
        "<br>\n",
        "The first line should contain the main purpose. It should begin with a capital letter and end with a period.\n",
        "<br>\n",
        "For doc strings with more than one line, the second line should be blank to separate the initial caption from the rest of the description. All following lines should be describing the innerworkings of the object."
      ],
      "metadata": {
        "id": "0j2lvVb3T8Oy"
      }
    },
    {
      "cell_type": "code",
      "source": [
        "def calculate_area(radius):\n",
        "    \"\"\"\n",
        "    Calculate the area of a circle given its radius.\n",
        "\n",
        "    Parameters:\n",
        "    radius (float): The radius of the circle.\n",
        "\n",
        "    Returns:\n",
        "    float: The area of the circle.\n",
        "    \"\"\"\n",
        "    area = 3.14159 * radius ** 2\n",
        "    return area"
      ],
      "metadata": {
        "id": "fMctvSK7ULcb"
      },
      "execution_count": null,
      "outputs": []
    },
    {
      "cell_type": "markdown",
      "source": [
        "####Function Annotations"
      ],
      "metadata": {
        "id": "hMPCEg6_VC3y"
      }
    },
    {
      "cell_type": "markdown",
      "source": [
        "Function annotations are optional metadata information regarding types used by functions. They are stored in the `__annotations__` attribute of the function as as dictionary.\n",
        "- Parameter annotations are defined by a colon after the name of it, with an expression following it. This expression should be the value of the annotation\n",
        "- Return annotations are defined by a `->`, between the parameter list and the expression."
      ],
      "metadata": {
        "id": "4eWwc9YqVEux"
      }
    },
    {
      "cell_type": "code",
      "source": [
        "def function_annotations(arg1: int, arg2: str = 'default') -> float:\n",
        "    \"\"\"\n",
        "    Example function with annotations.\n",
        "\n",
        "    Parameters:\n",
        "    arg1 (int): Required integer argument.\n",
        "    arg2 (str, optional): Optional string argument with a default value.\n",
        "\n",
        "    Returns:\n",
        "    float: Returns a float value based on the operation performed.\n",
        "    \"\"\"\n",
        "    return float(len(arg2) + arg1)\n",
        "\n",
        "print(function_annotations.__annotations__)"
      ],
      "metadata": {
        "colab": {
          "base_uri": "https://localhost:8080/"
        },
        "id": "bqoVyMUSYmH8",
        "outputId": "6e9a7577-d209-4c00-ba39-39f1782f6b91"
      },
      "execution_count": null,
      "outputs": [
        {
          "output_type": "stream",
          "name": "stdout",
          "text": [
            "{'arg1': <class 'int'>, 'arg2': <class 'str'>, 'return': <class 'float'>}\n"
          ]
        }
      ]
    },
    {
      "cell_type": "markdown",
      "source": [
        "# Chapter 5: Data Structures"
      ],
      "metadata": {
        "id": "taReAQR_KDRH"
      }
    },
    {
      "cell_type": "markdown",
      "source": [
        "####List functions"
      ],
      "metadata": {
        "id": "Tz2YROZTKMLq"
      }
    },
    {
      "cell_type": "markdown",
      "source": [
        "**list.append(x)**: adds an item to the end of a list\n",
        "<br>\n",
        "**list.extend(iterable)**: appends all items from the iterable (essentially append but with multiple items)\n",
        "<br>\n",
        "**list.insert(i, x)**: inserts an item into the specified position _i_\n",
        "<br>\n",
        "**list.remove(x)**: removes the first item whose value is equal to x\n",
        "<br>\n",
        "**list.pop([i])**: removes and returns the item at the specified position. If no specified index, removes and returns the last item.\n",
        "<br>\n",
        "**list.clear()**: removes all items from the list\n",
        "<br>\n",
        "**list.count(x)**: returns the number of times _x_ appears in the list\n",
        "<br>\n",
        "**list.sort(*, key=None, reverse=False)**: sorts the items in place\n",
        "<br>\n",
        "**list.reverse()**: reverses the elements in place\n",
        "<br>\n",
        "**list.copy()**: returns a shallow copy of the list\n",
        "<br>"
      ],
      "metadata": {
        "id": "MqP4jhMpKP7K"
      }
    },
    {
      "cell_type": "markdown",
      "source": [
        "#### Using lists as stacks and queues"
      ],
      "metadata": {
        "id": "7zbLC2K3L4sH"
      }
    },
    {
      "cell_type": "markdown",
      "source": [
        "Using lists as stacks in python is very simple. We will follow a LIFO (Last in first out) rule, using `append()` to push an item to the top of the stack, and `pop()` to pop the top of the stack."
      ],
      "metadata": {
        "id": "fg3yIPpAL7yB"
      }
    },
    {
      "cell_type": "code",
      "source": [
        "stack = [1, 2, 3, 4, 5]\n",
        "stack.append(6)\n",
        "print(stack)\n",
        "stack.pop()\n",
        "print(stack)"
      ],
      "metadata": {
        "colab": {
          "base_uri": "https://localhost:8080/"
        },
        "id": "4YLpNJOdMS_V",
        "outputId": "0b2470d9-e04f-454f-a167-23925880ba88"
      },
      "execution_count": null,
      "outputs": [
        {
          "output_type": "stream",
          "name": "stdout",
          "text": [
            "[1, 2, 3, 4, 5, 6]\n",
            "[1, 2, 3, 4, 5]\n"
          ]
        }
      ]
    },
    {
      "cell_type": "markdown",
      "source": [
        "Using lists as queues in python is also quite simple, however, is often times less efficient. This is due to having to shift the entire list whenever we insert elements. We can scour the python library for an effective way to combat this. In this case, we use **collections.deque**. With queues, we follow a FIFO (First in first out) rule."
      ],
      "metadata": {
        "id": "_vBTu72rMbp1"
      }
    },
    {
      "cell_type": "code",
      "source": [
        "from collections import deque\n",
        "queue = deque([1, 2, 3, 4, 5])\n",
        "queue.append(6)\n",
        "print(queue)\n",
        "queue.popleft()\n",
        "print(queue)"
      ],
      "metadata": {
        "colab": {
          "base_uri": "https://localhost:8080/"
        },
        "id": "Par0pbDfMzHA",
        "outputId": "9555cbd2-63ca-46d4-8d69-058a8db660e2"
      },
      "execution_count": null,
      "outputs": [
        {
          "output_type": "stream",
          "name": "stdout",
          "text": [
            "deque([1, 2, 3, 4, 5, 6])\n",
            "deque([2, 3, 4, 5, 6])\n"
          ]
        }
      ]
    },
    {
      "cell_type": "markdown",
      "source": [
        "####List comprehensions"
      ],
      "metadata": {
        "id": "2oOhSys-NKDJ"
      }
    },
    {
      "cell_type": "markdown",
      "source": [
        "List comprehensions in Python are a concise way to create new lists based on existing sequences or iterables. By condensing what would typically require multiple lines of code into a single line, list comprehensions often lead to more concise and readable code.\n",
        "<br>\n",
        "The below example shows the for loop code for squaring a list of values and its equivalent list comprehension method."
      ],
      "metadata": {
        "id": "jwa9LVRYNLsQ"
      }
    },
    {
      "cell_type": "code",
      "source": [
        "squares = [x**2 for x in range(10)] # squares each value from 0 to 9\n",
        "squares"
      ],
      "metadata": {
        "colab": {
          "base_uri": "https://localhost:8080/"
        },
        "id": "89VNqI7INq8S",
        "outputId": "d9f9aa1e-a191-4005-9858-9a073177e7f6"
      },
      "execution_count": null,
      "outputs": [
        {
          "output_type": "execute_result",
          "data": {
            "text/plain": [
              "[0, 1, 4, 9, 16, 25, 36, 49, 64, 81]"
            ]
          },
          "metadata": {},
          "execution_count": 13
        }
      ]
    },
    {
      "cell_type": "code",
      "source": [
        "squares = []\n",
        "\n",
        "# for loop equivalent\n",
        "for x in range(10):\n",
        "    squares.append(x**2)\n",
        "\n",
        "squares"
      ],
      "metadata": {
        "colab": {
          "base_uri": "https://localhost:8080/"
        },
        "id": "1vdGMkv8NwfU",
        "outputId": "328be612-7789-4da6-d2bb-5541e41d79ce"
      },
      "execution_count": null,
      "outputs": [
        {
          "output_type": "execute_result",
          "data": {
            "text/plain": [
              "[0, 1, 4, 9, 16, 25, 36, 49, 64, 81]"
            ]
          },
          "metadata": {},
          "execution_count": 9
        }
      ]
    },
    {
      "cell_type": "markdown",
      "source": [
        "List comprehensions can also be nested, much like loops."
      ],
      "metadata": {
        "id": "l074mcFzOcaG"
      }
    },
    {
      "cell_type": "code",
      "source": [
        "matrix = [[1, 2, 3], [4, 5, 6], [7, 8, 9]]\n",
        "flattened = [num for row in matrix for num in row] # for each row in matrix, we are going to append each num into flattened\n",
        "flattened"
      ],
      "metadata": {
        "colab": {
          "base_uri": "https://localhost:8080/"
        },
        "id": "QUDQyat1OfKW",
        "outputId": "74bfe203-b657-4271-b89e-7ecf390f2b64"
      },
      "execution_count": null,
      "outputs": [
        {
          "output_type": "execute_result",
          "data": {
            "text/plain": [
              "[1, 2, 3, 4, 5, 6, 7, 8, 9]"
            ]
          },
          "metadata": {},
          "execution_count": 10
        }
      ]
    },
    {
      "cell_type": "code",
      "source": [
        "matrix = [[1, 2, 3], [4, 5, 6], [7, 8, 9]]\n",
        "flattened = []\n",
        "\n",
        "# nested for loop equivalent\n",
        "for row in matrix:\n",
        "    for num in row:\n",
        "        flattened.append(num)\n",
        "flattened"
      ],
      "metadata": {
        "colab": {
          "base_uri": "https://localhost:8080/"
        },
        "id": "8ksk5JIzO3rs",
        "outputId": "5d27d544-4c24-4e07-b9dd-897d253d29a4"
      },
      "execution_count": null,
      "outputs": [
        {
          "output_type": "execute_result",
          "data": {
            "text/plain": [
              "[1, 2, 3, 4, 5, 6, 7, 8, 9]"
            ]
          },
          "metadata": {},
          "execution_count": 11
        }
      ]
    },
    {
      "cell_type": "markdown",
      "source": [
        "####Del statement"
      ],
      "metadata": {
        "id": "dAgBwZJXPKfk"
      }
    },
    {
      "cell_type": "markdown",
      "source": [
        "`del` can be used to remove an item or slices from a list using its index instead of its value. It can also be used to remove entire variables."
      ],
      "metadata": {
        "id": "0nLBfBiwPMhL"
      }
    },
    {
      "cell_type": "code",
      "source": [
        "fruits = ['apple', 'banana', 'cherry', 'date', 'elderberry']\n",
        "print(\"Original list:\", fruits)\n",
        "\n",
        "# delete the second item (index 1)\n",
        "del fruits[1]\n",
        "print(\"After deleting index 1:\", fruits)\n",
        "\n",
        "# delete a slice (index 1 and index 2)\n",
        "del fruits[1:3]\n",
        "print(\"After deleting slice 1:3:\", fruits)\n",
        "\n",
        "# delete the entire list\n",
        "del fruits"
      ],
      "metadata": {
        "colab": {
          "base_uri": "https://localhost:8080/"
        },
        "id": "aZNvuWiEPj6n",
        "outputId": "787bf80c-d85a-4468-8de7-60fe4bff4175"
      },
      "execution_count": null,
      "outputs": [
        {
          "output_type": "stream",
          "name": "stdout",
          "text": [
            "Original list: ['apple', 'banana', 'cherry', 'date', 'elderberry']\n",
            "After deleting index 1: ['apple', 'cherry', 'date', 'elderberry']\n",
            "After deleting slice 1:3: ['apple', 'elderberry']\n"
          ]
        }
      ]
    },
    {
      "cell_type": "markdown",
      "source": [
        "####Tuples and Sequences"
      ],
      "metadata": {
        "id": "YU0rX3iIQGzz"
      }
    },
    {
      "cell_type": "markdown",
      "source": [
        "Tuples are sequences that consist of values separated by commas. They are often enclosed in parentheses. Technically, they do not need to be inputted with the parentheses, although it is common practice to do so. Nesting tuples will necessitate the usage of parentheses.\n",
        "<br>\n",
        "Although similar to lists, tuples are immutable and often accessed via unpacking. They can also be iterated through like lists."
      ],
      "metadata": {
        "id": "I3Or9m_dQHfC"
      }
    },
    {
      "cell_type": "code",
      "source": [
        "tup = 12345, 'batman', 54321\n",
        "print(tup[0])\n",
        "tup"
      ],
      "metadata": {
        "colab": {
          "base_uri": "https://localhost:8080/"
        },
        "id": "S2U4xSt0RBqo",
        "outputId": "648273f7-632b-4684-8729-600b207da86d"
      },
      "execution_count": null,
      "outputs": [
        {
          "output_type": "stream",
          "name": "stdout",
          "text": [
            "12345\n"
          ]
        },
        {
          "output_type": "execute_result",
          "data": {
            "text/plain": [
              "(12345, 'batman', 54321)"
            ]
          },
          "metadata": {},
          "execution_count": 25
        }
      ]
    },
    {
      "cell_type": "code",
      "source": [
        "nested_tup = (12345, ('batman', 54321))\n",
        "print(nested_tup[1][0])\n",
        "nested_tup"
      ],
      "metadata": {
        "colab": {
          "base_uri": "https://localhost:8080/"
        },
        "id": "I6SjMlMORVCR",
        "outputId": "659915f8-fb7a-44ec-fbb1-726190d7a022"
      },
      "execution_count": null,
      "outputs": [
        {
          "output_type": "stream",
          "name": "stdout",
          "text": [
            "batman\n"
          ]
        },
        {
          "output_type": "execute_result",
          "data": {
            "text/plain": [
              "(12345, ('batman', 54321))"
            ]
          },
          "metadata": {},
          "execution_count": 24
        }
      ]
    },
    {
      "cell_type": "markdown",
      "source": [
        "For tuples with 0 or 1 items, the syntax is as follows:"
      ],
      "metadata": {
        "id": "1mBn1RmhRqfK"
      }
    },
    {
      "cell_type": "code",
      "source": [
        "# 0 items\n",
        "empty_tup = ()\n",
        "\n",
        "# 1 item\n",
        "single_tup = 'batman',\n",
        "\n",
        "print(len(empty_tup))\n",
        "print(len(single_tup))\n",
        "single_tup"
      ],
      "metadata": {
        "colab": {
          "base_uri": "https://localhost:8080/"
        },
        "id": "zhZ28uwvRrZd",
        "outputId": "f318f547-6e8c-4800-b836-3d0842aec24f"
      },
      "execution_count": null,
      "outputs": [
        {
          "output_type": "stream",
          "name": "stdout",
          "text": [
            "0\n",
            "1\n"
          ]
        },
        {
          "output_type": "execute_result",
          "data": {
            "text/plain": [
              "('batman',)"
            ]
          },
          "metadata": {},
          "execution_count": 30
        }
      ]
    },
    {
      "cell_type": "code",
      "source": [
        "# tuple unpacking\n",
        "a, b, c = tup\n",
        "print(a)\n",
        "print(b)\n",
        "print(c)"
      ],
      "metadata": {
        "colab": {
          "base_uri": "https://localhost:8080/"
        },
        "id": "xbqQ_u1bSJ91",
        "outputId": "a06a9f24-c5d3-4606-edb5-2bcbb8b51253"
      },
      "execution_count": null,
      "outputs": [
        {
          "output_type": "stream",
          "name": "stdout",
          "text": [
            "12345\n",
            "batman\n",
            "54321\n"
          ]
        }
      ]
    },
    {
      "cell_type": "markdown",
      "source": [
        "####Sets and Dictionaries"
      ],
      "metadata": {
        "id": "Q2rdCDqVSfEZ"
      }
    },
    {
      "cell_type": "markdown",
      "source": [
        "Sets are collections of unordered items with no duplicates. They are not considered to be sequences. You may define sets in the following manner:"
      ],
      "metadata": {
        "id": "ceDyqXxBSgh-"
      }
    },
    {
      "cell_type": "code",
      "source": [
        "# empty set\n",
        "empty_set = set()\n",
        "\n",
        "# non-empty set\n",
        "s1 = {1, 2, 3}\n",
        "s2 = {'a', 'b', 'c'}\n",
        "\n",
        "# no duplicates\n",
        "s3 = {\"hello\", \"hello\", \"world\"}\n",
        "s3"
      ],
      "metadata": {
        "colab": {
          "base_uri": "https://localhost:8080/"
        },
        "id": "OzmYCflsj7It",
        "outputId": "874e7100-fa79-4454-de3e-66a93881e2ec"
      },
      "execution_count": null,
      "outputs": [
        {
          "output_type": "execute_result",
          "data": {
            "text/plain": [
              "{'hello', 'world'}"
            ]
          },
          "metadata": {},
          "execution_count": 36
        }
      ]
    },
    {
      "cell_type": "markdown",
      "source": [
        "Dictionaries are data structures that store key-value pairs. Keys must be immutable types like strings, numbers, or tuples containing only immutable elements.\n",
        "<br>\n",
        "Dictionaries are created using braces {} or the `dict()` constructor and support operations such as adding, modifying, and deleting key-value pairs. Unlike sequences, dictionaries are indexed by keys rather than numerical indices.\n",
        "<br>\n",
        "Values are accessed using square bracket notation [key] or the `get()` method, and the 'in' keyword checks for key existence. Dictionaries can be converted to lists of keys, and attempting to access a non-existent key raises an error."
      ],
      "metadata": {
        "id": "OBs2Fbg1kRdY"
      }
    },
    {
      "cell_type": "code",
      "source": [
        "fruits = {\n",
        "    \"apple\": 3,\n",
        "    \"banana\": 5,\n",
        "    \"orange\": 2\n",
        "}\n",
        "\n",
        "print(fruits)\n",
        "print(\"Number of apples:\", fruits[\"apple\"])\n",
        "\n",
        "# add new dict value\n",
        "fruits[\"grape\"] = 4\n",
        "print(fruits)\n"
      ],
      "metadata": {
        "colab": {
          "base_uri": "https://localhost:8080/"
        },
        "id": "BUNSDb-FlFN7",
        "outputId": "938864a5-ec5f-473a-afb4-876690e1933d"
      },
      "execution_count": null,
      "outputs": [
        {
          "output_type": "stream",
          "name": "stdout",
          "text": [
            "{'apple': 3, 'banana': 5, 'orange': 2}\n",
            "Number of apples: 3\n",
            "{'apple': 3, 'banana': 5, 'orange': 2, 'grape': 4}\n"
          ]
        }
      ]
    },
    {
      "cell_type": "markdown",
      "source": [
        "####Looping techniques"
      ],
      "metadata": {
        "id": "EGYMszD0lTc2"
      }
    },
    {
      "cell_type": "markdown",
      "source": [
        "`items()` allows the key and value to be retrieved at the same time in a dictionary\n",
        "<br>\n",
        "`enumerate()` allows the index and the value to be retrieved at the same time in a sequence\n",
        "<br>\n",
        "`zip()` allows you to loop over two or more sequences concurrently\n",
        "<br>\n",
        "`reversed()` allows you to loop over a sequence in reverse\n",
        "<br>\n",
        "`sorted()` returns a new sorted list while leaving the original source unaltered"
      ],
      "metadata": {
        "id": "jJtdTCNAlVin"
      }
    },
    {
      "cell_type": "code",
      "source": [
        "# dictionary for items()\n",
        "print(\"items()\")\n",
        "fruits = {\"apple\": 3, \"banana\": 2, \"cherry\": 5}\n",
        "for fruit, quantity in fruits.items():\n",
        "    print(f\"We have {quantity} {fruit}(s)\")\n",
        "\n",
        "# list for enumerate()\n",
        "print(\"\\nenumerate()\")\n",
        "colors = [\"red\", \"green\", \"blue\"]\n",
        "for index, color in enumerate(colors):\n",
        "    print(f\"Color {index + 1}: {color}\")\n",
        "\n",
        "# two lists for zip()\n",
        "print(\"\\nzip()\")\n",
        "names = [\"Alice\", \"Bob\", \"Charlie\"]\n",
        "ages = [25, 30, 35]\n",
        "for name, age in zip(names, ages):\n",
        "    print(f\"{name} is {age} years old\")\n",
        "\n",
        "# list for reversed()\n",
        "print(\"\\nreversed()\")\n",
        "numbers = [1, 2, 3, 4, 5]\n",
        "for num in reversed(numbers):\n",
        "    print(num, end=\" \")\n",
        "print()  # New line\n",
        "\n",
        "# list for sorted()\n",
        "print(\"\\nsorted()\")\n",
        "unsorted = [3, 1, 4, 1, 5, 9, 2]\n",
        "sorted_list = sorted(unsorted)\n",
        "print(\"Original:\", unsorted)\n",
        "print(\"Sorted:\", sorted_list)"
      ],
      "metadata": {
        "colab": {
          "base_uri": "https://localhost:8080/"
        },
        "id": "3pwZ9HH5l7i7",
        "outputId": "4058ea83-3264-491b-f914-f693069a6f75"
      },
      "execution_count": null,
      "outputs": [
        {
          "output_type": "stream",
          "name": "stdout",
          "text": [
            "items()\n",
            "We have 3 apple(s)\n",
            "We have 2 banana(s)\n",
            "We have 5 cherry(s)\n",
            "\n",
            "enumerate()\n",
            "Color 1: red\n",
            "Color 2: green\n",
            "Color 3: blue\n",
            "\n",
            "zip()\n",
            "Alice is 25 years old\n",
            "Bob is 30 years old\n",
            "Charlie is 35 years old\n",
            "\n",
            "reversed()\n",
            "5 4 3 2 1 \n",
            "\n",
            "sorted()\n",
            "Original: [3, 1, 4, 1, 5, 9, 2]\n",
            "Sorted: [1, 1, 2, 3, 4, 5, 9]\n"
          ]
        }
      ]
    },
    {
      "cell_type": "markdown",
      "source": [
        "#Chapter 6: Modules and Packages"
      ],
      "metadata": {
        "id": "KmM00xGNyVZ_"
      }
    },
    {
      "cell_type": "markdown",
      "source": [
        "####Modules"
      ],
      "metadata": {
        "id": "tVuQ5KIh-lwJ"
      }
    },
    {
      "cell_type": "markdown",
      "source": [
        "Python modules are files containing Python code, typically with a .py extension. They serve as a way to organize and reuse code by grouping related functions, classes, and variables. Modules have their own namespace, allowing for encapsulation and preventing naming conflicts."
      ],
      "metadata": {
        "id": "kJHbSIR8yWjM"
      }
    },
    {
      "cell_type": "markdown",
      "source": [
        "To use a module, you import it using the import statement:"
      ],
      "metadata": {
        "id": "GCyxvYlo6lKv"
      }
    },
    {
      "cell_type": "code",
      "source": [
        "import math\n",
        "print(math.pi)"
      ],
      "metadata": {
        "colab": {
          "base_uri": "https://localhost:8080/"
        },
        "id": "KuMVXpUC6lof",
        "outputId": "2e1896a9-c4cd-4c3d-a472-cae617cfabcb"
      },
      "execution_count": null,
      "outputs": [
        {
          "output_type": "stream",
          "name": "stdout",
          "text": [
            "3.141592653589793\n"
          ]
        }
      ]
    },
    {
      "cell_type": "markdown",
      "source": [
        "You can also import specific items from a module directly into your current namespace:"
      ],
      "metadata": {
        "id": "Hk0hz1lL6plo"
      }
    },
    {
      "cell_type": "code",
      "source": [
        "from random import randint\n",
        "print(randint(1, 10))"
      ],
      "metadata": {
        "colab": {
          "base_uri": "https://localhost:8080/"
        },
        "id": "aHDJaOao6p7j",
        "outputId": "0b402e2b-d269-4c42-b9a0-92a60ddb16f6"
      },
      "execution_count": null,
      "outputs": [
        {
          "output_type": "stream",
          "name": "stdout",
          "text": [
            "7\n"
          ]
        }
      ]
    },
    {
      "cell_type": "markdown",
      "source": [
        "Python modules have a dual nature: they can function both as reusable libraries and as standalone scripts.\n",
        "<br>\n",
        "This flexibility is achieved through the use of the special variable `__name__`. When a Python file is run directly, `__name__` is set to \"`__main__`\". When it's imported as a module, `__name__` is set to the module's name."
      ],
      "metadata": {
        "id": "pA3hfCNv6w5e"
      }
    },
    {
      "cell_type": "markdown",
      "source": [
        "Python first checks if the module is a built-in module.\n",
        "<br>\n",
        "These are modules that are compiled into the Python interpreter and are listed in `sys.builtin_module_names`.\n",
        "<br>\n",
        "If not a built-in module, Python searches for a file named `<module_name>.py` in the directories listed in `sys.path`. This list is initialized from several sources:\n",
        "<br>\n",
        "- The directory containing the input script\n",
        "- The `PYTHONPATH` environment variable\n",
        "- Installation-dependent default locations, including the `site-packages` directory"
      ],
      "metadata": {
        "id": "hTkzj95K6-du"
      }
    },
    {
      "cell_type": "markdown",
      "source": [
        "Compiled modules are stored in a `__pycache__` directory.\n",
        "<br>\n",
        "The naming convention for cached files is `module.version.pyc`, where version encodes the Python version and compilation format."
      ],
      "metadata": {
        "id": "wHjCokL_7n57"
      }
    },
    {
      "cell_type": "markdown",
      "source": [
        "####Standard Modules"
      ],
      "metadata": {
        "id": "lIYpMTA777MH"
      }
    },
    {
      "cell_type": "markdown",
      "source": [
        "Python's standard library is a collection of modules that come pre-installed with Python. This library is a key feature of Python. It provides a wide range of functionalities without requiring additional installations."
      ],
      "metadata": {
        "id": "wq5KKPsi8bg4"
      }
    },
    {
      "cell_type": "markdown",
      "source": [
        "The `dir()` function returns a sorted list of strings that is used to find out which names a module defines.\n",
        "<br>\n",
        "Without arguments, dir() lists the names you have defined currently"
      ],
      "metadata": {
        "id": "bcfAyk7I8tiU"
      }
    },
    {
      "cell_type": "code",
      "source": [
        "import math\n",
        "dir(math)"
      ],
      "metadata": {
        "colab": {
          "base_uri": "https://localhost:8080/"
        },
        "id": "hxwekoPl83b_",
        "outputId": "2f277443-c512-4a29-8266-9e1ba46e42c3"
      },
      "execution_count": null,
      "outputs": [
        {
          "output_type": "execute_result",
          "data": {
            "text/plain": [
              "['__doc__',\n",
              " '__loader__',\n",
              " '__name__',\n",
              " '__package__',\n",
              " '__spec__',\n",
              " 'acos',\n",
              " 'acosh',\n",
              " 'asin',\n",
              " 'asinh',\n",
              " 'atan',\n",
              " 'atan2',\n",
              " 'atanh',\n",
              " 'ceil',\n",
              " 'comb',\n",
              " 'copysign',\n",
              " 'cos',\n",
              " 'cosh',\n",
              " 'degrees',\n",
              " 'dist',\n",
              " 'e',\n",
              " 'erf',\n",
              " 'erfc',\n",
              " 'exp',\n",
              " 'expm1',\n",
              " 'fabs',\n",
              " 'factorial',\n",
              " 'floor',\n",
              " 'fmod',\n",
              " 'frexp',\n",
              " 'fsum',\n",
              " 'gamma',\n",
              " 'gcd',\n",
              " 'hypot',\n",
              " 'inf',\n",
              " 'isclose',\n",
              " 'isfinite',\n",
              " 'isinf',\n",
              " 'isnan',\n",
              " 'isqrt',\n",
              " 'lcm',\n",
              " 'ldexp',\n",
              " 'lgamma',\n",
              " 'log',\n",
              " 'log10',\n",
              " 'log1p',\n",
              " 'log2',\n",
              " 'modf',\n",
              " 'nan',\n",
              " 'nextafter',\n",
              " 'perm',\n",
              " 'pi',\n",
              " 'pow',\n",
              " 'prod',\n",
              " 'radians',\n",
              " 'remainder',\n",
              " 'sin',\n",
              " 'sinh',\n",
              " 'sqrt',\n",
              " 'tan',\n",
              " 'tanh',\n",
              " 'tau',\n",
              " 'trunc',\n",
              " 'ulp']"
            ]
          },
          "metadata": {},
          "execution_count": 4
        }
      ]
    },
    {
      "cell_type": "markdown",
      "source": [
        "####Packages"
      ],
      "metadata": {
        "id": "pZ_6G4si9EQg"
      }
    },
    {
      "cell_type": "markdown",
      "source": [
        "Python packages are a way of organizing related modules into a directory hierarchy. They help in structuring large codebases and avoiding naming conflicts."
      ],
      "metadata": {
        "id": "9Isi4Awu9FwD"
      }
    },
    {
      "cell_type": "markdown",
      "source": [
        "You can create and use packages in this format:"
      ],
      "metadata": {
        "id": "lTXq-p3n9Z5Z"
      }
    },
    {
      "cell_type": "code",
      "source": [
        "# mypackage/module1.py\n",
        "def func1():\n",
        "    return \"This is func1 from module1\"\n",
        "\n",
        "# using package\n",
        "import mypackage.module1\n",
        "print(mypackage.module1.func1())\n",
        "\n",
        "# or\n",
        "from mypackage import module1\n",
        "print(module1.func1())"
      ],
      "metadata": {
        "id": "9OgYGI6a9q8f"
      },
      "execution_count": null,
      "outputs": []
    },
    {
      "cell_type": "markdown",
      "source": [
        "Importing `*` From a Package: By default, `from package import *` doesn't import all submodules.\n",
        "<br>\n",
        "You can define `__all__` in the package's `__init__.py` to specify what should be imported"
      ],
      "metadata": {
        "id": "VcZ3VzW59sZR"
      }
    },
    {
      "cell_type": "markdown",
      "source": [
        "You can use relative imports to refer to modules within the same package. This is called intra-package reference:"
      ],
      "metadata": {
        "id": "XK9SGE6l-AcY"
      }
    },
    {
      "cell_type": "code",
      "source": [
        "# mypackage/subpackage/module3.py\n",
        "from .. import module1\n",
        "from ..module2 import some_function"
      ],
      "metadata": {
        "id": "KshpnlWh-JGJ"
      },
      "execution_count": null,
      "outputs": []
    },
    {
      "cell_type": "markdown",
      "source": [
        "Python can import packages spread across multiple directories using the `PYTHONPATH` environment variable or by adding directories to sys.path:"
      ],
      "metadata": {
        "id": "3wEChZr4-U25"
      }
    },
    {
      "cell_type": "code",
      "source": [
        "import sys\n",
        "sys.path.append('/path/to/other/packages')\n",
        "import another_package"
      ],
      "metadata": {
        "id": "6uLO0u61-WOi"
      },
      "execution_count": null,
      "outputs": []
    },
    {
      "cell_type": "markdown",
      "source": [
        "#Chapter 7: Input and Output"
      ],
      "metadata": {
        "id": "3DlSuLmowi2G"
      }
    },
    {
      "cell_type": "markdown",
      "source": [
        "####Output Formatting"
      ],
      "metadata": {
        "id": "FETve_q-wnUS"
      }
    },
    {
      "cell_type": "markdown",
      "source": [
        "You can format string literals with `f` or `F` at the start of the quotations. You can write Python expressions within the string literal, enclosing them in `{` and `}`.\n",
        "<br>\n",
        "You can also use `str.format()` to format strings. However, this method requires a bit more effort."
      ],
      "metadata": {
        "id": "8S8Oz4m3wq1M"
      }
    },
    {
      "cell_type": "code",
      "source": [
        "name = \"Alex\"\n",
        "number = 42\n",
        "print(f\"Hello, {name}. Your favorite number is {number}.\") # format using f"
      ],
      "metadata": {
        "colab": {
          "base_uri": "https://localhost:8080/"
        },
        "id": "qy0YocAnxNuc",
        "outputId": "2d1da9b9-c5ef-482a-8e03-59b1d798bb8d"
      },
      "execution_count": null,
      "outputs": [
        {
          "output_type": "stream",
          "name": "stdout",
          "text": [
            "Hello, Alex. Your favorite number is 42.\n"
          ]
        }
      ]
    },
    {
      "cell_type": "code",
      "source": [
        "name = \"Alice\"\n",
        "age = 30\n",
        "height = 5.5\n",
        "\n",
        "print(\"My name is {}. I am {} years old and {} feet tall.\".format(name, age, height)) # format using str.format()"
      ],
      "metadata": {
        "colab": {
          "base_uri": "https://localhost:8080/"
        },
        "id": "mmoM6zm5xm6l",
        "outputId": "deaa7b23-3d68-4a8f-a248-766910b5248e"
      },
      "execution_count": null,
      "outputs": [
        {
          "output_type": "stream",
          "name": "stdout",
          "text": [
            "My name is Alice. I am 30 years old and 5.5 feet tall.\n"
          ]
        }
      ]
    },
    {
      "cell_type": "markdown",
      "source": [
        "You may use the functions `str()` and `repr()` to output a string representation of variables. Sometimes, `str()` will display a more user friendly view of it than `repr()`. For the most part, these two functions will display the same thing."
      ],
      "metadata": {
        "id": "ES5rUP_vyCkE"
      }
    },
    {
      "cell_type": "code",
      "source": [
        "name = \"Bob\"\n",
        "\n",
        "# using str()\n",
        "print(str(name))\n",
        "print(str(1/7))\n",
        "\n",
        "# using repr()\n",
        "print(repr(name))\n",
        "print(repr(1/7))"
      ],
      "metadata": {
        "colab": {
          "base_uri": "https://localhost:8080/"
        },
        "id": "8Oy52ci7yZrY",
        "outputId": "657d281a-2471-4254-8291-12d29bdfa561"
      },
      "execution_count": null,
      "outputs": [
        {
          "output_type": "stream",
          "name": "stdout",
          "text": [
            "Bob\n",
            "0.14285714285714285\n",
            "'Bob'\n",
            "0.14285714285714285\n"
          ]
        }
      ]
    },
    {
      "cell_type": "markdown",
      "source": [
        "Within the `{}` of these formatted string literals, you may use specifiers to further format the output of the variables being displayed. Some common specifiers include number of significant figures, width of the display, or text alignment.\n",
        "<br>\n",
        "For a more comprehensive list of syntax, refer to: https://docs.python.org/3/library/string.html#formatspec"
      ],
      "metadata": {
        "id": "bt0YYfZcy__z"
      }
    },
    {
      "cell_type": "code",
      "source": [
        "# specify number of sig figs\n",
        "pi = 3.14159\n",
        "formatted_string = \"The value of pi is approximately {:.2f}.\".format(pi)\n",
        "print(formatted_string)\n",
        "\n",
        "# specify width of display\n",
        "value = 123.456789\n",
        "formatted_string = \"Value: {0:.3f}\".format(value)  # 3 decimal places\n",
        "print(formatted_string)\n",
        "\n",
        "# specify textd alignment\n",
        "formatted_string = \"|{:<10}|{:^10}|{:>10}|\".format(\"left\", \"center\", \"right\")\n",
        "print(formatted_string)"
      ],
      "metadata": {
        "colab": {
          "base_uri": "https://localhost:8080/"
        },
        "id": "PCyWhOW2zZIk",
        "outputId": "f5c9d20e-468d-4233-9b3b-d42fb8000855"
      },
      "execution_count": null,
      "outputs": [
        {
          "output_type": "stream",
          "name": "stdout",
          "text": [
            "The value of pi is approximately 3.14.\n",
            "Value: 123.457\n",
            "|left      |  center  |     right|\n"
          ]
        }
      ]
    },
    {
      "cell_type": "markdown",
      "source": [
        "You may also utilize functions to manual format strings.\n",
        "<br>\n",
        "`str.rjust(width[, fillchar])`: right justifies a string of length *width*, filled with characters of *fillchar*\n",
        "<br>\n",
        "`str.ljust(width[, fillchar])`: left justifies a string of length *width*, filled with characters of *fillchar*\n",
        "<br>\n",
        "`str.center(width[, fillchar])`: rcenters a string of length *width*, filled with characters of *fillchar*\n",
        "<br>\n",
        "`str.zfill(width)`: pads a numeric string of length *width* with 0s."
      ],
      "metadata": {
        "id": "TCBAB4Gq0J-M"
      }
    },
    {
      "cell_type": "code",
      "source": [
        "text = \"Hello\"\n",
        "\n",
        "# rjust\n",
        "print(text.rjust(10))\n",
        "# ljust\n",
        "print(text.ljust(10))\n",
        "# center\n",
        "print(text.center(10))\n",
        "\n",
        "# zfill\n",
        "'12'.zfill(5)"
      ],
      "metadata": {
        "colab": {
          "base_uri": "https://localhost:8080/",
          "height": 87
        },
        "id": "23NgoON10VW-",
        "outputId": "f233939d-169c-491e-8760-862bcd614e73"
      },
      "execution_count": null,
      "outputs": [
        {
          "output_type": "stream",
          "name": "stdout",
          "text": [
            "     Hello\n",
            "Hello     \n",
            "  Hello   \n"
          ]
        },
        {
          "output_type": "execute_result",
          "data": {
            "text/plain": [
              "'00012'"
            ],
            "application/vnd.google.colaboratory.intrinsic+json": {
              "type": "string"
            }
          },
          "metadata": {},
          "execution_count": 12
        }
      ]
    },
    {
      "cell_type": "markdown",
      "source": [
        "There also exists printf style string formatting (much like in C), which in Python, has become a dated method.\n",
        "<br>\n",
        "This is done using the modulus `%` symbol."
      ],
      "metadata": {
        "id": "U3vdy70A1aTq"
      }
    },
    {
      "cell_type": "code",
      "source": [
        "name = \"Bob\"\n",
        "age = 25\n",
        "height = 5.9\n",
        "formatted_string = \"Name: %s, Age: %d, Height: %.1f ft\" % (name, age, height)\n",
        "print(formatted_string)"
      ],
      "metadata": {
        "colab": {
          "base_uri": "https://localhost:8080/"
        },
        "id": "hxZSzJXf1tOa",
        "outputId": "25e499e1-736d-4de9-c14e-717c7ceadd85"
      },
      "execution_count": null,
      "outputs": [
        {
          "output_type": "stream",
          "name": "stdout",
          "text": [
            "Name: Bob, Age: 25, Height: 5.9 ft\n"
          ]
        }
      ]
    },
    {
      "cell_type": "markdown",
      "source": [
        "####Reading and Writing Files"
      ],
      "metadata": {
        "id": "PAC67ARM131q"
      }
    },
    {
      "cell_type": "markdown",
      "source": [
        "The `open()` function returns a file object. This function is commonly used as such: `open(filename, mode, encoding=None)`\n",
        "<br>\n",
        "However, the official syntax is as follows:\n",
        "<br>\n",
        "`open(file, mode='r', buffering=-1, encoding=None, errors=None, newline=None, closefd=True, opener=None)`\n",
        "<br>\n",
        "<br>\n",
        "**file:** the string of the name of the file you want to open\n",
        "<br>\n",
        "**mode:**\n",
        "  - `'r'`: Read (default)\n",
        "  - `'w'`: Write (creates new file or truncates existing one)\n",
        "  - `'x'`: Exclusive Creation (fails if file already exists)\n",
        "  - `'a'`: Append/Write (appends at end of file)\n",
        "  - `'b'`: Binary Mode (used with other modes such as 'rb' or 'wb')\n",
        "  - `'t'`: Text Mode (default)\n",
        "  - `'+'`: Updating (reading and writing, it must be combined with another mode (e.g., 'r+', 'w+', or 'a+'))\n",
        "\n",
        "Using the `with` keyword for file operations is a best practice because it ensures that the file is automatically closed after its block of code finishes, even if an exception occurs."
      ],
      "metadata": {
        "id": "JLU3Px4A1496"
      }
    },
    {
      "cell_type": "code",
      "source": [
        "f = open('workfile', 'w', encoding = \"utf-8\") # create/open file\n",
        "\n",
        "with open('workfile', encoding = \"utf-8\") as f:\n",
        "    read_data = f.read() # read into file\n",
        "\n",
        "f.closed # check if closed"
      ],
      "metadata": {
        "colab": {
          "base_uri": "https://localhost:8080/"
        },
        "id": "8ESmj77b3vBo",
        "outputId": "37d4b09f-acc3-4a22-c672-aef0f15a8ecc"
      },
      "execution_count": null,
      "outputs": [
        {
          "output_type": "execute_result",
          "data": {
            "text/plain": [
              "True"
            ]
          },
          "metadata": {},
          "execution_count": 42
        }
      ]
    },
    {
      "cell_type": "markdown",
      "source": [
        "You may close a file with `close()`. In this example, the `f` file object has already been created, so we would use `f.close()`\n",
        "<br>\n",
        "Attempting to use the file object will automatically fail if it is closed."
      ],
      "metadata": {
        "id": "X9srL9BG4KdZ"
      }
    },
    {
      "cell_type": "markdown",
      "source": [
        "Assuming the `f` file object has been created, you may use `f.read(size)` to read the file's contents.\n",
        "<br>\n",
        "`f.readline()` reads a single line from the file.\n",
        "<br>\n",
        "`list(f)` or `f.readlines()` will read all the lines from the file.\n",
        "<br>\n",
        "To write to the file, you may use `f.write(string)`"
      ],
      "metadata": {
        "id": "iSm73fY-4jka"
      }
    },
    {
      "cell_type": "markdown",
      "source": [
        "The `f.tell()` method returns the current position of the file object in bytes from the beginning of the file when in binary mode. In text mode, it returns an opaque number representing the current position.\n",
        "<br>\n",
        "You may use this opaque number in `f.seek(offset, whence)` to change the file object's position.\n",
        "<br>\n",
        "The new position is calculated by adding the offset to a reference point specified by the whence argument. A whence value of 0 refers to the beginning of the file, 1 refers to the current position, and 2 refers to the end of the file. If whence is omitted, it defaults to 0, positioning from the beginning of the file."
      ],
      "metadata": {
        "id": "eGHbFI8d5THC"
      }
    },
    {
      "cell_type": "code",
      "source": [
        "# this following example is taken from https://docs.python.org/3/tutorial/inputoutput.html\n",
        "f = open('workfile', 'rb+') # open the file in binary read and write\n",
        "f.write(b'0123456789abcdef') # write to the file in binary\n",
        "print(f.seek(5)) # go to the 6th byte in the file\n",
        "print(f.read(1)) # read the value in the current position\n",
        "print(f.seek(-3, 2)) # go to the 3rd byte before the end\n",
        "print(f.read(1)) # read the value in the current position"
      ],
      "metadata": {
        "colab": {
          "base_uri": "https://localhost:8080/"
        },
        "id": "3OsKZacj5tA3",
        "outputId": "2902a8da-7d2d-4c57-bac0-d901b16ad22a"
      },
      "execution_count": null,
      "outputs": [
        {
          "output_type": "stream",
          "name": "stdout",
          "text": [
            "5\n",
            "b'5'\n",
            "13\n",
            "b'd'\n"
          ]
        }
      ]
    },
    {
      "cell_type": "markdown",
      "source": [
        "While strings are easily manipulated in files, numbers require conversion from strings using functions like `int()`. For more complex data types, such as nested lists and dictionaries, manual parsing and serialization can be cumbersome.\n",
        "<br>\n",
        "To simplify this, Python provides the json module, which allows you to serialize Python data structures into JSON format and deserialize them back. This is useful for saving data to files or sending it over a network."
      ],
      "metadata": {
        "id": "0RlQ_ETr6T2U"
      }
    },
    {
      "cell_type": "markdown",
      "source": [
        "`dumps(object, file, **kwargs)`: Serializes a Python object and writes it directly to a file-like object\n",
        "<br>\n",
        "`dump(object, **kwargs)`: Serializes a Python object and returns it as a JSON-formatted string\n",
        "<br>\n",
        "`load(file, **kwargs)`: Reads JSON data from a file-like object and converts it into a Python object"
      ],
      "metadata": {
        "id": "f571w4sp6ugx"
      }
    },
    {
      "cell_type": "markdown",
      "source": [
        "JSON files must be encoded in UTF-8."
      ],
      "metadata": {
        "id": "6Tu7epIW8s3O"
      }
    },
    {
      "cell_type": "code",
      "source": [
        "import json\n",
        "obj = [42, 'jeff', 'AZ']\n",
        "json.dumps(obj) # dumps"
      ],
      "metadata": {
        "colab": {
          "base_uri": "https://localhost:8080/",
          "height": 35
        },
        "id": "hWJj59NK6lQ0",
        "outputId": "53616bf4-3c6f-4d4a-86c2-5eed287a81fd"
      },
      "execution_count": null,
      "outputs": [
        {
          "output_type": "execute_result",
          "data": {
            "text/plain": [
              "'[42, \"jeff\", \"AZ\"]'"
            ],
            "application/vnd.google.colaboratory.intrinsic+json": {
              "type": "string"
            }
          },
          "metadata": {},
          "execution_count": 34
        }
      ]
    },
    {
      "cell_type": "code",
      "source": [
        "f = open('data.json', 'w', encoding = \"utf-8\")\n",
        "json.dump(obj, f) # dump into file\n",
        "f.close()"
      ],
      "metadata": {
        "id": "GnRO061F7V_v"
      },
      "execution_count": null,
      "outputs": []
    },
    {
      "cell_type": "code",
      "source": [
        "f = open('data.json', 'r', encoding = \"utf-8\")\n",
        "obj = json.load(f)\n",
        "print(obj)"
      ],
      "metadata": {
        "colab": {
          "base_uri": "https://localhost:8080/"
        },
        "id": "j22TxgyG7wBr",
        "outputId": "f1832bdc-74a3-4180-c753-1429dfe522ad"
      },
      "execution_count": null,
      "outputs": [
        {
          "output_type": "stream",
          "name": "stdout",
          "text": [
            "[42, 'jeff', 'AZ']\n"
          ]
        }
      ]
    },
    {
      "cell_type": "markdown",
      "source": [
        "#Chapter 8: Errors and Exceptions"
      ],
      "metadata": {
        "id": "LkcWjUuobjUS"
      }
    },
    {
      "cell_type": "markdown",
      "source": [
        "####Syntax Errors"
      ],
      "metadata": {
        "id": "TXn0eIq7bl3P"
      }
    },
    {
      "cell_type": "markdown",
      "source": [
        "Syntax errors, also known as parsing errors, occur when the written code fails to follow the rules of the Python language. These may also be caused by the absence of a token before the indicated line of error."
      ],
      "metadata": {
        "id": "z1J7vN1-bnBi"
      }
    },
    {
      "cell_type": "markdown",
      "source": [
        "####Exceptions"
      ],
      "metadata": {
        "id": "Oul2gdsZb9yU"
      }
    },
    {
      "cell_type": "markdown",
      "source": [
        "Exceptions occur when executed code fails, even if syntax is correct.\n",
        "<br>\n",
        "Some exceptions include:"
      ],
      "metadata": {
        "id": "ARWpgnRwb_FI"
      }
    },
    {
      "cell_type": "code",
      "source": [
        "1/0 # ZeroDivisionError"
      ],
      "metadata": {
        "colab": {
          "base_uri": "https://localhost:8080/",
          "height": 141
        },
        "id": "qzWKsGxZcSB0",
        "outputId": "419ce15e-c8f5-4ade-f1fc-fa06e9fabb53"
      },
      "execution_count": null,
      "outputs": [
        {
          "output_type": "error",
          "ename": "ZeroDivisionError",
          "evalue": "division by zero",
          "traceback": [
            "\u001b[0;31m---------------------------------------------------------------------------\u001b[0m",
            "\u001b[0;31mZeroDivisionError\u001b[0m                         Traceback (most recent call last)",
            "\u001b[0;32m<ipython-input-1-e64cc3a92e82>\u001b[0m in \u001b[0;36m<cell line: 1>\u001b[0;34m()\u001b[0m\n\u001b[0;32m----> 1\u001b[0;31m \u001b[0;36m1\u001b[0m\u001b[0;34m/\u001b[0m\u001b[0;36m0\u001b[0m \u001b[0;31m# ZeroDivisionError\u001b[0m\u001b[0;34m\u001b[0m\u001b[0;34m\u001b[0m\u001b[0m\n\u001b[0m",
            "\u001b[0;31mZeroDivisionError\u001b[0m: division by zero"
          ]
        }
      ]
    },
    {
      "cell_type": "code",
      "source": [
        "2 + joe # NameError"
      ],
      "metadata": {
        "colab": {
          "base_uri": "https://localhost:8080/",
          "height": 141
        },
        "id": "UgtNapK1cV7S",
        "outputId": "ad0120d3-de44-4335-ff68-15ca1c5be9fd"
      },
      "execution_count": null,
      "outputs": [
        {
          "output_type": "error",
          "ename": "NameError",
          "evalue": "name 'joe' is not defined",
          "traceback": [
            "\u001b[0;31m---------------------------------------------------------------------------\u001b[0m",
            "\u001b[0;31mNameError\u001b[0m                                 Traceback (most recent call last)",
            "\u001b[0;32m<ipython-input-2-0d42a53715d7>\u001b[0m in \u001b[0;36m<cell line: 1>\u001b[0;34m()\u001b[0m\n\u001b[0;32m----> 1\u001b[0;31m \u001b[0;36m2\u001b[0m \u001b[0;34m+\u001b[0m \u001b[0mjoe\u001b[0m \u001b[0;31m# NameError\u001b[0m\u001b[0;34m\u001b[0m\u001b[0;34m\u001b[0m\u001b[0m\n\u001b[0m",
            "\u001b[0;31mNameError\u001b[0m: name 'joe' is not defined"
          ]
        }
      ]
    },
    {
      "cell_type": "code",
      "source": [
        "'2' + 2 # TypeError"
      ],
      "metadata": {
        "colab": {
          "base_uri": "https://localhost:8080/",
          "height": 141
        },
        "id": "8dFfHtAqcahQ",
        "outputId": "72286ce9-03a1-4a74-b1df-399c7601fb8f"
      },
      "execution_count": null,
      "outputs": [
        {
          "output_type": "error",
          "ename": "TypeError",
          "evalue": "can only concatenate str (not \"int\") to str",
          "traceback": [
            "\u001b[0;31m---------------------------------------------------------------------------\u001b[0m",
            "\u001b[0;31mTypeError\u001b[0m                                 Traceback (most recent call last)",
            "\u001b[0;32m<ipython-input-3-597fdb1f8a6b>\u001b[0m in \u001b[0;36m<cell line: 1>\u001b[0;34m()\u001b[0m\n\u001b[0;32m----> 1\u001b[0;31m \u001b[0;34m'2'\u001b[0m \u001b[0;34m+\u001b[0m \u001b[0;36m2\u001b[0m \u001b[0;31m# TypeError\u001b[0m\u001b[0;34m\u001b[0m\u001b[0;34m\u001b[0m\u001b[0m\n\u001b[0m",
            "\u001b[0;31mTypeError\u001b[0m: can only concatenate str (not \"int\") to str"
          ]
        }
      ]
    },
    {
      "cell_type": "markdown",
      "source": [
        "####Handling Exceptions"
      ],
      "metadata": {
        "id": "_uzAhUC-cc_r"
      }
    },
    {
      "cell_type": "markdown",
      "source": [
        "You may write code to handle exceptions so the program does not fail.\n",
        "<br>\n",
        "You may use a `try` statement to handle these exceptions."
      ],
      "metadata": {
        "id": "M7RtxV5kce3E"
      }
    },
    {
      "cell_type": "code",
      "source": [
        "while True:\n",
        "  try:\n",
        "    x = int(input(\"Enter a number: \"))\n",
        "    break\n",
        "  except ValueError:\n",
        "    print(\"Number invalid!\")"
      ],
      "metadata": {
        "colab": {
          "base_uri": "https://localhost:8080/"
        },
        "id": "ORDKfGpOcu8d",
        "outputId": "1c6741bb-5538-4672-9537-65a990f1ec14"
      },
      "execution_count": null,
      "outputs": [
        {
          "name": "stdout",
          "output_type": "stream",
          "text": [
            "Enter a number: 2\n"
          ]
        }
      ]
    },
    {
      "cell_type": "markdown",
      "source": [
        "In the above case, if the user fails to input a value of type int, they will be presented with \"Number invalid!\" and prompted to input a value again. This prevents the program from crashing out from the exception generated by an incorrect input type."
      ],
      "metadata": {
        "id": "EOsKt40Tc6XC"
      }
    },
    {
      "cell_type": "markdown",
      "source": [
        "The try statement works like this:\n",
        "<br>\n",
        "- The code in the try block is executed first.\n",
        "<br>\n",
        "- If no exceptions occur, the except block is skipped.\n",
        "<br>\n",
        "- If an exception occurs, the rest of the try block is skipped.\n",
        "  - If the exception matches the one specified in the except block, that block is executed, and then the program continues after the try/except block.\n",
        "<br>\n",
        "- If the exception does not match, it is passed to outer try statements and if no handler is found, it results in an unhandled exception, stopping execution and showing an error message."
      ],
      "metadata": {
        "id": "-nD5sZT4dJ2t"
      }
    },
    {
      "cell_type": "markdown",
      "source": [
        "You may have more than one except clause. However, at most one handler will be executed."
      ],
      "metadata": {
        "id": "rrCEdrrEdcK-"
      }
    },
    {
      "cell_type": "markdown",
      "source": [
        "`BaseException` is the base class for all exceptions, while `Exception` is its subclass for non-fatal exceptions.\n",
        "<br>\n",
        "Exceptions not derived from `Exception`, like `SystemExit` and `KeyboardInterrupt`, indicate that the program should terminate. Although `Exception` can catch almost all exceptions, it's best practice to specify the exception types you want to handle and let unexpected exceptions propagate."
      ],
      "metadata": {
        "id": "Et1GQvHUdq-n"
      }
    },
    {
      "cell_type": "markdown",
      "source": [
        "The try, except statement has an optional else clause. This else clause must follow all except clauses."
      ],
      "metadata": {
        "id": "WpFdwKbqeBYI"
      }
    },
    {
      "cell_type": "markdown",
      "source": [
        "####Raising Exceptions"
      ],
      "metadata": {
        "id": "wOzhneT1eKnR"
      }
    },
    {
      "cell_type": "markdown",
      "source": [
        "The `raise` statement forces a specific exception to occur, or raise."
      ],
      "metadata": {
        "id": "HNsWbrfbeL56"
      }
    },
    {
      "cell_type": "code",
      "source": [
        "raise NameError('Hello World!')"
      ],
      "metadata": {
        "colab": {
          "base_uri": "https://localhost:8080/",
          "height": 141
        },
        "id": "7nFE58ueeTH_",
        "outputId": "f21191e4-f9aa-434d-fb53-aa7af46acc03"
      },
      "execution_count": null,
      "outputs": [
        {
          "output_type": "error",
          "ename": "NameError",
          "evalue": "Hello World!",
          "traceback": [
            "\u001b[0;31m---------------------------------------------------------------------------\u001b[0m",
            "\u001b[0;31mNameError\u001b[0m                                 Traceback (most recent call last)",
            "\u001b[0;32m<ipython-input-8-621f5af03998>\u001b[0m in \u001b[0;36m<cell line: 1>\u001b[0;34m()\u001b[0m\n\u001b[0;32m----> 1\u001b[0;31m \u001b[0;32mraise\u001b[0m \u001b[0mNameError\u001b[0m\u001b[0;34m(\u001b[0m\u001b[0;34m'Hello World!'\u001b[0m\u001b[0;34m)\u001b[0m\u001b[0;34m\u001b[0m\u001b[0;34m\u001b[0m\u001b[0m\n\u001b[0m",
            "\u001b[0;31mNameError\u001b[0m: Hello World!"
          ]
        }
      ]
    },
    {
      "cell_type": "markdown",
      "source": [
        "####User-defined Exceptions"
      ],
      "metadata": {
        "id": "X56BBwHFefNQ"
      }
    },
    {
      "cell_type": "markdown",
      "source": [
        "You may define your own exceptions by creating new exception classes. These should be derived from the `Exception` class."
      ],
      "metadata": {
        "id": "SKvqXfSyen0K"
      }
    },
    {
      "cell_type": "markdown",
      "source": [
        "####Clean-up Actions"
      ],
      "metadata": {
        "id": "7NYND6Abezaw"
      }
    },
    {
      "cell_type": "markdown",
      "source": [
        "Disclaimer: several of these features are available in python version 3.11, and not the current colab python version 3.10.12"
      ],
      "metadata": {
        "id": "_8AunfSEZhzl"
      }
    },
    {
      "cell_type": "markdown",
      "source": [
        "Try-Finally Statements:\n",
        "- The finally clause in a `try` statement executes under all circumstances.\n",
        "- It runs whether an exception occurs or not, and even if an exception is not handled.\n",
        "- Useful for cleanup actions like closing files or network connections."
      ],
      "metadata": {
        "id": "JDV4QN7eWMMe"
      }
    },
    {
      "cell_type": "code",
      "source": [
        "try:\n",
        "    # operation\n",
        "    raise KeyboardInterrupt\n",
        "finally:\n",
        "    print('Cleanup action')"
      ],
      "metadata": {
        "colab": {
          "base_uri": "https://localhost:8080/",
          "height": 228
        },
        "id": "6n7V_qkpW0tE",
        "outputId": "98680380-77d2-400e-ba8b-b20a0625904a"
      },
      "execution_count": null,
      "outputs": [
        {
          "output_type": "stream",
          "name": "stdout",
          "text": [
            "Cleanup action\n"
          ]
        },
        {
          "output_type": "error",
          "ename": "KeyboardInterrupt",
          "evalue": "",
          "traceback": [
            "\u001b[0;31m---------------------------------------------------------------------------\u001b[0m",
            "\u001b[0;31mKeyboardInterrupt\u001b[0m                         Traceback (most recent call last)",
            "\u001b[0;32m<ipython-input-1-dace7cdfac58>\u001b[0m in \u001b[0;36m<cell line: 1>\u001b[0;34m()\u001b[0m\n\u001b[1;32m      1\u001b[0m \u001b[0;32mtry\u001b[0m\u001b[0;34m:\u001b[0m\u001b[0;34m\u001b[0m\u001b[0;34m\u001b[0m\u001b[0m\n\u001b[1;32m      2\u001b[0m     \u001b[0;31m# operation\u001b[0m\u001b[0;34m\u001b[0m\u001b[0;34m\u001b[0m\u001b[0m\n\u001b[0;32m----> 3\u001b[0;31m     \u001b[0;32mraise\u001b[0m \u001b[0mKeyboardInterrupt\u001b[0m\u001b[0;34m\u001b[0m\u001b[0;34m\u001b[0m\u001b[0m\n\u001b[0m\u001b[1;32m      4\u001b[0m \u001b[0;32mfinally\u001b[0m\u001b[0;34m:\u001b[0m\u001b[0;34m\u001b[0m\u001b[0;34m\u001b[0m\u001b[0m\n\u001b[1;32m      5\u001b[0m     \u001b[0mprint\u001b[0m\u001b[0;34m(\u001b[0m\u001b[0;34m'Cleanup action'\u001b[0m\u001b[0;34m)\u001b[0m\u001b[0;34m\u001b[0m\u001b[0;34m\u001b[0m\u001b[0m\n",
            "\u001b[0;31mKeyboardInterrupt\u001b[0m: "
          ]
        }
      ]
    },
    {
      "cell_type": "markdown",
      "source": [
        "If a `finally` clause includes a return statement, its value overrides any return from the `try` clause."
      ],
      "metadata": {
        "id": "x4Se2PQEW-y9"
      }
    },
    {
      "cell_type": "code",
      "source": [
        "def example():\n",
        "    try:\n",
        "        return True\n",
        "    finally:\n",
        "        return False\n",
        "\n",
        "print(example())"
      ],
      "metadata": {
        "colab": {
          "base_uri": "https://localhost:8080/"
        },
        "id": "0NE_3LDJW_vT",
        "outputId": "d301e9e4-c71a-4096-dfe3-6c5eae442666"
      },
      "execution_count": null,
      "outputs": [
        {
          "output_type": "stream",
          "name": "stdout",
          "text": [
            "False\n"
          ]
        }
      ]
    },
    {
      "cell_type": "markdown",
      "source": [
        "`with` statements provide a clean way to handle resources that require cleanup.\n",
        "and automatically handle cleanup actions, even if exceptions occur."
      ],
      "metadata": {
        "id": "fYy8SpC8XIOO"
      }
    },
    {
      "cell_type": "markdown",
      "source": [
        "Exception Groups allow raising and handling multiple exceptions simultaneously.\n",
        "They are useful in concurrent programming or when collecting multiple errors.\n",
        "<br>\n",
        "<br>\n",
        "Selective Exception Handling:\n",
        "- Use except* to handle specific types of exceptions within an ExceptionGroup.\n",
        "- ther exceptions in the group will propagate if not caught."
      ],
      "metadata": {
        "id": "MQFrVAnWXZUs"
      }
    },
    {
      "cell_type": "markdown",
      "source": [
        "####Exception Notes"
      ],
      "metadata": {
        "id": "K9E_LaM2X-dR"
      }
    },
    {
      "cell_type": "markdown",
      "source": [
        "Using the method `add_note(note)`, you can add notes in the form of strings to your exceptions. This can provide useful contextual information for your exceptions."
      ],
      "metadata": {
        "id": "1Bp-KQZ-X_85"
      }
    },
    {
      "cell_type": "code",
      "source": [
        "!python3 --version"
      ],
      "metadata": {
        "colab": {
          "base_uri": "https://localhost:8080/"
        },
        "id": "fH8NQs9BY_3Z",
        "outputId": "b275f225-cfa7-4bc7-b111-2a9d87ec6d2c"
      },
      "execution_count": null,
      "outputs": [
        {
          "output_type": "stream",
          "name": "stdout",
          "text": [
            "Python 3.10.12\n"
          ]
        }
      ]
    },
    {
      "cell_type": "code",
      "source": [
        "# this example only works in python 3.11, as add_note is not supported in 3.10.12\n",
        "def divide(a, b):\n",
        "    try:\n",
        "        result = a / b\n",
        "        return result\n",
        "    except ZeroDivisionError as e:\n",
        "        e.add_note(f\"Attempted to divide {a} by zero\")\n",
        "        raise\n",
        "\n",
        "try:\n",
        "    result = divide(10, 0)\n",
        "except ZeroDivisionError as e:\n",
        "    print(f\"Error: {e}\")\n",
        "    print(\"Additional information:\")\n",
        "    print(e.__notes__[0])"
      ],
      "metadata": {
        "id": "iYK__aXyZX8_"
      },
      "execution_count": null,
      "outputs": []
    },
    {
      "cell_type": "markdown",
      "source": [
        "#Chapter 9: Classes"
      ],
      "metadata": {
        "id": "FmhsBY_cMhvJ"
      }
    },
    {
      "cell_type": "markdown",
      "source": [
        "####Scopes and Namespaces"
      ],
      "metadata": {
        "id": "wO2xJYW2MjBY"
      }
    },
    {
      "cell_type": "markdown",
      "source": [
        "A namespace is a mapping from names to objects.\n",
        "<br>\n",
        "Local namespaces for a function are created when the function is called and they are deleted when the functions either returns or raises an unhandled exception.\n",
        "<br>\n",
        "A scope is a region of a program where a namespace can be accessed directly.\n",
        "Global scope refers to the outermost level of a Python program or module. Variables defined at this level are called global variables and can be accessed from anywhere within the module. Local scope is created when a function is called. Each function call creates a new local scope. Variables defined within a function are local to that function and can only be accessed within it.\n",
        "<br>\n",
        "Assignments do not copy data, they merely bind names to objects. This also applies to `del`."
      ],
      "metadata": {
        "id": "Eaht3EIdMq--"
      }
    },
    {
      "cell_type": "code",
      "source": [
        "# this example is taken from the docs.python.org website\n",
        "def scope_test():\n",
        "    def do_local():\n",
        "        spam = \"local spam\"\n",
        "\n",
        "    def do_nonlocal():\n",
        "        nonlocal spam\n",
        "        spam = \"nonlocal spam\"\n",
        "\n",
        "    def do_global():\n",
        "        global spam\n",
        "        spam = \"global spam\"\n",
        "\n",
        "    spam = \"test spam\"\n",
        "    do_local()\n",
        "    print(\"After local assignment:\", spam) # spam defaults to the locally defined spam\n",
        "    do_nonlocal()\n",
        "    print(\"After nonlocal assignment:\", spam) # spam is rebound to the nonlocal assignment in do_nonlocal()\n",
        "    do_global()\n",
        "    print(\"After global assignment:\", spam) # spam remains bound to the nonlocal assignment in do_nonlocal() as the global assignment does not affect the function's scope\n",
        "\n",
        "scope_test()\n",
        "print(\"In global scope:\", spam) # spam is rebound to the global assignment"
      ],
      "metadata": {
        "colab": {
          "base_uri": "https://localhost:8080/"
        },
        "id": "F6YTlReqPJiq",
        "outputId": "a1e1b3f2-54f8-4740-b97d-f8d82d55ee5e"
      },
      "execution_count": null,
      "outputs": [
        {
          "output_type": "stream",
          "name": "stdout",
          "text": [
            "After local assignment: test spam\n",
            "After nonlocal assignment: nonlocal spam\n",
            "After global assignment: nonlocal spam\n",
            "In global scope: global spam\n"
          ]
        }
      ]
    },
    {
      "cell_type": "markdown",
      "source": [
        "####More on Classes"
      ],
      "metadata": {
        "id": "GXvDK873Q1ft"
      }
    },
    {
      "cell_type": "markdown",
      "source": [
        "The most basic class definition is as follows:"
      ],
      "metadata": {
        "id": "59lC6NH-Q2nU"
      }
    },
    {
      "cell_type": "markdown",
      "source": [
        "```python\n",
        "class ClassName:\n",
        "    <statement-1>\n",
        "    .\n",
        "    .\n",
        "    .\n",
        "    <statement-N\n",
        "```"
      ],
      "metadata": {
        "id": "vCxHJgnsYTHX"
      }
    },
    {
      "cell_type": "markdown",
      "source": [
        "Class Objects and Attribute References:\n",
        "<br>\n",
        "Classes support attribute references using dot notation. Attributes can be data or methods defined in the class."
      ],
      "metadata": {
        "id": "sSEVwNl1RmVe"
      }
    },
    {
      "cell_type": "code",
      "source": [
        "class MyClass:\n",
        "    class_attribute = 42\n",
        "\n",
        "    def class_method(self):\n",
        "        return \"Hello from MyClass\"\n",
        "\n",
        "print(MyClass.class_attribute)\n",
        "print(MyClass.class_method)"
      ],
      "metadata": {
        "colab": {
          "base_uri": "https://localhost:8080/"
        },
        "id": "FZL5Rf9VSCe2",
        "outputId": "fe16e910-f15a-4dd6-c012-cd3156f663c9"
      },
      "execution_count": null,
      "outputs": [
        {
          "output_type": "stream",
          "name": "stdout",
          "text": [
            "42\n",
            "<function MyClass.class_method at 0x7f1b09ec4c10>\n"
          ]
        }
      ]
    },
    {
      "cell_type": "markdown",
      "source": [
        "Classes can be instantiated to create objects. This is done by calling the class as if it were a function."
      ],
      "metadata": {
        "id": "Nk5D94uWSHJI"
      }
    },
    {
      "cell_type": "code",
      "source": [
        "obj = MyClass()"
      ],
      "metadata": {
        "id": "KKNbBv_JSHpM"
      },
      "execution_count": null,
      "outputs": []
    },
    {
      "cell_type": "markdown",
      "source": [
        "The `__init__` method can be used to initialize new instances. It's called automatically when a new instance is created."
      ],
      "metadata": {
        "id": "BPzqTAlVSLmg"
      }
    },
    {
      "cell_type": "code",
      "source": [
        "class Person:\n",
        "    def __init__(self, name, age):\n",
        "        self.name = name\n",
        "        self.age = age\n",
        "\n",
        "# Creating an instance with initial values\n",
        "person = Person(\"Jeff\", 21)\n",
        "print(person.name, person.age)"
      ],
      "metadata": {
        "colab": {
          "base_uri": "https://localhost:8080/"
        },
        "id": "2maYB0-9STCI",
        "outputId": "5afc887b-6fce-4ffe-d047-eb790e0574d4"
      },
      "execution_count": null,
      "outputs": [
        {
          "output_type": "stream",
          "name": "stdout",
          "text": [
            "Jeff 21\n"
          ]
        }
      ]
    },
    {
      "cell_type": "markdown",
      "source": [
        "Class attributes are shared by all instances, while instance attributes are unique to each instance. However, if an attribute with the same name exists in both an instance and a class, attribute lookup gives precedence to the instance."
      ],
      "metadata": {
        "id": "Cig_kfZxSfyd"
      }
    },
    {
      "cell_type": "markdown",
      "source": [
        "####Inheritence"
      ],
      "metadata": {
        "id": "1nqCUK9BTlgS"
      }
    },
    {
      "cell_type": "markdown",
      "source": [
        "The most basic inheritence definition is as follows:"
      ],
      "metadata": {
        "id": "r0TgSSNKTniM"
      }
    },
    {
      "cell_type": "markdown",
      "source": [
        "```python\n",
        "class DerivedClassName(BaseClassName):\n",
        "    <statement-1>\n",
        "    .\n",
        "    .\n",
        "    .\n",
        "    <statement-N>\n",
        "```"
      ],
      "metadata": {
        "id": "pmGvHvr4YX0w"
      }
    },
    {
      "cell_type": "markdown",
      "source": [
        "The name `BaseClassName` must be defined in a namespace that is accessible from the scope where the derived class is defined.\n",
        "<br>\n",
        "When executed, attributes will be looked for in the derived class first. If they are unable to be found, the search will continue in the base class."
      ],
      "metadata": {
        "id": "C9eiSIPATwLm"
      }
    },
    {
      "cell_type": "markdown",
      "source": [
        "`isinstance()`: checks an instance's type. Will return as `True` only if `obj.__class__` is `int` or derived from `int`\n",
        "<br>\n",
        "`issubclass()`: checks class inheritence. Will return as `True` if the first argument is a subclass of the second"
      ],
      "metadata": {
        "id": "HtEvBMroURMP"
      }
    },
    {
      "cell_type": "markdown",
      "source": [
        "You may also have a class with multiple inheritance. This will be the same class definition as the derived class, except with commas separating the multiple base classes.\n",
        "<br>\n",
        "Inherited attributes are searched from left to right and depth first."
      ],
      "metadata": {
        "id": "8YT98kLXUn7d"
      }
    },
    {
      "cell_type": "markdown",
      "source": [
        "####Private Variables"
      ],
      "metadata": {
        "id": "8iBJ9b24VWCv"
      }
    },
    {
      "cell_type": "markdown",
      "source": [
        "Truly private instance variables do not exist.\n",
        "<br>\n",
        "Instead, there is a convention where names prefixed with a single underscore (`_`), are considered non-public.\n",
        "<br>\n",
        "For class-private members, Python uses name mangling. Identifiers with at least two leading underscores (`__`) and at most one trailing underscore are automatically renamed to include the class name. This helps to avoid conflicts with names in subclasses. This renaming follows the format `_classname__spam`."
      ],
      "metadata": {
        "id": "yKN34QCTVXM-"
      }
    },
    {
      "cell_type": "markdown",
      "source": [
        "####Iterators and Generators"
      ],
      "metadata": {
        "id": "nCDTbJSsV_8A"
      }
    },
    {
      "cell_type": "markdown",
      "source": [
        "You can use a for loop to iterate over many container objects like lists, tuples, dictionaries, strings, and file lines. This is convenient and unifies the way you access elements. Internally, the for loop calls `__iter__()` on the container, which returns an iterator object. This iterator has a `__next__()` method that retrieves elements one at a time and raises a StopIteration exception when no more elements are available."
      ],
      "metadata": {
        "id": "Ty7Vi3DFWQPu"
      }
    },
    {
      "cell_type": "code",
      "source": [
        "class EvenNumbers:\n",
        "    \"\"\"Iterator for generating even numbers starting from a given number.\"\"\"\n",
        "    def __init__(self, start):\n",
        "        self.current = start if start % 2 == 0 else start + 1  # start from the next even number\n",
        "\n",
        "    def __iter__(self):\n",
        "        return self\n",
        "\n",
        "    def __next__(self):\n",
        "        even_number = self.current\n",
        "        self.current += 2\n",
        "        return even_number\n",
        "\n",
        "evens = EvenNumbers(4)  # generate from 4\n",
        "\n",
        "for _ in range(5):  # print first 5 evens from 4\n",
        "    print(next(evens))"
      ],
      "metadata": {
        "colab": {
          "base_uri": "https://localhost:8080/"
        },
        "id": "2YCVQdwpW16K",
        "outputId": "dcabd542-52ad-4f92-d27d-6475e410b8eb"
      },
      "execution_count": null,
      "outputs": [
        {
          "output_type": "stream",
          "name": "stdout",
          "text": [
            "4\n",
            "6\n",
            "8\n",
            "10\n",
            "12\n"
          ]
        }
      ]
    },
    {
      "cell_type": "markdown",
      "source": [
        "Generators simplify the creation of iterators. They are regular functions using `yield` to return values. Each call to `next()` resumes the generator where it left off. With generators, the `__iter__()` and `__next__()` methods are automatically created. A `StopIteration` is raised at the end."
      ],
      "metadata": {
        "id": "7Qpe32IFW3Cf"
      }
    },
    {
      "cell_type": "code",
      "source": [
        "def evenNumbers(start):\n",
        "    \"\"\"Generator for generating even numbers starting from a given number.\"\"\"\n",
        "    if start % 2 != 0:\n",
        "        start += 1  # start from even\n",
        "    while True:\n",
        "        yield start\n",
        "        start += 2\n",
        "\n",
        "evens = evenNumbers(4)  # generate from 4\n",
        "\n",
        "for _ in range(5):  # print first 5 evens from 4\n",
        "    print(next(evens))"
      ],
      "metadata": {
        "colab": {
          "base_uri": "https://localhost:8080/"
        },
        "id": "Y89GgDZAXLn2",
        "outputId": "246eec8c-5b41-45df-aeeb-0e8a7cbc26c8"
      },
      "execution_count": null,
      "outputs": [
        {
          "output_type": "stream",
          "name": "stdout",
          "text": [
            "4\n",
            "6\n",
            "8\n",
            "10\n",
            "12\n"
          ]
        }
      ]
    },
    {
      "cell_type": "markdown",
      "source": [
        "#Chapter 10 and 11: Standard Library"
      ],
      "metadata": {
        "id": "m8gQjgXdgTPI"
      }
    },
    {
      "cell_type": "markdown",
      "source": [
        "Python offers an enormous amount of resources with its libraries. Apart from its standard library, there are also a wide range of content with hundreds of thousands of programs, packages, and modules to explore.\n",
        "<br>\n",
        "A few key features within the standard library will be explored in the following two chapters."
      ],
      "metadata": {
        "id": "VAb1aVA7gWuO"
      }
    },
    {
      "cell_type": "markdown",
      "source": [
        "Operating System Interface:\n",
        "- the `os` module includes various functions for dealing with the operating system\n",
        "- `dir()` returns a list of all module functions\n",
        "- `help()` returns a manual of the module's docstrings\n",
        "\n",
        "File Wildcards:\n",
        "\n",
        "- the `glob` module assists in locating patterns to match file names.\n"
      ],
      "metadata": {
        "id": "8YjMLs6Rg-QI"
      }
    },
    {
      "cell_type": "code",
      "source": [
        "import glob\n",
        "\n",
        "# find all .txt files in the current directory\n",
        "text_files = glob.glob('*.txt')\n",
        "\n",
        "# find all .py files in the 'src' directory\n",
        "python_files = glob.glob('src/*.py')\n",
        "\n",
        "# find all files starting with 'data' in any subdirectory\n",
        "data_files = glob.glob('**/data*')"
      ],
      "metadata": {
        "id": "Vms6CKbhh_kp"
      },
      "execution_count": null,
      "outputs": []
    },
    {
      "cell_type": "markdown",
      "source": [
        "Command Line and Environment:\n",
        "-  The `sys` module in Python provides various functions and variables that are used to manipulate different parts of the Python runtime environment.\n",
        "- `sys.argv` is a list containing the command-line arguments passed to the script.\n",
        "\n",
        "Standard I/O streams:\n",
        "- `sys.stdin`: standard input\n",
        "- `sys.stdout`: standard output\n",
        "- `sys.stderr`: standard error output\n",
        "- `sys.exit()` can be used to exit the Python interpreter.\n",
        "- `sys.path` is a list of strings that specifies the search path for modules."
      ],
      "metadata": {
        "id": "EXDL2MSLiLnZ"
      }
    },
    {
      "cell_type": "markdown",
      "source": [
        "String Pattern Matching:\n",
        "- the `re` module in python features regex (regular expression) tools to process strings.\n",
        "- This differs from `glob` in the sense that `re` is more focused on general string manipulation and more complex matching\n",
        "\n",
        "Internet Access:\n",
        "- `urllib.request` is a module for retriveing data from URLs\n",
        "- `smtplib` is a module for sending mail\n",
        "\n",
        "Date and Time:\n",
        "- the `datetime` module has a plethora of classes for manipulating all things date and time\n",
        "\n",
        "Data Compression:\n",
        "- there are several modules available for data archiving and compression\n",
        "- `zlib`, `gzip`, `bz2`, `lzma`, `zipfile`, `tarfile`\n",
        "\n",
        "Performance Measurement:\n",
        "- the `timeit` module can be used to time certain actions within python"
      ],
      "metadata": {
        "id": "2KTr3iHJjXJR"
      }
    },
    {
      "cell_type": "markdown",
      "source": [
        "Output Formatting:\n",
        "- the `pprint` (pretty printer) module grants more control over printing\n",
        "- the `textwrap` module formats paragraphs of text given certain criteria"
      ],
      "metadata": {
        "id": "y7Isx4hFkVPc"
      }
    },
    {
      "cell_type": "code",
      "source": [
        "from pprint import pprint\n",
        "\n",
        "records = [\n",
        "    {'id': 1, 'name': 'Alice', 'age': 30},\n",
        "    {'id': 2, 'name': 'Bob', 'age': 25},\n",
        "    {'id': 3, 'name': 'Charlie', 'age': 35}\n",
        "]\n",
        "\n",
        "print(records)\n",
        "pprint(records)"
      ],
      "metadata": {
        "colab": {
          "base_uri": "https://localhost:8080/"
        },
        "id": "abokQ523pzjg",
        "outputId": "fa3a3223-5f07-4d1f-b968-ae3201ec6e9a"
      },
      "execution_count": null,
      "outputs": [
        {
          "output_type": "stream",
          "name": "stdout",
          "text": [
            "[{'id': 1, 'name': 'Alice', 'age': 30}, {'id': 2, 'name': 'Bob', 'age': 25}, {'id': 3, 'name': 'Charlie', 'age': 35}]\n",
            "[{'age': 30, 'id': 1, 'name': 'Alice'},\n",
            " {'age': 25, 'id': 2, 'name': 'Bob'},\n",
            " {'age': 35, 'id': 3, 'name': 'Charlie'}]\n"
          ]
        }
      ]
    },
    {
      "cell_type": "code",
      "source": [
        "import textwrap\n",
        "\n",
        "paragraph = \"This is a very long sentence that we want to wrap into multiple lines so that each line is not too wide.\"\n",
        "wrapped_text = textwrap.wrap(paragraph, width=20)\n",
        "\n",
        "for line in wrapped_text:\n",
        "    print(line)"
      ],
      "metadata": {
        "colab": {
          "base_uri": "https://localhost:8080/"
        },
        "id": "0GfdrMBMp4gr",
        "outputId": "ef0c9195-148b-4fb6-ab04-44fa58720ff8"
      },
      "execution_count": null,
      "outputs": [
        {
          "output_type": "stream",
          "name": "stdout",
          "text": [
            "This is a very long\n",
            "sentence that we\n",
            "want to wrap into\n",
            "multiple lines so\n",
            "that each line is\n",
            "not too wide.\n"
          ]
        }
      ]
    },
    {
      "cell_type": "markdown",
      "source": [
        "Binary Data Record Layouts:\n",
        "- The `struct` module in Python provides functionality to work with binary data, particularly for packing and unpacking C-style data structures."
      ],
      "metadata": {
        "id": "Gzu9A-gBp9oP"
      }
    },
    {
      "cell_type": "code",
      "source": [
        "import struct\n",
        "\n",
        "# pack an integer and a float into binary format\n",
        "packed_data = struct.pack('if', 42, 3.14)\n",
        "print(packed_data)\n",
        "\n",
        "# unpack the previously packed binary data\n",
        "unpacked_data = struct.unpack('if', packed_data)\n",
        "print(unpacked_data)"
      ],
      "metadata": {
        "colab": {
          "base_uri": "https://localhost:8080/"
        },
        "id": "wRhGrdfDqKCu",
        "outputId": "98a4cb4f-0afe-4f05-c697-283230951f08"
      },
      "execution_count": null,
      "outputs": [
        {
          "output_type": "stream",
          "name": "stdout",
          "text": [
            "b'*\\x00\\x00\\x00\\xc3\\xf5H@'\n",
            "(42, 3.140000104904175)\n"
          ]
        }
      ]
    },
    {
      "cell_type": "markdown",
      "source": [
        "Logging:\n",
        "- the `logging` module enables users to access an extremely flexible logging system\n",
        "- by default, log messages suppressed and sent to `sys.stderr`\n",
        "- you may have them to a file instead or routed through various outlets"
      ],
      "metadata": {
        "id": "Uc80IUcoqWh3"
      }
    },
    {
      "cell_type": "code",
      "source": [
        "import logging\n",
        "\n",
        "# configure\n",
        "logging.basicConfig(level=logging.DEBUG,\n",
        "                    format='%(asctime)s - %(levelname)s - %(message)s')\n",
        "\n",
        "logging.debug('This is a debug message.')\n",
        "logging.info('This is an info message.')\n",
        "logging.warning('This is a warning message.')\n",
        "logging.error('This is an error message.')\n",
        "logging.critical('This is a critical message.')"
      ],
      "metadata": {
        "colab": {
          "base_uri": "https://localhost:8080/"
        },
        "id": "nFYvz8_KqvDv",
        "outputId": "c7d73a07-31e6-46fc-f9c0-e467615bdca6"
      },
      "execution_count": null,
      "outputs": [
        {
          "output_type": "stream",
          "name": "stderr",
          "text": [
            "WARNING:root:This is a warning message.\n",
            "ERROR:root:This is an error message.\n",
            "CRITICAL:root:This is a critical message.\n"
          ]
        }
      ]
    },
    {
      "cell_type": "markdown",
      "source": [
        "List tools:\n",
        "- the `array` module provides an object similar to a list, but instead stores data of the same type (homogenous data) in a more compact manner, saving space\n",
        "- the `collections` module provides the `deque` object, which is optimized for fast appends and pops\n",
        "- the `bisect` module provides functions for manipulating sorted lists\n",
        "- the `heapq` module provides functions for implementing heaps based on regular lists"
      ],
      "metadata": {
        "id": "hqODar3kq8bs"
      }
    },
    {
      "cell_type": "markdown",
      "source": [
        "Decimal Floating-Point Arithmetic:\n",
        "<br>\n",
        "The `decimal` module provides a `Decimal` datatype that offers several advantages over the built-in float type for certain types of calculations.\n",
        "<br>\n",
        "This includes:\n",
        "- exact decimal representation\n",
        "- controllable precision\n",
        "- customizable sig figs and tracking\n",
        "- consistency"
      ],
      "metadata": {
        "id": "W2slKGmdrven"
      }
    },
    {
      "cell_type": "code",
      "source": [
        "from decimal import Decimal, getcontext\n",
        "\n",
        "# set precision\n",
        "getcontext().prec = 4\n",
        "\n",
        "price = Decimal('4.22')\n",
        "tax_rate = Decimal('0.69')\n",
        "\n",
        "tax = price * tax_rate\n",
        "total = price + tax\n",
        "\n",
        "print(f\"Price: ${price}\")\n",
        "print(f\"Tax rate: {tax_rate:.1%}\")\n",
        "print(f\"Tax: ${tax}\")\n",
        "print(f\"Total: ${total}\")\n",
        "\n",
        "# precision control\n",
        "result = Decimal('1') / Decimal('3')\n",
        "print(f\"1/3 with 4-digit precision: {result}\")"
      ],
      "metadata": {
        "colab": {
          "base_uri": "https://localhost:8080/"
        },
        "id": "inq8OAlvsQmZ",
        "outputId": "7ec1a2cc-af26-4e7f-ec1c-9950f21659b2"
      },
      "execution_count": null,
      "outputs": [
        {
          "output_type": "stream",
          "name": "stdout",
          "text": [
            "Price: $4.22\n",
            "Tax rate: 69.0%\n",
            "Tax: $2.912\n",
            "Total: $7.132\n",
            "1/3 with 4-digit precision: 0.3333\n"
          ]
        }
      ]
    },
    {
      "cell_type": "markdown",
      "source": [
        "#Chapter 12: Virtual Environments and Packages"
      ],
      "metadata": {
        "id": "FTSLCdA3Ceh2"
      }
    },
    {
      "cell_type": "markdown",
      "source": [
        "Virtual environments in python are used to manage project dependencies and make sure that the environment is consistent.\n",
        "<br>\n",
        "To create a virtual environment in python, you may use the `venv` module and run the following command:\n",
        "<br>\n",
        "`python -m venv venv_name`\n",
        "<br>\n",
        "Afterwards, you may use `venv_name\\Scripts\\activate` to run it on windows, or `source venv_name/bin/activate` on MacOS.\n",
        "<br>\n",
        "<br>\n",
        "You can install and modify packages with `pip`. `pip` allows users to install, uninstall, or update packages within an environment. You may also specify the version number of packages to install.\n"
      ],
      "metadata": {
        "id": "zZ6uIQNGChCw"
      }
    },
    {
      "cell_type": "markdown",
      "source": [
        "Here are a few pip instructions:\n",
        "<br>\n",
        "`python -m pip install`: installs packages\n",
        "<br>\n",
        "`python -m pip uninstall`: uninstalls packages\n",
        "<br>\n",
        "`python -m pip show`: displays information about a specific package\n",
        "<br>\n",
        "`python -m pip list`: displays all installed packages within an environment\n",
        "<br>\n",
        "`python -m pip freeze`: similar to list, but with different output format"
      ],
      "metadata": {
        "id": "w8kplPAiD44F"
      }
    },
    {
      "cell_type": "markdown",
      "source": [
        "#Floating-Point Arithmetic Nuances"
      ],
      "metadata": {
        "id": "vutuqe2wEdAb"
      }
    },
    {
      "cell_type": "markdown",
      "source": [
        "Computers use binary (base 2) fractions to represent decimal numbers.\n",
        "However, many decimal fractions cannot be exactly represented as binary fractions. This leads to approximations being made.\n",
        "<br>\n",
        "In python, there exists these approximations, which lead to precision issues.\n",
        "For example, values like 0.1 and 1/3 can not be exactly represented in binary.\n",
        "Python typically displays a rounded version of the actual stored binary approximation.\n",
        "<br>\n",
        "The consequences of this are that operations like `0.1 + 0.1 + 0.1` may not equal exactly `0.3`.\n",
        "Furthermore, equality comparisons with floating-point numbers can be unreliable.\n",
        "<br>\n",
        "To mitigate some of these issues, python employs a series of fixes. For example, using string formatting to limit the displayed decimal places, or\n",
        "providing `math.isclose()` for approximate equality comparisons.\n",
        "<br>\n",
        "Python also offers the `decimal` and `fractions` modules for exact arithmetic."
      ],
      "metadata": {
        "id": "ks8AD9wfEhDB"
      }
    }
  ]
}